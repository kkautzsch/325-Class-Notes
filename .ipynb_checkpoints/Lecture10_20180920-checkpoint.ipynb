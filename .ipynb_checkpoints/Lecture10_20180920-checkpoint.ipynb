{
 "cells": [
  {
   "cell_type": "markdown",
   "metadata": {},
   "source": [
    "# PHYS 325 Scientific Computing -- Fall 2018"
   ]
  },
  {
   "cell_type": "markdown",
   "metadata": {},
   "source": [
    "### Announcements\n",
    "\n",
    "- no labs this week => Software Carpentry Workshop on Friday\n",
    "- exams:\n",
    "    - Thursday, September 27, 10:30am, instead of lecture\n",
    "    - Thursday, October 25, 10:30am, instead of lecture (planned)\n",
    "    - Thursday, November 29, 10:30am, instead of lecture (planned)\n",
    "- final project presentation: Thursday, December 13, 9:30-11:30 (finals slot)"
   ]
  },
  {
   "cell_type": "code",
   "execution_count": 35,
   "metadata": {},
   "outputs": [
    {
     "data": {
      "image/png": "[encoded data removed]",
      "text/plain": [
       "<Figure size 432x288 with 1 Axes>"
      ]
     },
     "metadata": {},
     "output_type": "display_data"
    }
   ],
   "source": [
    "import numpy as np\n",
    "import matplotlib.pyplot as plt\n",
    "\n",
    "x = np.arange(-2.0, 2.5, 0.01)\n",
    "\n",
    "plt.plot(x, 2 - np.exp(-x), label=r'$2-e^{-x}$')\n",
    "plt.plot(x, x, label='x')\n",
    "plt.xlabel(\"x\")\n",
    "plt.legend(loc='upper left', fontsize=16, labelspacing=0.3)\n",
    "\n",
    "plt.show()"
   ]
  },
  {
   "cell_type": "code",
   "execution_count": 36,
   "metadata": {},
   "outputs": [
    {
     "name": "stdout",
     "output_type": "stream",
     "text": [
      "Bisection converged to  -1.146193220600253  after  35  iterations\n"
     ]
    }
   ],
   "source": [
    "from numpy import exp, sign\n",
    "\n",
    "def f(x):\n",
    "    return 2 - exp(-x) - x\n",
    "\n",
    "a = -2\n",
    "b = 0\n",
    "counter = 0\n",
    "accuracy = 1e-10\n",
    "\n",
    "if( sign(f(a)) != sign(f(b)) ):\n",
    "    while(abs(a-b) > accuracy):\n",
    "        counter += 1\n",
    "        midpoint = (a+b)/2\n",
    "        if( sign(f(midpoint)) == sign(f(a)) ):\n",
    "            a = midpoint\n",
    "        else:\n",
    "            b = midpoint\n",
    "            \n",
    "print(\"Bisection converged to \", (a+b)/2, \" after \", counter, \" iterations\")"
   ]
  },
  {
   "cell_type": "markdown",
   "metadata": {},
   "source": [
    "### Newton's method\n",
    "\n",
    "(also called Newton-Raphson method)\n",
    "\n",
    "![Newton's method](images/newton.png)\n",
    "\n",
    "**Idea**: Taylor expansion around the root\n",
    "\n",
    "$$f(x+\\delta) = 0 = f(x) + f'(x)\\delta + \\mathcal{O}(\\delta^2)$$\n",
    "\n",
    "For small $\\delta$:\n",
    "\n",
    "$$\\delta\\approx-\\frac{f(x)}{f'(x)}$$\n",
    "\n",
    "- faster than relaxation and bisection methods\n",
    "- can be generalized to many variables\n",
    "- usually finds root nearest to starting point (great method to refine roots)\n",
    "<br><br>\n",
    "- need to know the function's derivative\n",
    "- numerical derivatives possible, but reduce efficiency and may lead to roundoff errors\n",
    "<br><br>\n",
    "- problems near extrema (derivative zero)\n",
    "- might enter an infinite cycle\n",
    "- poor global convergence, but can be combined with bisection"
   ]
  },
  {
   "cell_type": "code",
   "execution_count": 1,
   "metadata": {},
   "outputs": [
    {
     "name": "stdout",
     "output_type": "stream",
     "text": [
      "Newton's method converged to  -1.1461932206205825  after  6  iterations\n"
     ]
    }
   ],
   "source": [
    "from numpy import exp, sign\n",
    "\n",
    "def f(x):\n",
    "    return 2 - exp(-x) - x\n",
    "\n",
    "def deriv(x):\n",
    "    return exp(-x) - 1\n",
    "\n",
    "x = -2\n",
    "compare_x = 1000\n",
    "counter = 0\n",
    "accuracy = 1e-10\n",
    "\n",
    "while(abs(x-compare_x) > accuracy):\n",
    "    counter += 1\n",
    "    compare_x = x\n",
    "    x = x - f(x)/deriv(x)\n",
    "            \n",
    "print(\"Newton's method converged to \", x, \" after \", counter, \" iterations\")"
   ]
  },
  {
   "cell_type": "markdown",
   "metadata": {},
   "source": [
    "Newton's method converges *quadratically* rather than linearly:\n",
    "\n",
    "$$\n",
    "\\begin{array}{lll}\n",
    "f(x^*) = & 0 &= f(x_n) + (x^*-x_n)f'(x_n) +(x^*-x_n)^2 \\frac{f''(x_n)}{2} + \\ldots\\\\\n",
    "\\Rightarrow & 0 &= \\frac{f(x_n)}{f'(x_n)}+ (x^*-x_n)+\\frac{1}{2}(x^*-x_n)^2 \\frac{f''(x_n)}{f'(x_n)}\n",
    "\\end{array}\n",
    "$$\n",
    "\n",
    "With the Newton formula\n",
    "\n",
    "$$x_{n+1}=x_n-\\frac{f(x_n)}{f'(x_n)}$$\n",
    "\n",
    "we get\n",
    "\n",
    "$$\n",
    "0 = \\underbrace{(x^*-x_{n+1})}_{-\\varepsilon_{n+1}} \\ +\\frac{1}{2}\\ \\underbrace{(x^*-x_n)^2}_{\\varepsilon_n^2}\\ \\frac{f''(x_n)}{f'(x_n)}\n",
    "$$\n",
    "\n",
    "$$\n",
    "\\Rightarrow \\varepsilon_{n+1} \\propto \\varepsilon_n^2\n",
    "$$\n",
    "\n",
    "Near a root, the number of significant digits approximately **doubles**"
   ]
  },
  {
   "cell_type": "markdown",
   "metadata": {},
   "source": [
    "More methods (explained nicely in \"Numerical Recipes\"):\n",
    "\n",
    "- [secant method](https://en.wikipedia.org/wiki/Secant_method): like Newton's method but with differences instead of derivatives\n",
    "- [Broyden's method](https://en.wikipedia.org/wiki/Broyden%27s_method): generalization of the secant method to more than one dimension\n",
    "- [false position (or regula falsi)](https://en.wikipedia.org/wiki/False_position_method): combination of bisection and secant method\n",
    "- [Ridder's method](https://en.wikipedia.org/wiki/Ridders%27_method): powerful variant of false position\n",
    "- [Brent's method](https://en.wikipedia.org/wiki/Brent%27s_method): combination of the bisection method, the secant method and inverse quadratic interpolation\n",
    "- [Laguerre's method](https://en.wikipedia.org/wiki/Laguerre%27s_method): taylored to polynomials"
   ]
  },
  {
   "cell_type": "markdown",
   "metadata": {},
   "source": [
    "Which method to choose? (according to \"Numerical Recipes\")\n",
    "\n",
    "- When you cannot easily compute the derivative:\n",
    "     - Brent's algorithm: method of choice to find a bracketed root of a general 1d function\n",
    "     - Ridder's method is a close competitor\n",
    "- When you can compute the derivative: \n",
    "     - after bracketing, combine Newton's method with bisection or similar\n",
    "- Roots of polynomials:\n",
    "     - beware that some polynomials are ill-conditioned! (small coefficient changes => large effects)\n",
    "     - Laguerre's method is recommended as a starting point\n",
    "- Multidimensional problems: \n",
    "     - the only elementary method is Newton, which works very well if you can supply a good first guess of the solution \n",
    "     - if Newton's method fails: there are more advanced and complicated, but globally more convergent, alternatives\n",
    "     - more dimensions are harder because we cannot \"trap\" the solution (it can escape via other dimensions)\n",
    "\n",
    "Example in 2d: $f(x,y) = g(x,y) = 0$\n",
    "\n",
    "![Nonlinear multidimensional systems](images/nonlinear_multidim_color.png)\n",
    "\n",
    "Image adapted from *\"Numerical Recipes in C\"*\n",
    "\n",
    "If the two functions $f$ and $g$ are unrelated to each other, so are their \"contour lines\" $f=0$ and $g=0$\n",
    "\n",
    "=> we need to map out the full zero contour lines in order to find all common roots\n",
    "\n",
    "This becomes much harder the more dimensions we have!\n",
    "\n",
    "### Newton's method for more than one variable\n",
    "\n",
    "Several equations for several variables:\n",
    "\n",
    "$$\n",
    "\\left.\\begin{array}{lll}\n",
    "f_1(x_1,\\ldots x_N) &=& 0\\\\\n",
    " & \\vdots & \\\\\n",
    "f_N(x_1,\\ldots x_N) &=& 0\n",
    "\\end{array}\\right\\}\n",
    "\\mathbf{f}(\\mathbf{x}) = 0\n",
    "$$\n",
    "\n",
    "Taylor expand around root $\\mathbf{x}^*\\equiv (x^*_1,\\ldots,x^*_N)$:\n",
    "\n",
    "$$\n",
    "0 = \\mathbf{f}(\\mathbf{x}^*) = \\mathbf{f}(\\mathbf{x}) + \\nabla\\mathbf{f}\\cdot(\\mathbf{x}^*-\\mathbf{x})+\\ldots,\n",
    "$$\n",
    "\n",
    "where\n",
    "\n",
    "$$\n",
    "\\nabla\\mathbf{f} = \\begin{pmatrix}\n",
    "\\frac{\\partial f_1}{\\partial x_1} & \\ldots & \\frac{\\partial f_1}{\\partial x_N}\\\\\n",
    "\\vdots & & \\vdots \\\\\n",
    "\\frac{\\partial f_N}{\\partial x_1} & \\ldots & \\frac{\\partial f_N}{\\partial x_N}\n",
    "\\end{pmatrix}\n",
    "$$\n",
    "\n",
    "This is also called the [Jacobian matrix](https://en.wikipedia.org/wiki/Jacobian_matrix_and_determinant) (in this case evaluated at $\\mathbf{x}^*$)\n",
    "\n",
    "This is just a set of linear equations for $\\Delta\\mathbf{x}\\equiv \\mathbf{x}-\\mathbf{x}^*$:\n",
    "\n",
    "$$\n",
    "\\nabla\\mathbf{f}\\cdot\\Delta\\mathbf{x} = \\mathbf{f}(\\mathbf{x})\n",
    "$$\n",
    "\n",
    "Algorithm:\n",
    "- choose starting point vector $\\mathbf{x}$\n",
    "- calculate $\\mathbf{f}$ and $\\nabla\\mathbf{f}$ at this vector\n",
    "- solve linear system (see previous lectures) for $\\Delta\\mathbf{x}$\n",
    "- update vector $\\mathbf{x}'=\\mathbf{x}-\\Delta\\mathbf{x}$\n",
    "- repeat until desired accuracy\n",
    "\n",
    "### SciPy [optimize](https://docs.scipy.org/doc/scipy/reference/optimize.html) library"
   ]
  },
  {
   "cell_type": "code",
   "execution_count": 3,
   "metadata": {},
   "outputs": [
    {
     "name": "stdout",
     "output_type": "stream",
     "text": [
      "-1.1461932206202619\n",
      "-1.1461932206205825\n"
     ]
    }
   ],
   "source": [
    "import scipy as sp\n",
    "import scipy.optimize as opt\n",
    "\n",
    "def f(x):\n",
    "    return 2 - sp.exp(-x) - x\n",
    "\n",
    "f0 = opt.bisect(f, -2, 0)           # starting interval [-2,0]\n",
    "f1 = opt.newton(f, -2)              # starting point -2\n",
    "\n",
    "print(f0)\n",
    "print(f1)"
   ]
  },
  {
   "cell_type": "code",
   "execution_count": 4,
   "metadata": {},
   "outputs": [
    {
     "ename": "ValueError",
     "evalue": "f(a) and f(b) must have different signs",
     "output_type": "error",
     "traceback": [
      "\u001b[0;31m---------------------------------------------------------------------------\u001b[0m",
      "\u001b[0;31mValueError\u001b[0m                                Traceback (most recent call last)",
      "\u001b[0;32m<ipython-input-4-9a8edf718a7c>\u001b[0m in \u001b[0;36m<module>\u001b[0;34m()\u001b[0m\n\u001b[0;32m----> 1\u001b[0;31m \u001b[0mf0\u001b[0m \u001b[0;34m=\u001b[0m \u001b[0mopt\u001b[0m\u001b[0;34m.\u001b[0m\u001b[0mbisect\u001b[0m\u001b[0;34m(\u001b[0m\u001b[0mf\u001b[0m\u001b[0;34m,\u001b[0m \u001b[0;34m-\u001b[0m\u001b[0;36m2\u001b[0m\u001b[0;34m,\u001b[0m \u001b[0;36m2\u001b[0m\u001b[0;34m)\u001b[0m           \u001b[0;31m# must bracket root for bisection\u001b[0m\u001b[0;34m\u001b[0m\u001b[0m\n\u001b[0m",
      "\u001b[0;32m~/.virtualenvs/v3_newlibs/lib/python3.4/site-packages/scipy/optimize/zeros.py\u001b[0m in \u001b[0;36mbisect\u001b[0;34m(f, a, b, args, xtol, rtol, maxiter, full_output, disp)\u001b[0m\n\u001b[1;32m    285\u001b[0m     \u001b[0;32mif\u001b[0m \u001b[0mrtol\u001b[0m \u001b[0;34m<\u001b[0m \u001b[0m_rtol\u001b[0m\u001b[0;34m:\u001b[0m\u001b[0;34m\u001b[0m\u001b[0m\n\u001b[1;32m    286\u001b[0m         \u001b[0;32mraise\u001b[0m \u001b[0mValueError\u001b[0m\u001b[0;34m(\u001b[0m\u001b[0;34m\"rtol too small (%g < %g)\"\u001b[0m \u001b[0;34m%\u001b[0m \u001b[0;34m(\u001b[0m\u001b[0mrtol\u001b[0m\u001b[0;34m,\u001b[0m \u001b[0m_rtol\u001b[0m\u001b[0;34m)\u001b[0m\u001b[0;34m)\u001b[0m\u001b[0;34m\u001b[0m\u001b[0m\n\u001b[0;32m--> 287\u001b[0;31m     \u001b[0mr\u001b[0m \u001b[0;34m=\u001b[0m \u001b[0m_zeros\u001b[0m\u001b[0;34m.\u001b[0m\u001b[0m_bisect\u001b[0m\u001b[0;34m(\u001b[0m\u001b[0mf\u001b[0m\u001b[0;34m,\u001b[0m\u001b[0ma\u001b[0m\u001b[0;34m,\u001b[0m\u001b[0mb\u001b[0m\u001b[0;34m,\u001b[0m\u001b[0mxtol\u001b[0m\u001b[0;34m,\u001b[0m\u001b[0mrtol\u001b[0m\u001b[0;34m,\u001b[0m\u001b[0mmaxiter\u001b[0m\u001b[0;34m,\u001b[0m\u001b[0margs\u001b[0m\u001b[0;34m,\u001b[0m\u001b[0mfull_output\u001b[0m\u001b[0;34m,\u001b[0m\u001b[0mdisp\u001b[0m\u001b[0;34m)\u001b[0m\u001b[0;34m\u001b[0m\u001b[0m\n\u001b[0m\u001b[1;32m    288\u001b[0m     \u001b[0;32mreturn\u001b[0m \u001b[0mresults_c\u001b[0m\u001b[0;34m(\u001b[0m\u001b[0mfull_output\u001b[0m\u001b[0;34m,\u001b[0m \u001b[0mr\u001b[0m\u001b[0;34m)\u001b[0m\u001b[0;34m\u001b[0m\u001b[0m\n\u001b[1;32m    289\u001b[0m \u001b[0;34m\u001b[0m\u001b[0m\n",
      "\u001b[0;31mValueError\u001b[0m: f(a) and f(b) must have different signs"
     ]
    }
   ],
   "source": [
    "f0 = opt.bisect(f, -2, 2)           # must bracket root for bisection"
   ]
  },
  {
   "cell_type": "code",
   "execution_count": 7,
   "metadata": {},
   "outputs": [
    {
     "name": "stdout",
     "output_type": "stream",
     "text": [
      "     fun: array([ 1.14247340e-06, -5.14612966e-07])\n",
      " message: 'A solution was found at the specified tolerance.'\n",
      "     nit: 121\n",
      "  status: 1\n",
      " success: True\n",
      "       x: array([6.50409756, 0.90841404])\n"
     ]
    }
   ],
   "source": [
    "import numpy as np\n",
    "from scipy.optimize import root\n",
    "\n",
    "def f(x):\n",
    "    fun = [ x[0] * np.cos(x[1]) -4, x[0] * x[1] - x[1] - 5]\n",
    "    return fun\n",
    "\n",
    "x0 = np.array([1.,1.])\n",
    "\n",
    "res = root(f, x0, method='broyden1')    # Broyden method in 2d\n",
    "print(res)"
   ]
  },
  {
   "cell_type": "markdown",
   "metadata": {},
   "source": [
    "### Function optimization\n",
    "\n",
    "(finding the minimum/maximum of a function)\n",
    "\n",
    "In physics we often need minimization, for instance:\n",
    "\n",
    "- equilibrium problems (potential energy minimum)\n",
    "- quantum mechanical ground state (energy minimum)\n",
    "- minimization of the action, Fermat's principle\n",
    "- data fitting (linear least-squares)\n",
    "\n",
    "Minima | $\\leftrightarrow$ | Maxima\n",
    "-------|-------------------|----------\n",
    "$f(x)$ | $\\leftrightarrow$ | $-f(x)$\n",
    "\n",
    "Relation to root finding:\n",
    "\n",
    "$$\n",
    "\\frac{df}{dx} = 0\n",
    "$$\n",
    "\n",
    "But minimization problems are in general simpler:\n",
    "\n",
    "- might need the minimum of $f(x_1,\\ldots,x_N)$ with respect to several variables\n",
    "- but no analog to simultaneous equations in many variables\n",
    "\n",
    "There can be many maxima and minima:"
   ]
  },
  {
   "cell_type": "code",
   "execution_count": 37,
   "metadata": {},
   "outputs": [
    {
     "data": {
      "image/png": "[encoded data removed]",
      "text/plain": [
       "<Figure size 432x288 with 1 Axes>"
      ]
     },
     "metadata": {},
     "output_type": "display_data"
    }
   ],
   "source": [
    "import numpy as np\n",
    "import matplotlib.pyplot as plt\n",
    "from scipy.signal import argrelextrema\n",
    "\n",
    "def f(x):\n",
    "    return np.cos(2*np.pi*(x+0.1))*np.sin(3*np.pi*x)\n",
    "\n",
    "x = np.arange(0.0, 2.0, 0.01)\n",
    "y = f(x)\n",
    "\n",
    "localMaxima = argrelextrema(y, np.greater)[0]\n",
    "localMinima = argrelextrema(y, np.less)[0]\n",
    "\n",
    "plt.rcParams.update({'font.size': 14})\n",
    "\n",
    "plt.plot(x, y)\n",
    "plt.plot(x[localMaxima], f(x[localMaxima]), 'r.', markersize=10, label='local maxima')\n",
    "plt.plot(x[localMinima], f(x[localMinima]), 'g.', markersize=10, label='local minima')\n",
    "plt.plot(x[localMaxima[2]], f(x[localMaxima[2]]), 'k.', markersize=12)\n",
    "plt.plot(x[localMinima[4]], f(x[localMinima[4]]), 'k.', markersize=12)\n",
    "\n",
    "plt.xlabel(\"x\")\n",
    "plt.ylabel(\"f(x)\")\n",
    "plt.legend(loc='upper left', frameon=False, labelspacing=0.3)\n",
    "\n",
    "plt.annotate('global maximum', xy=(0.9, 0.9), xytext=(1.2, 0.9),\n",
    "             arrowprops=dict(arrowstyle=\"->\"),\n",
    "             )\n",
    "\n",
    "plt.annotate('global minimum', xy=(1.8, -1.0), xytext=(0.8, -1.2),\n",
    "             arrowprops=dict(arrowstyle=\"->\"),\n",
    "             )\n",
    "\n",
    "plt.xlim(0, 2)\n",
    "plt.ylim(-1.3, 1.9)\n",
    "plt.show()"
   ]
  },
  {
   "cell_type": "markdown",
   "metadata": {},
   "source": [
    "- there may be several global maxima/minima (but usually just one)\n",
    "- often interested in global minimum, e.g. ground state\n",
    "- local minima also interesting, e.g. metastable equilibrium\n",
    "- most methods are good at finding extrema, but cannot distinguish between local and global ones"
   ]
  }
 ],
 "metadata": {
  "kernelspec": {
   "display_name": "Python 3",
   "language": "python",
   "name": "python3"
  },
  "language_info": {
   "codemirror_mode": {
    "name": "ipython",
    "version": 3
   },
   "file_extension": ".py",
   "mimetype": "text/x-python",
   "name": "python",
   "nbconvert_exporter": "python",
   "pygments_lexer": "ipython3",
   "version": "3.6.5"
  }
 },
 "nbformat": 4,
 "nbformat_minor": 2
}
