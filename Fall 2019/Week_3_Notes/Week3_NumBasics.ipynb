{
 "cells": [
  {
   "cell_type": "markdown",
   "metadata": {
    "slideshow": {
     "slide_type": "-"
    }
   },
   "source": [
    "# PHYS 325 Scientific Computing -- Fall 2018"
   ]
  },
  {
   "cell_type": "markdown",
   "metadata": {},
   "source": [
    " ## 1.4 Numerical basics\n"
   ]
  },
  {
   "cell_type": "markdown",
   "metadata": {},
   "source": [
    "### 1.4.1 Algorithm\n",
    "\n",
    "=> a set of steps to be followed in calculations or other problem-solving operations, especially by a computer\n",
    "\n",
    "**Example:** scalar product $s$ of two vectors $\\mathbf{x}, \\mathbf{y}\\in\\mathbb{R}^N$\n",
    "\n",
    "- Mathematical expression: $$s=\\mathbf{x}\\cdot\\mathbf{y}=\\sum_{i=1}^Nx_iy_i$$\n",
    "- Algorithm in words:\n",
    "    - start at $s=0$\n",
    "    - for each element $i$ of the vectors $\\mathbf{x}$ and $\\mathbf{y}$:\n",
    "    - calculate $x_i$ times $y_i$\n",
    "    - add this product to $s$\n",
    "- Python code\n",
    "  ```python\n",
    "     s = 0\n",
    "     for i in range(len(x)):\n",
    "         s += x[i]*y[i]\n",
    "  ```"
   ]
  },
  {
   "cell_type": "markdown",
   "metadata": {},
   "source": [
    "### 1.4.2 Computational complexity\n",
    "\n",
    "When analyzing algorithms we are interested in\n",
    "- how much CPU time is required?\n",
    "- how much memory is required?\n",
    "- how big is the bandwidth (transfer of data)?\n",
    "\n",
    "> How do these numbers scale with the input size?\n",
    "\n",
    "**Example**: addition as taught in primary school\n",
    "$$\n",
    "\\begin{array}{lr}\n",
    " & 215\\\\\n",
    "+& 837\\\\\n",
    "\\hline\n",
    " & 1052\n",
    "\\end{array}\n",
    "$$\n",
    "\n",
    "- size of input: $n$ digits per input number\n",
    "- however there are also $n$ carry digits\n",
    "- so we have to perform $2n$ additions => linear scaling as function of input length\n",
    "> time required: $T(n) = 2n$\n",
    "\n",
    "**Example**: multiplication as taught in primary school\n",
    "$$\n",
    "\\begin{array}{lr}\n",
    " & 151\\\\\n",
    "\\times & 175\\\\\n",
    "\\hline\n",
    " & 755\\\\\n",
    "+ & 1057\\hphantom{0}\\\\\n",
    " & 151\\hphantom{00}\\\\\n",
    "\\hline\n",
    "& 26425\n",
    "\\end{array}\n",
    "$$\n",
    "\n",
    "- size of input: $n$ digits per input number\n",
    "- number of multiplications: $n\\cdot n = n^2$\n",
    "- number of additions: also proportional to $n^2$ => quadratic scaling as function of input length\n",
    "> time required: $T(n) = n^2 + an^2 = cn^2$\n",
    "\n",
    "Quadratic always beats linear for sufficiently large $n$:\n",
    "\n",
    "![quadratic vs linear scaling](images/quadratic_linear.png)\n",
    "\n",
    "- we are usually interested in the large $n$ behavior (asymptotic behavior)\n",
    "- but for small $n$ beware of the constant prefactor!\n",
    "\n",
    "$\\mathcal{O}(N)$ notation for time complexity\n",
    "- applies to algorithm, not specific machine or implementation\n",
    "- how long a job runs always depends on the computer\n",
    "\n",
    "Examples:\n",
    "\n",
    "$$\n",
    "\\begin{array}{rcl}\n",
    "n^2 &=& \\mathcal{O}(n^2)\\\\\n",
    "n^2 + 2n &=& \\mathcal{O}(n^2)\\\\\n",
    "n^2 + \\log(n) &=& \\mathcal{O}(n^2)\\\\\n",
    "5n^2 &=& \\mathcal{O}(n^2)\n",
    "\\end{array}\n",
    "$$\n",
    "\n",
    "assuming 10 GFlop (about 2.5 GHz processor) => one operation takes about 0.1 ns\n",
    "\n",
    "complexity | $N=10$ | $10^2$  | $10^3$   | $10^4$  | $10^5$ | $10^6$    \n",
    "-----------|--------|---------|----------|---------|--------|-----------\n",
    "1          | 0.1 ns | 0.1 ns  | 0.1 ns   | 0.1 ns  | 0.1 ns | 0.1 ns     \n",
    "log $N$    | 0.3 ns | 0.7 ns  | 1.0 ns   | 1.3 ns  | 1.7 ns | 2.0 ns    \n",
    "$N$        | 1 ns   | 10 ns   | 100 ns   | 1 μs    | 10 μs  | 0.1 ms    \n",
    "$N$log$N$  | 3.3 ns | 66.4 ns | 1 μs     | 13 μs   | 0.17 ms| 2 ms      \n",
    "$N^2$      | 10 ns  | 1 μs    | 0.1 ms   | 10 ms   | 1 s    | 1.7 min   \n",
    "$N^3$      | 0.1 μs | 0.1 ms  | 0.1 s    | 1.7 min | >1 day | >3 years  \n",
    "$2^N$      | 0.1 μs | $10^{12}$ years | $10^{283}$ years |        \n",
    "$N!$       | 0.4 ms | $10^{140}$ years |\n",
    " \n",
    "=> reducing the computational complexity when possible is crucial for efficiency!\n",
    "\n",
    "**Example**: Is matrix multiplication an $N^3$ process?\n",
    "<div style=\"text-align: right\"> based on Ch. 2.11 from \"Numerical Recipes in C\"</div>\n",
    "\n",
    "How many individual multiplications does it take to multiply two $2\\times 2$ matrices?\n",
    "\n",
    "$$\n",
    "\\begin{pmatrix}\n",
    "a_{11} & a_{12} \\\\\n",
    "a_{21} & a_{22}\n",
    "\\end{pmatrix}\\cdot\n",
    "\\begin{pmatrix}\n",
    "b_{11} & b_{12} \\\\\n",
    "b_{21} & b_{22}\n",
    "\\end{pmatrix}\n",
    "=\n",
    "\\begin{pmatrix}\n",
    "c_{11} & c_{12} \\\\\n",
    "c_{21} & c_{22}\n",
    "\\end{pmatrix}\n",
    "$$\n",
    "\n",
    "The straightforward answer is, of course, eight:\n",
    "\n",
    "$$\n",
    "\\begin{array}{rcl}\n",
    "c_{11} &=& a_{11}\\cdot b_{11} + a_{12}\\cdot b_{21}\\\\\n",
    "c_{12} &=& a_{11}\\cdot b_{12} + a_{12}\\cdot b_{22}\\\\\n",
    "c_{21} &=& a_{21}\\cdot b_{11} + a_{22}\\cdot b_{21}\\\\\n",
    "c_{22} &=& a_{21}\\cdot b_{12} + a_{22}\\cdot b_{22}\n",
    "\\end{array}\n",
    "$$\n",
    "\n",
    "Can one write formulas for the $c$'s that involve only *seven* multiplications?\n",
    "\n",
    "> Yes, as discovered by Volker Strassen [Strassen, V. 1969, Numerische Mathematik, vol. 13, pp. 354-356](https://link.springer.com/article/10.1007%2FBF02165411)\n",
    "\n",
    "$$\n",
    "\\begin{array}{rcl}\n",
    "Q_1 &=& (a_{11} + a_{22})\\cdot (b_{11} + b_{22})\\\\\n",
    "Q_2 &=& (a_{21} + a_{22})\\cdot b_{11}\\\\\n",
    "Q_3 &=& a_{11}\\cdot (b_{12} - b_{22})\\\\\n",
    "Q_4 &=& a_{22}\\cdot (-b_{11} + b_{21})\\\\\n",
    "Q_5 &=& (a_{11} + a_{12})\\cdot b_{22}\\\\\n",
    "Q_6 &=& (-a_{11} + a_{21})\\cdot (b_{11} + b_{12})\\\\\n",
    "Q_7 &=& (a_{12} - a_{22})\\cdot (b_{21} + b_{22})\n",
    "\\end{array}\n",
    "$$\n",
    "in terms of which\n",
    "$$\n",
    "\\begin{array}{rcl}\n",
    "c_{11} &=& Q_1 + Q_4 - Q_5 + Q_7\\\\\n",
    "c_{12} &=& Q_2 + Q_4\\\\\n",
    "c_{21} &=& Q_3 + Q_5\\\\\n",
    "c_{22} &=& Q_1 + Q_3 - Q_2 + Q_6\n",
    "\\end{array}\n",
    "$$\n",
    "\n",
    "What's the use of this?\n",
    "\n",
    "=> there are many more additions and subtractions instead!\n",
    "\n",
    "- these equations are valid also if the $a$'s and $b$'s are matrices\n",
    "- large $2^m\\times 2^m$ matrices can be multiplied by partitioning them into quarters, sixteenth, etc.\n",
    "- the savings \"7/8\" applies at **each** level of partitioning\n",
    "\n",
    "=> reduces the complexity to $\\mathcal{O}(N^{\\log_2 7})\\approx\\mathcal{O}(N^{2.8})$ instead of $\\mathcal{O}(N^3)$\n",
    "\n",
    "What is the fastest algorithm for matrix multiplication?\n",
    "\n",
    "> => still unsolved!\n",
    "\n",
    "<img src=\"images/Bound_on_matrix_multiplication_omega_over_time.jpg\" alt=\"matrix multiplication algorithms\" style=\"width: 500px;\"/>\n",
    "<br>\n",
    "<div style=\"text-align: center\"> Lowest $\\omega$ such that matrix multiplication is known to be in $\\mathcal{O}(n^\\omega)$, plotted against time<br>Image adapted from <a href=\"https://en.wikipedia.org/wiki/Matrix_multiplication_algorithm\">Wikipedia</a></div>\n",
    "\n",
    "This [wikipedia article](https://en.wikipedia.org/wiki/Computational_complexity_of_mathematical_operations) summarizes nicely the computational complexity of various algorithms for common mathematical operations.\n",
    "\n",
    "> => libraries help using the most efficient algorithms for common tasks\n",
    "\n",
    "**Complexity classes**\n",
    "\n",
    "P:$\\,\\ \\ \\ \\ \\ \\ \\ \\ \\ \\ \\ \\ \\ \\,$ solvable in polynomial time (\"easy\")<br>\n",
    "NP: $\\,\\ \\ \\ \\ \\ \\ \\ \\ \\ \\ \\ $ solution is verifiable in polynomial time (e.g. integer factorization as decision problem)<br>\n",
    "NP complete: the hardest problems in NP;<br> \n",
    "$\\ \\ \\ \\ \\ \\ \\ \\ \\ \\ \\ \\ \\ \\ \\ \\ \\ $ any other NP-problem can be reduced to them in\n",
    "polynomial time (e.g. traveling salesman)<br>\n",
    "NP hard: $\\ \\ \\ \\ \\ $ at least as hard as NP but not necessarily in NP (e.g. halting problem)<br><br>\n",
    "many other classes exist, e.g. EXPTIME\n",
    "\n",
    "<br>\n",
    "\n",
    "![complexity classes](images/PNP.png)\n",
    "\n",
    "<br>\n",
    "<div style=\"text-align: center\"> (simplified version; assuming deterministic computers and P ≠ NP)</div>\n",
    "\n",
    "\n",
    "**P vs. NP**:\n",
    "> If the solution to a problem is easy to check for correctness, must the problem be easy to solve?\n",
    "\n",
    "*If P=NP, then the world would be a profoundly different place than we usually assume it to be. There would be no special value in \"creative leaps,\" no fundamental gap between solving a problem and recognizing the solution once it's found. Everyone who could appreciate a symphony would be Mozart; everyone who could follow a step-by-step argument would be Gauss; everyone who could recognize a good investment strategy would be Warren Buffett.*\n",
    "\n",
    "Scott Aaronson in his [Blog](https://www.scottaaronson.com/blog/?p=122)"
   ]
  },
  {
   "cell_type": "markdown",
   "metadata": {},
   "source": [
    "### 1.4.3 Numerical roundoff\n",
    "\n",
    "On a computer, numbers are not \"exact\":"
   ]
  },
  {
   "cell_type": "code",
   "execution_count": null,
   "metadata": {},
   "outputs": [],
   "source": [
    "print('%.17f' % 0.1)"
   ]
  },
  {
   "cell_type": "markdown",
   "metadata": {},
   "source": [
    "=> nearest representable binary fraction\n",
    "\n",
    "\"Regular\" decimal fraction:\n",
    "\n",
    "$$\\frac{1}{8} = 0.125 = \\frac{1}{10} + \\frac{2}{100} + \\frac{5}{1000}$$\n",
    "\n",
    "Corresponding binary fraction:\n",
    "\n",
    "$$\\frac{1}{8} = 0.001 = \\frac{0}{2} + \\frac{0}{4} + \\frac{1}{8}$$\n",
    "\n",
    "- this is not a bug!\n",
    "- most decimal fractions cannot be represented exactly as binary fractions\n",
    "- this happens in all languages that support your hardware's floating point arithmetic\n",
    "- many languages do not display the difference by default\n",
    "\n",
    "$1/3 \\ \\ = 0.3333333333333\\ldots\\ \\Rightarrow$ infinite decimal fraction\n",
    "\n",
    "$1/10 = 0.0001100110011\\ldots\\ \\Rightarrow$ infinite binary fraction"
   ]
  },
  {
   "cell_type": "code",
   "execution_count": 1,
   "metadata": {},
   "outputs": [
    {
     "name": "stdout",
     "output_type": "stream",
     "text": [
      "0.5000000000000000000000000\n",
      "0.5100000000000000088817842\n"
     ]
    }
   ],
   "source": [
    "print('%.25f' % 0.5)\n",
    "print('%.25f' % 0.51)"
   ]
  },
  {
   "cell_type": "markdown",
   "metadata": {},
   "source": [
    "**Integers**: unlimited precision\n",
    "\n",
    "Binary representation:\n",
    "\n",
    "5 = 00000000 00000000 00000000 00000101\n",
    "\n",
    "- stored as 2-complement from $-2^{n-1}$ to $2^{n-1}-1$ (with $n=32$ or higher)\n",
    "- highest bit encodes the sign"
   ]
  },
  {
   "cell_type": "code",
   "execution_count": 3,
   "metadata": {},
   "outputs": [
    {
     "data": {
      "text/plain": [
       "9223372036854775807"
      ]
     },
     "execution_count": 3,
     "metadata": {},
     "output_type": "execute_result"
    }
   ],
   "source": [
    "import sys\n",
    "sys.maxsize"
   ]
  },
  {
   "cell_type": "markdown",
   "metadata": {},
   "source": [
    "(on my computer default 64bit representation)\n",
    "\n",
    "In Python 3, larger integers are automatically converted to long ints, which are limited only by total available memory:"
   ]
  },
  {
   "cell_type": "code",
   "execution_count": 6,
   "metadata": {},
   "outputs": [
    {
     "data": {
      "text/plain": [
       "114813069527425452423283320117768198402231770208869520047764273682576626139237031385665948631650626991844596463898746277344711896086305533142593135616665318539129989145312280000688779148240044871428926990063486244781615463646388363947317026040466353970904996558162398808944629605623311649536164221970332681344168908984458505602379484807914058900934776500429002716706625830522008132236281291761267883317206598995396418127021779858404042159853183251540889433902091920554957783589672039160081957216630582755380425583726015528348786419432054508915275783882625175435528800822842770817965453762184851149029376"
      ]
     },
     "execution_count": 6,
     "metadata": {},
     "output_type": "execute_result"
    }
   ],
   "source": [
    "2**2000"
   ]
  },
  {
   "cell_type": "code",
   "execution_count": 5,
   "metadata": {},
   "outputs": [
    {
     "ename": "OverflowError",
     "evalue": "int too large to convert to float",
     "output_type": "error",
     "traceback": [
      "\u001b[1;31m---------------------------------------------------------------------------\u001b[0m",
      "\u001b[1;31mOverflowError\u001b[0m                             Traceback (most recent call last)",
      "\u001b[1;32m<ipython-input-5-18679fbe8d2e>\u001b[0m in \u001b[0;36m<module>\u001b[1;34m\u001b[0m\n\u001b[1;32m----> 1\u001b[1;33m \u001b[0mfloat\u001b[0m\u001b[1;33m(\u001b[0m\u001b[1;36m2\u001b[0m\u001b[1;33m**\u001b[0m\u001b[1;36m2000\u001b[0m\u001b[1;33m)\u001b[0m\u001b[1;33m\u001b[0m\u001b[1;33m\u001b[0m\u001b[0m\n\u001b[0m",
      "\u001b[1;31mOverflowError\u001b[0m: int too large to convert to float"
     ]
    }
   ],
   "source": [
    "float(2**2000)"
   ]
  },
  {
   "cell_type": "markdown",
   "metadata": {},
   "source": [
    "**Floating points**: correspond to double precision in C\n",
    "\n",
    "![double precision floating point format](https://upload.wikimedia.org/wikipedia/commons/thumb/a/a9/IEEE_754_Double_Floating_Point_Format.svg/1000px-IEEE_754_Double_Floating_Point_Format.svg.png)\n",
    "\n",
    "_Image source:_ [wikipedia](https://en.wikipedia.org/wiki/Double-precision_floating-point_format)\n",
    "\n",
    "Corresponds to\n",
    "$$\n",
    "(-1)^{\\text{sign}}(1.b_{51}b_{50}...b_{0})_{2}\\times 2^{e-2^{10}+1}\n",
    "$$\n",
    "or equivalently\n",
    "$$\n",
    "(-1)^{\\text{sign}}\\left(1+\\sum _{i=1}^{52}b_{52-i}2^{-i}\\right)\\times 2^{e-2^{10}+1}\n",
    "$$\n",
    "\n",
    "- range: approximately $10^{-308}$ to $10^{308}$\n",
    "- machine precision (machine epsilon $\\varepsilon_m$): $2^{-52}\\approx 2.2\\cdot10^{-16}$\n",
    "- $\\varepsilon_m/2$ is the smallest relative gap between representable numbers\n",
    "- $\\varepsilon_m/2$ is **not** the smallest floating-point number that can be represented on a machine. That number depends on how many bits there are in the **exponent**, while $\\varepsilon_m$ depends on how many bits there are in the **mantissa** (the fraction part)."
   ]
  },
  {
   "cell_type": "code",
   "execution_count": 7,
   "metadata": {},
   "outputs": [
    {
     "data": {
      "text/plain": [
       "sys.float_info(max=1.7976931348623157e+308, max_exp=1024, max_10_exp=308, min=2.2250738585072014e-308, min_exp=-1021, min_10_exp=-307, dig=15, mant_dig=53, epsilon=2.220446049250313e-16, radix=2, rounds=1)"
      ]
     },
     "execution_count": 7,
     "metadata": {},
     "output_type": "execute_result"
    }
   ],
   "source": [
    "import sys\n",
    "sys.float_info"
   ]
  },
  {
   "cell_type": "code",
   "execution_count": 8,
   "metadata": {},
   "outputs": [
    {
     "name": "stdout",
     "output_type": "stream",
     "text": [
      "1.0000000000000000\n"
     ]
    }
   ],
   "source": [
    "smallNumber = 1.0+2.220446049250313e-16/2.\n",
    "print('%.16f' % smallNumber)"
   ]
  },
  {
   "cell_type": "code",
   "execution_count": 9,
   "metadata": {},
   "outputs": [
    {
     "name": "stdout",
     "output_type": "stream",
     "text": [
      "1.0000000000000002\n"
     ]
    }
   ],
   "source": [
    "smallNumber = 1.0+2.220446049250314e-16/2.\n",
    "print('%.16f' % smallNumber)"
   ]
  },
  {
   "cell_type": "markdown",
   "metadata": {},
   "source": [
    "Note that $\\varepsilon_m$ applies to **significant digits**:"
   ]
  },
  {
   "cell_type": "code",
   "execution_count": 10,
   "metadata": {},
   "outputs": [
    {
     "name": "stdout",
     "output_type": "stream",
     "text": [
      "1.0000000000000002\n",
      "10.0000000000000000\n"
     ]
    }
   ],
   "source": [
    "smallNumber = 1.0+2.220446049250314e-16/2.\n",
    "print('%.16f' % smallNumber)\n",
    "smallNumber = 10.0+2.220446049250314e-16/2.\n",
    "print('%.16f' % smallNumber)"
   ]
  },
  {
   "cell_type": "code",
   "execution_count": 11,
   "metadata": {},
   "outputs": [
    {
     "name": "stdout",
     "output_type": "stream",
     "text": [
      "10.0000000000000018\n"
     ]
    }
   ],
   "source": [
    "smallNumber = 10.0+22.20446049250314e-16/2.\n",
    "print('%.16f' % smallNumber)"
   ]
  },
  {
   "cell_type": "code",
   "execution_count": 12,
   "metadata": {},
   "outputs": [
    {
     "name": "stdout",
     "output_type": "stream",
     "text": [
      "3.141592654\n",
      "3.1415926536\n"
     ]
    }
   ],
   "source": [
    "import math\n",
    "print(format(math.pi, '.10g'))   # give 10 significant digits\n",
    "print(format(math.pi, '.10f'))   # give 10 digits after the point"
   ]
  },
  {
   "cell_type": "markdown",
   "metadata": {},
   "source": [
    "Infinity vs. overflow:"
   ]
  },
  {
   "cell_type": "code",
   "execution_count": 13,
   "metadata": {},
   "outputs": [
    {
     "data": {
      "text/plain": [
       "inf"
      ]
     },
     "execution_count": 13,
     "metadata": {},
     "output_type": "execute_result"
    }
   ],
   "source": [
    "x = 10.0**200; y = x*x;\n",
    "y"
   ]
  },
  {
   "cell_type": "code",
   "execution_count": 14,
   "metadata": {},
   "outputs": [
    {
     "data": {
      "text/plain": [
       "nan"
      ]
     },
     "execution_count": 14,
     "metadata": {},
     "output_type": "execute_result"
    }
   ],
   "source": [
    "y/y"
   ]
  },
  {
   "cell_type": "code",
   "execution_count": 15,
   "metadata": {},
   "outputs": [
    {
     "data": {
      "text/plain": [
       "(inf, nan)"
      ]
     },
     "execution_count": 15,
     "metadata": {},
     "output_type": "execute_result"
    }
   ],
   "source": [
    "float('inf'), float('nan')"
   ]
  },
  {
   "cell_type": "code",
   "execution_count": 16,
   "metadata": {},
   "outputs": [
    {
     "ename": "OverflowError",
     "evalue": "int too large to convert to float",
     "output_type": "error",
     "traceback": [
      "\u001b[1;31m---------------------------------------------------------------------------\u001b[0m",
      "\u001b[1;31mOverflowError\u001b[0m                             Traceback (most recent call last)",
      "\u001b[1;32m<ipython-input-16-a7683fef3a8d>\u001b[0m in \u001b[0;36m<module>\u001b[1;34m\u001b[0m\n\u001b[1;32m----> 1\u001b[1;33m \u001b[0mfloat\u001b[0m\u001b[1;33m(\u001b[0m \u001b[1;33m(\u001b[0m\u001b[1;36m10\u001b[0m\u001b[1;33m**\u001b[0m\u001b[1;36m200\u001b[0m\u001b[1;33m)\u001b[0m\u001b[1;33m*\u001b[0m\u001b[1;33m(\u001b[0m\u001b[1;36m10\u001b[0m\u001b[1;33m**\u001b[0m\u001b[1;36m200\u001b[0m\u001b[1;33m)\u001b[0m \u001b[1;33m)\u001b[0m\u001b[1;33m\u001b[0m\u001b[1;33m\u001b[0m\u001b[0m\n\u001b[0m",
      "\u001b[1;31mOverflowError\u001b[0m: int too large to convert to float"
     ]
    }
   ],
   "source": [
    "float( (10**200)*(10**200) )"
   ]
  },
  {
   "cell_type": "markdown",
   "metadata": {},
   "source": [
    "More details in the [IEEE 754](https://en.wikipedia.org/wiki/IEEE_754) Standard for Floating-Point Arithmetic\n",
    "\n",
    "Floating point comparison:"
   ]
  },
  {
   "cell_type": "code",
   "execution_count": 17,
   "metadata": {},
   "outputs": [
    {
     "data": {
      "text/plain": [
       "False"
      ]
     },
     "execution_count": 17,
     "metadata": {},
     "output_type": "execute_result"
    }
   ],
   "source": [
    "(0.1 + 0.1 + 0.1) == 0.3"
   ]
  },
  {
   "cell_type": "code",
   "execution_count": 18,
   "metadata": {},
   "outputs": [
    {
     "data": {
      "text/plain": [
       "0.30000000000000004"
      ]
     },
     "execution_count": 18,
     "metadata": {},
     "output_type": "execute_result"
    }
   ],
   "source": [
    "0.1 + 0.1 + 0.1"
   ]
  },
  {
   "cell_type": "markdown",
   "metadata": {},
   "source": [
    "Instead use:"
   ]
  },
  {
   "cell_type": "code",
   "execution_count": 19,
   "metadata": {},
   "outputs": [
    {
     "name": "stdout",
     "output_type": "stream",
     "text": [
      "True False\n",
      "True False\n"
     ]
    }
   ],
   "source": [
    "def isclose(a, b, rel_tol=1e-09, abs_tol=0.0):\n",
    "    return abs(a-b) <= max(rel_tol * max(abs(a), abs(b)), abs_tol)\n",
    "\n",
    "print(isclose(2, 2.019, 0.01, 0), isclose(2, 2.019, 0.001,0))\n",
    "print(isclose(2, 2.019, 0, 0.02), isclose(2, 2.019, 0, 0.002))"
   ]
  },
  {
   "cell_type": "markdown",
   "metadata": {},
   "source": [
    "or in Python 3: ```math.isclose``` and ```cmath.isclose```, explained [here](https://docs.python.org/3/whatsnew/3.5.html#pep-485-a-function-for-testing-approximate-equality)"
   ]
  },
  {
   "cell_type": "markdown",
   "metadata": {},
   "source": [
    "### 1.4.4 Errors and accuracy\n"
   ]
  },
  {
   "cell_type": "code",
   "execution_count": 20,
   "metadata": {},
   "outputs": [
    {
     "data": {
      "text/plain": [
       "0.9999999999999999"
      ]
     },
     "execution_count": 20,
     "metadata": {},
     "output_type": "execute_result"
    }
   ],
   "source": [
    "1/49.0*49"
   ]
  },
  {
   "cell_type": "markdown",
   "metadata": {},
   "source": [
    "**Representation error**\n",
    "\n",
    "- most decimal fractions cannot be represented exactly as binary fractions\n",
    "\n",
    "**Roundoff error**\n",
    "- roundoff errors are a characteristic of computer hardware\n",
    "- pretty much any arithmetic operation among floating numbers should be thought of as introducing an additional fractional error of at least $\\varepsilon_m$\n",
    "- roundoff errors accumulate with increasing amounts of calculation\n",
    "- best case: total roundoff on the order of $\\sqrt{N}\\varepsilon_m$ (cancellations, random walk)\n",
    "- typical case: roundoff errors accumulate preferentially in one direction => total of order $N\\varepsilon_m$\n",
    "    - regularities of the calculation\n",
    "    - peculiarities of your computer\n",
    "- vast increase of roundoff error of single operations possible => see section on Numerical Stability\n",
    "\n",
    "**Truncation error** (also called approximation error, or algorithmic error)\n",
    "\n",
    "- is characteristic of the algorithm used;\n",
    "- is independent of the hardware on which the program is executed;\n",
    "- would exist even on a \"perfect\" infinitely accurate computer;\n",
    "- can be entirely controlled by programmer.\n",
    "\n",
    "Many numerical algorithms compute \"discrete\" approximations to some desired \"continuous\" quantity.\n",
    "\n",
    "=> adjustable parameters (e.g. number of points, number of expansion terms)\n",
    "\n",
    "=> true answer is obtained only when these parameters go to infinity\n",
    "\n",
    "=> in practice use a finite, but sufficiently large choice\n",
    "\n",
    "*$[\\ldots]$ it is only a slight exaggeration to say that clever minimization of truncation error is practically the entire content of the field of numerical analysis!*\n",
    "<div style=\"text-align: right\">\"Numerical Recipes in C\" by W. H. Press <i>et al.</i> </div>"
   ]
  },
  {
   "cell_type": "markdown",
   "metadata": {},
   "source": [
    "### 1.4.5 Numerical stability\n",
    "\n",
    "**Example**: naive computation of a Taylor series\n",
    "\n",
    "$$ e^x = 1 +x +\\frac{x^2}{2!}+\\frac{x^3}{3!}+\\ldots$$"
   ]
  },
  {
   "cell_type": "code",
   "execution_count": 21,
   "metadata": {},
   "outputs": [],
   "source": [
    "import numpy as np\n",
    "\n",
    "def exponentialTaylorSeries(x):\n",
    "    tolerance = 1e-15\n",
    "    previousSum = 0\n",
    "    currentSum = 1\n",
    "    currentTerm = 1\n",
    "    n = 0\n",
    "    \n",
    "    while(np.abs(currentSum - previousSum) > tolerance):\n",
    "        n = n + 1\n",
    "        currentTerm = currentTerm * x/n\n",
    "        previousSum = currentSum\n",
    "        currentSum += currentTerm\n",
    "        if(n%5 == 1): print('{0:2d} \\t {1:.6e} \\t {2:.6g}'.format(n, currentTerm, currentSum))\n",
    "            \n",
    "    print(\"\\n Naive power series: \",currentSum,\"\\n Correct answer:     \", np.exp(x))"
   ]
  },
  {
   "cell_type": "code",
   "execution_count": 22,
   "metadata": {},
   "outputs": [
    {
     "name": "stdout",
     "output_type": "stream",
     "text": [
      " 1 \t -2.000000e+01 \t -19\n",
      " 6 \t 8.888889e+04 \t 67736.6\n",
      "11 \t -5.130672e+06 \t -3.27105e+06\n",
      "16 \t 3.132278e+07 \t 1.71827e+07\n",
      "21 \t -4.104743e+07 \t -1.97702e+07\n",
      "26 \t 1.664029e+07 \t 7.14545e+06\n",
      "31 \t -2.611609e+06 \t -1.01191e+06\n",
      "36 \t 1.847331e+05 \t 65217.9\n",
      "41 \t -6.573564e+03 \t -2131.53\n",
      "46 \t 1.278822e+02 \t 38.3436\n",
      "51 \t -1.451726e+00 \t -0.404809\n",
      "56 \t 1.013470e-02 \t 0.00264125\n",
      "61 \t -4.542815e-05 \t -1.11073e-05\n",
      "66 \t 1.355519e-07 \t 3.68653e-08\n",
      "71 \t -2.776299e-10 \t 5.56139e-09\n",
      "76 \t 4.007323e-13 \t 5.62197e-09\n",
      "81 \t -4.170776e-16 \t 5.62188e-09\n",
      "\n",
      " Naive power series:  5.621884390193919e-09 \n",
      " Correct answer:      2.061153622438558e-09\n"
     ]
    }
   ],
   "source": [
    "exponentialTaylorSeries(-20.)"
   ]
  },
  {
   "cell_type": "markdown",
   "metadata": {},
   "source": [
    "- most of the time, truncation and roundoff errors do not strongly interact\n",
    "- but sometimes, early stage roundoff errors become magnified and obscure the true answer => unstable method\n",
    "- an unstable method would work on a \"perfect\" computer, but not in practice\n",
    "- typical cause: subtraction of two almost equal numbers => \"catastrophic cancellation\""
   ]
  },
  {
   "cell_type": "code",
   "execution_count": null,
   "metadata": {},
   "outputs": [],
   "source": [
    "1.0e20 + 0.1 - 1.0e20"
   ]
  },
  {
   "cell_type": "code",
   "execution_count": null,
   "metadata": {},
   "outputs": [],
   "source": [
    "1.0e20 - 1.0e20 + 0.1"
   ]
  },
  {
   "cell_type": "markdown",
   "metadata": {},
   "source": [
    "Stable alternatives:\n",
    "- pairwise summation: \"divide and conquer\"\n",
    "- Kahan summation (even smaller error, but slower): keeps separate variable to accumulate small errors\n",
    "\n",
    "=> equivalent **mathematically** but not **numerically**!"
   ]
  },
  {
   "cell_type": "code",
   "execution_count": null,
   "metadata": {},
   "outputs": [],
   "source": [
    "import math\n",
    "\n",
    "myList = [1.0e20,0.1,-1.0e20]\n",
    "\n",
    "print(sum(myList))         # naive summation\n",
    "print(math.fsum(myList))   # stable summation"
   ]
  },
  {
   "cell_type": "markdown",
   "metadata": {},
   "source": [
    "### Bonus: Numerical disasters\n",
    "\n",
    "Incorrect numerics can cause huge financial loss and even loss of life:\n",
    "\n",
    "- Patriot Missile failure (Dharan, Saudi Arabia, February 25, 1991)\n",
    "    - 28 dead, approx. 100 injured\n",
    "    - reason: poor handling of roundoff errors\n",
    "    - time was measured in 0.1 second intervals: error of 0.000000095 per measurement on 24bit system\n",
    "    - after 100 hours of operation: 0.34 seconds\n",
    "    - rocket at 1676 m/s travels over 500 meters in this time\n",
    "- explosion of the Ariane 5 rocket just after lift-off on its maiden voyage (June 4, 1996)\n",
    "    - unmanned, but $\\$$500 million value + a decade of development costing $\\$$7 billion\n",
    "    - reason: integer overflow\n",
    "    - 64bit float was converted to 16bit signed integer\n",
    "    - since the number was larger than 32768 the conversion failed\n",
    "\n",
    "Source: https://cs.fit.edu/~ryan/library/Some_disasters_attributable_to_Numerical_Analysis.pdf\n",
    "\n",
    "Less serious:\n",
    "\n",
    "- In December 2014 the Gangnam Style music video broke the YouTube view limit (32bit integer) having been viewed more than 2,147,483,647 times (currently about 3.2 billion views)\n",
    "- Youtube has now [changed the maximum view limit](https://plus.google.com/+YouTube/posts/BUXfdWqu86Q) to 9,223,372,036,854,775,808 (64bit integer)\n",
    "- Current view record: just under 5.5 billion"
   ]
  }
 ],
 "metadata": {
  "kernelspec": {
   "display_name": "Python 3",
   "language": "python",
   "name": "python3"
  },
  "language_info": {
   "codemirror_mode": {
    "name": "ipython",
    "version": 3
   },
   "file_extension": ".py",
   "mimetype": "text/x-python",
   "name": "python",
   "nbconvert_exporter": "python",
   "pygments_lexer": "ipython3",
   "version": "3.7.3"
  }
 },
 "nbformat": 4,
 "nbformat_minor": 2
}
