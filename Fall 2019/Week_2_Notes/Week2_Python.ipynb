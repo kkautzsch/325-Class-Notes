{
 "cells": [
  {
   "cell_type": "markdown",
   "metadata": {
    "slideshow": {
     "slide_type": "-"
    }
   },
   "source": [
    "# PHYS 325 Scientific Computing -- Fall 2018"
   ]
  },
  {
   "cell_type": "markdown",
   "metadata": {},
   "source": [
    "## 1.3 Review of / Introduction to Python basics\n",
    "\n",
    "Some useful Python online tutorials:\n",
    "\n",
    "[Tutorial from Python documentation](https://docs.python.org/3/tutorial/)\n",
    "\n",
    "[A (very short) introduction to Python](http://scipy-lectures.org/intro/index.html)\n",
    "\n",
    "[Collection of tutorials with quizzes](https://www.programiz.com/python-programming)"
   ]
  },
  {
   "cell_type": "markdown",
   "metadata": {
    "slideshow": {
     "slide_type": "slide"
    }
   },
   "source": [
    "### 1.3.1 Features of Python\n",
    "\n",
    "- easy to learn and use: fast development\n",
    "- very readable and high-level coding\n",
    "- object oriented\n",
    "- interpreter: no compiling (also means considerably slower than eg C++)\n",
    "- no explicit variable names: extremely polymorphic (has pros and cons)\n",
    "- forces you to indent properly\n",
    "- extendible to other languages, good \"glue\" language for C++ components (esp. for manipulating large numbers of files)\n",
    "- open source and free (unlike Matlab)\n",
    "- available for Windows, Unix, OS X (often included by default)\n",
    "- relatively easy installation on multiple platforms\n",
    "- large community of users => many online resources\n",
    "- supported by many packages (science, numerics, graphics, ...)"
   ]
  },
  {
   "cell_type": "markdown",
   "metadata": {},
   "source": [
    "### 1.3.2 Ways to use Python\n",
    "\n",
    "- Interactively in a terminal: <br>\n",
    "    type e.g. ```python``` or ```python3``` or ```python2.7```\n",
    "- Using an [IDE](https://en.wikipedia.org/wiki/Integrated_development_environment) (Integrated Development Environment), such as [Spyder](https://en.wikipedia.org/wiki/Spyder_(software)<br>\n",
    "(can use them as glorified editor, or actually run code)\n",
    "- Inside a Jupyter notebook"
   ]
  },
  {
   "cell_type": "code",
   "execution_count": null,
   "metadata": {},
   "outputs": [],
   "source": [
    "a = 5\n",
    "b = 9\n",
    "a*b+100"
   ]
  },
  {
   "cell_type": "code",
   "execution_count": null,
   "metadata": {},
   "outputs": [],
   "source": [
    "print(\"hello, world!\")"
   ]
  },
  {
   "cell_type": "markdown",
   "metadata": {},
   "source": [
    "#### Making executable Python scripts\n",
    "\n",
    "- The Python code is saved in a text file, convention for the file ending is ```.py```\n",
    "- You need to specify in the first line of the program which Python interpreter will be used.\n",
    "- On Linux this line usually reads<br>\n",
    "```#!/usr/bin/env python```\n",
    "- This line has the format of a comment (starts with ```#```) and is treated as such if the program is executed with<br>\n",
    "```python myProgram.py```\n",
    "- When executing as<br>\n",
    "  ```./myProgram.py```<br>\n",
    "  the first line beginning with ```#!``` tells the operating system to use the program specified in the rest of the first line to interpret the program. In this example, we use the default Python on your system.\n",
    "- You can also set the path to a specific Python interpreter:<br>\n",
    "```#!/path/to/special/python```\n",
    "- ```#!/usr/bin/env python``` finds out automatically where your Python interpreter is; most likely ```#!/usr/bin/python``` on Linux or ```/usr/local/bin/python3``` on Mac, so you can input it directly. You can also find where Python is called from by typing ```which python``` or ```which python3``` etc. into the command line\n",
    "- IDEs will often automatically insert this line at the beginning of a file"
   ]
  },
  {
   "cell_type": "markdown",
   "metadata": {},
   "source": [
    "### 1.3.3 Data types\n",
    "\n",
    "- numerical types\n",
    "    - integers\n",
    "    - floats\n",
    "    - complex numbers (native to Python!)"
   ]
  },
  {
   "cell_type": "code",
   "execution_count": null,
   "metadata": {},
   "outputs": [],
   "source": [
    "myComplexNumber = 1.5 + 0.5j"
   ]
  },
  {
   "cell_type": "code",
   "execution_count": null,
   "metadata": {},
   "outputs": [],
   "source": [
    "print(myComplexNumber.real)\n",
    "print(myComplexNumber.imag)\n",
    "print(abs(myComplexNumber))          # example of a basic math function\n",
    "print(myComplexNumber.conjugate())"
   ]
  },
  {
   "cell_type": "markdown",
   "metadata": {},
   "source": [
    "- booleans: ```True```, ```False```"
   ]
  },
  {
   "cell_type": "code",
   "execution_count": null,
   "metadata": {},
   "outputs": [],
   "source": [
    "3 <= 4"
   ]
  },
  {
   "cell_type": "code",
   "execution_count": null,
   "metadata": {},
   "outputs": [],
   "source": [
    "3 > 4"
   ]
  },
  {
   "cell_type": "code",
   "execution_count": null,
   "metadata": {},
   "outputs": [],
   "source": [
    "test = (3 > 4)\n",
    "test"
   ]
  },
  {
   "cell_type": "code",
   "execution_count": null,
   "metadata": {},
   "outputs": [],
   "source": [
    "not(test)"
   ]
  },
  {
   "cell_type": "code",
   "execution_count": null,
   "metadata": {},
   "outputs": [],
   "source": [
    "True and False"
   ]
  },
  {
   "cell_type": "code",
   "execution_count": null,
   "metadata": {},
   "outputs": [],
   "source": [
    "True & False"
   ]
  },
  {
   "cell_type": "code",
   "execution_count": null,
   "metadata": {},
   "outputs": [],
   "source": [
    "True or False"
   ]
  },
  {
   "cell_type": "code",
   "execution_count": null,
   "metadata": {},
   "outputs": [],
   "source": [
    "True + True"
   ]
  },
  {
   "cell_type": "markdown",
   "metadata": {},
   "source": [
    "- strings => sequence data type"
   ]
  },
  {
   "cell_type": "code",
   "execution_count": null,
   "metadata": {},
   "outputs": [],
   "source": [
    "name = 'Python'\n",
    "value = \"$7.00\"\n",
    "helptext = \"\"\"You can create long strings of text\n",
    "spanning several lines by using triple quotes at\n",
    "the beginning and end of the text\"\"\""
   ]
  },
  {
   "cell_type": "code",
   "execution_count": null,
   "metadata": {},
   "outputs": [],
   "source": [
    "print(helptext)"
   ]
  },
  {
   "cell_type": "markdown",
   "metadata": {},
   "source": [
    "Ways to escape"
   ]
  },
  {
   "cell_type": "code",
   "execution_count": null,
   "metadata": {},
   "outputs": [],
   "source": [
    "print('doesn\\'t')\n",
    "print(\"doesn't\")\n",
    "print('\"Yes,\" they said.')\n",
    "print(\"\\\"Yes,\\\" they said.\")\n",
    "print('\"Isn\\'t,\" they said.')"
   ]
  },
  {
   "cell_type": "markdown",
   "metadata": {},
   "source": [
    "For a list of special characters, see e.g. [here](https://linuxconfig.org/list-of-python-escape-sequence-characters-with-examples)\n",
    "\n",
    "String arithmetics:"
   ]
  },
  {
   "cell_type": "code",
   "execution_count": 20,
   "metadata": {},
   "outputs": [
    {
     "data": {
      "text/plain": [
       "'greatgreatgreatgrandfather'"
      ]
     },
     "execution_count": 20,
     "metadata": {},
     "output_type": "execute_result"
    }
   ],
   "source": [
    "3 * 'great' + 'grandfather'"
   ]
  },
  {
   "cell_type": "code",
   "execution_count": 21,
   "metadata": {},
   "outputs": [
    {
     "data": {
      "text/plain": [
       "'h'"
      ]
     },
     "execution_count": 21,
     "metadata": {},
     "output_type": "execute_result"
    }
   ],
   "source": [
    "word = 'Python'\n",
    "word[3]         # subject of the next section!"
   ]
  },
  {
   "cell_type": "markdown",
   "metadata": {},
   "source": [
    "#### Type conversion\n",
    "\n",
    "- In Python you can explicitly convert from one type to another:\n",
    "- Python automatically makes text a string!!!!"
   ]
  },
  {
   "cell_type": "code",
   "execution_count": null,
   "metadata": {},
   "outputs": [],
   "source": [
    "myString = '42'\n",
    "type(myString)"
   ]
  },
  {
   "cell_type": "code",
   "execution_count": null,
   "metadata": {},
   "outputs": [],
   "source": [
    "myInteger = int(myString)\n",
    "print(myInteger)\n",
    "type(myInteger)"
   ]
  },
  {
   "cell_type": "code",
   "execution_count": null,
   "metadata": {},
   "outputs": [],
   "source": [
    "myFloat = float(myInteger)\n",
    "print(myFloat)\n",
    "type(myFloat)"
   ]
  },
  {
   "cell_type": "markdown",
   "metadata": {},
   "source": [
    "- often conversion is performed implicitly:"
   ]
  },
  {
   "cell_type": "code",
   "execution_count": null,
   "metadata": {},
   "outputs": [],
   "source": [
    "print(type(3),type(2))\n",
    "print(3/2)\n",
    "print(type(3/2))"
   ]
  },
  {
   "cell_type": "code",
   "execution_count": null,
   "metadata": {},
   "outputs": [],
   "source": [
    "print(type(True))\n",
    "print(True + True)\n",
    "print(type(True + True))"
   ]
  },
  {
   "cell_type": "markdown",
   "metadata": {},
   "source": [
    "### 1.3.4 Sequence types\n",
    "\n",
    "Most important: list (ordered sequence of items)"
   ]
  },
  {
   "cell_type": "code",
   "execution_count": 1,
   "metadata": {},
   "outputs": [
    {
     "data": {
      "text/plain": [
       "[1, 2.2, 'python']"
      ]
     },
     "execution_count": 1,
     "metadata": {},
     "output_type": "execute_result"
    }
   ],
   "source": [
    "mixedList = [1, 2.2, 'python'] #this is a list different naming convention from \"array\"\n",
    "mixedList"
   ]
  },
  {
   "cell_type": "code",
   "execution_count": 2,
   "metadata": {},
   "outputs": [
    {
     "data": {
      "text/plain": [
       "1"
      ]
     },
     "execution_count": 2,
     "metadata": {},
     "output_type": "execute_result"
    }
   ],
   "source": [
    "mixedList[0]  # indexing returns the item, count starts at 0"
   ]
  },
  {
   "cell_type": "code",
   "execution_count": 3,
   "metadata": {},
   "outputs": [
    {
     "data": {
      "text/plain": [
       "'python'"
      ]
     },
     "execution_count": 3,
     "metadata": {},
     "output_type": "execute_result"
    }
   ],
   "source": [
    "mixedList[2]"
   ]
  },
  {
   "cell_type": "code",
   "execution_count": 4,
   "metadata": {},
   "outputs": [
    {
     "data": {
      "text/plain": [
       "'p'"
      ]
     },
     "execution_count": 4,
     "metadata": {},
     "output_type": "execute_result"
    }
   ],
   "source": [
    "mixedList[2][0] #you can choose different items from a list acting like a list in iteself\n",
    "#this allows you to choose different parts of things if needed"
   ]
  },
  {
   "cell_type": "code",
   "execution_count": 5,
   "metadata": {},
   "outputs": [
    {
     "data": {
      "text/plain": [
       "'p'"
      ]
     },
     "execution_count": 5,
     "metadata": {},
     "output_type": "execute_result"
    }
   ],
   "source": [
    "word = mixedList[2] #you can go even deeper by making a list and specific part of it and make it a new variable\n",
    "word[0]"
   ]
  },
  {
   "cell_type": "code",
   "execution_count": 6,
   "metadata": {},
   "outputs": [
    {
     "data": {
      "text/plain": [
       "'n'"
      ]
     },
     "execution_count": 6,
     "metadata": {},
     "output_type": "execute_result"
    }
   ],
   "source": [
    "word[-1]   # last element: Convient for when you don't know how long a list is"
   ]
  },
  {
   "cell_type": "code",
   "execution_count": 7,
   "metadata": {},
   "outputs": [
    {
     "data": {
      "text/plain": [
       "'n'"
      ]
     },
     "execution_count": 7,
     "metadata": {},
     "output_type": "execute_result"
    }
   ],
   "source": [
    "word[5]"
   ]
  },
  {
   "cell_type": "markdown",
   "metadata": {},
   "source": [
    " ```\n",
    " +---+---+---+---+---+---+\n",
    " | p | y | t | h | o | n |\n",
    " +---+---+---+---+---+---+\n",
    " 0   1   2   3   4   5   6\n",
    "-6  -5  -4  -3  -2  -1```"
   ]
  },
  {
   "cell_type": "code",
   "execution_count": 8,
   "metadata": {},
   "outputs": [
    {
     "name": "stdout",
     "output_type": "stream",
     "text": [
      "[1, 4, 9, 16, 25]\n"
     ]
    }
   ],
   "source": [
    "squares = [1, 4, 9, 16, 25]\n",
    "print(squares)"
   ]
  },
  {
   "cell_type": "markdown",
   "metadata": {},
   "source": [
    "**Slicing** returns a new list:"
   ]
  },
  {
   "cell_type": "code",
   "execution_count": 13,
   "metadata": {},
   "outputs": [
    {
     "name": "stdout",
     "output_type": "stream",
     "text": [
      "[4, 9]\n",
      "[9, 16, 25]\n",
      "[1, 4, 9, 16, 25]\n"
     ]
    }
   ],
   "source": [
    "print(squares[1:3]) #Since we count starting at 0 it prints 4 but not 16 because the last element in non-inclusive\n",
    "print(squares[2:]) #This will start at the second element and print everything after it\n",
    "print(squares[:]) #This one will print everything in the list"
   ]
  },
  {
   "cell_type": "code",
   "execution_count": 15,
   "metadata": {},
   "outputs": [
    {
     "data": {
      "text/plain": [
       "[1, 4, 9, 16, 25, 36, 49, 64, 81, 99]"
      ]
     },
     "execution_count": 15,
     "metadata": {},
     "output_type": "execute_result"
    }
   ],
   "source": [
    "moreSquares = squares + [36, 49, 64, 81, 99] #Adding more elements to the end of the list\n",
    "moreSquares"
   ]
  },
  {
   "cell_type": "code",
   "execution_count": 16,
   "metadata": {},
   "outputs": [
    {
     "data": {
      "text/plain": [
       "[1, 4, 9, 16, 25, 36, 49, 64, 81, 100]"
      ]
     },
     "execution_count": 16,
     "metadata": {},
     "output_type": "execute_result"
    }
   ],
   "source": [
    "moreSquares[-1] = 100      # replace the wrong value...Using the backwards counting method previously mentioned\n",
    "moreSquares"
   ]
  },
  {
   "cell_type": "code",
   "execution_count": 19,
   "metadata": {},
   "outputs": [
    {
     "data": {
      "text/plain": [
       "[1, 4, 0, 36, 49, 64, 81, 100]"
      ]
     },
     "execution_count": 19,
     "metadata": {},
     "output_type": "execute_result"
    }
   ],
   "source": [
    "moreSquares[2:4] = [0]    # replace several values at once, can be different length\n",
    "moreSquares #Second element not including and removing the fourth element which is 16"
   ]
  },
  {
   "cell_type": "markdown",
   "metadata": {},
   "source": [
    "Built in methods and functions:"
   ]
  },
  {
   "cell_type": "code",
   "execution_count": 23,
   "metadata": {},
   "outputs": [
    {
     "data": {
      "text/plain": [
       "[1, 4, 0, 36, 49, 64, 81, 100, 121]"
      ]
     },
     "execution_count": 23,
     "metadata": {},
     "output_type": "execute_result"
    }
   ],
   "source": [
    "moreSquares.append(11**2) #By default the .append() will add the value inputed to the end of the list\n",
    "moreSquares #You can use .insert() to put anything anywhere in a list"
   ]
  },
  {
   "cell_type": "code",
   "execution_count": 24,
   "metadata": {},
   "outputs": [
    {
     "data": {
      "text/plain": [
       "9"
      ]
     },
     "execution_count": 24,
     "metadata": {},
     "output_type": "execute_result"
    }
   ],
   "source": [
    "len(moreSquares) #len() gives the number of items in an object. This does not count starting from 0 since that is used for items"
   ]
  },
  {
   "cell_type": "markdown",
   "metadata": {},
   "source": [
    "Now try the same with string 'python':"
   ]
  },
  {
   "cell_type": "code",
   "execution_count": 25,
   "metadata": {},
   "outputs": [
    {
     "ename": "TypeError",
     "evalue": "'str' object does not support item assignment",
     "output_type": "error",
     "traceback": [
      "\u001b[1;31m---------------------------------------------------------------------------\u001b[0m",
      "\u001b[1;31mTypeError\u001b[0m                                 Traceback (most recent call last)",
      "\u001b[1;32m<ipython-input-25-800aeb102109>\u001b[0m in \u001b[0;36m<module>\u001b[1;34m\u001b[0m\n\u001b[1;32m----> 1\u001b[1;33m \u001b[0mword\u001b[0m\u001b[1;33m[\u001b[0m\u001b[1;36m0\u001b[0m\u001b[1;33m]\u001b[0m\u001b[1;33m=\u001b[0m\u001b[1;34m'P'\u001b[0m\u001b[1;33m\u001b[0m\u001b[1;33m\u001b[0m\u001b[0m\n\u001b[0m",
      "\u001b[1;31mTypeError\u001b[0m: 'str' object does not support item assignment"
     ]
    }
   ],
   "source": [
    "word[0]='P'"
   ]
  },
  {
   "cell_type": "markdown",
   "metadata": {},
   "source": [
    "Strings are **immutable**\n",
    "(numbers and booleans are also immutable)\n",
    "\n",
    "But we can create a new string!"
   ]
  },
  {
   "cell_type": "code",
   "execution_count": 30,
   "metadata": {},
   "outputs": [
    {
     "data": {
      "text/plain": [
       "'Python'"
      ]
     },
     "execution_count": 30,
     "metadata": {},
     "output_type": "execute_result"
    }
   ],
   "source": [
    "newWord = word.replace('p','P',1) #The only way to change something in a list is with the .replace() command .replace(old, new, count)\n",
    "newWord #old – old substring you want to replace.\n",
    "        #new – new substring which would replace the old substring.\n",
    "        #count – the number of times you want to replace the old substring with the new substring. (Optional)"
   ]
  },
  {
   "cell_type": "markdown",
   "metadata": {},
   "source": [
    "Tuples:\n",
    "- immutable lists\n",
    "- used to write-protect data \n",
    "- usually faster than list, since it cannot change dynamically"
   ]
  },
  {
   "cell_type": "code",
   "execution_count": 31,
   "metadata": {},
   "outputs": [
    {
     "name": "stdout",
     "output_type": "stream",
     "text": [
      "(5, 'program', (1+3j))\n"
     ]
    }
   ],
   "source": [
    "myTuple = (5,'program', 1+3j)\n",
    "print(myTuple)"
   ]
  },
  {
   "cell_type": "code",
   "execution_count": 33,
   "metadata": {},
   "outputs": [
    {
     "ename": "TypeError",
     "evalue": "'tuple' object does not support item assignment",
     "output_type": "error",
     "traceback": [
      "\u001b[1;31m---------------------------------------------------------------------------\u001b[0m",
      "\u001b[1;31mTypeError\u001b[0m                                 Traceback (most recent call last)",
      "\u001b[1;32m<ipython-input-33-444ac66eeae9>\u001b[0m in \u001b[0;36m<module>\u001b[1;34m\u001b[0m\n\u001b[1;32m----> 1\u001b[1;33m \u001b[0mmyTuple\u001b[0m\u001b[1;33m[\u001b[0m\u001b[1;36m1\u001b[0m\u001b[1;33m]\u001b[0m \u001b[1;33m=\u001b[0m \u001b[1;34m'P'\u001b[0m\u001b[1;33m\u001b[0m\u001b[1;33m\u001b[0m\u001b[0m\n\u001b[0m",
      "\u001b[1;31mTypeError\u001b[0m: 'tuple' object does not support item assignment"
     ]
    }
   ],
   "source": [
    "myTuple[1] = 'P'"
   ]
  },
  {
   "cell_type": "markdown",
   "metadata": {},
   "source": [
    "Range:\n",
    "- immutable sequence type\n",
    "- useful for iterations\n",
    "\n",
    "Make a list from 0 (included) to 5 (not included):"
   ]
  },
  {
   "cell_type": "code",
   "execution_count": null,
   "metadata": {},
   "outputs": [],
   "source": [
    "range(5)"
   ]
  },
  {
   "cell_type": "code",
   "execution_count": null,
   "metadata": {},
   "outputs": [],
   "source": [
    "list(range(5))"
   ]
  },
  {
   "cell_type": "code",
   "execution_count": null,
   "metadata": {},
   "outputs": [],
   "source": [
    "list(range(-10,10))"
   ]
  },
  {
   "cell_type": "markdown",
   "metadata": {},
   "source": [
    "Not covered: sets, dictionaries"
   ]
  },
  {
   "cell_type": "markdown",
   "metadata": {},
   "source": [
    "### 1.3.5 Assignment\n",
    "\n",
    "setting a name to hold a **reference** to some object\n",
    "\n",
    "The first assignment to a variable creates it:\n",
    "- variable types do not need to be declared like in Java or C++\n",
    "- Python figures out the variable types on its own"
   ]
  },
  {
   "cell_type": "code",
   "execution_count": null,
   "metadata": {},
   "outputs": [],
   "source": [
    "type(3)                     # the type of the object 3 is integer"
   ]
  },
  {
   "cell_type": "code",
   "execution_count": null,
   "metadata": {},
   "outputs": [],
   "source": [
    "myInteger = 3               # now we assign the object 3 to the variable myInteger\n",
    "                            # in other words: the name myInteger now refers to 3\n",
    "                            # by doing this we automatically created the variable myInteger\n",
    "type(myInteger)             # it has the same type as the object, namely integer"
   ]
  },
  {
   "cell_type": "code",
   "execution_count": null,
   "metadata": {},
   "outputs": [],
   "source": [
    "myInteger = 'isStringNow'   # we can assign a different object to the same variable\n",
    "type(myInteger)             # now myInteger refers to a string"
   ]
  },
  {
   "cell_type": "code",
   "execution_count": null,
   "metadata": {},
   "outputs": [],
   "source": [
    "myInteger = [1, 2, 3] \n",
    "type(myInteger)             # now myInteger refers to a list"
   ]
  },
  {
   "cell_type": "markdown",
   "metadata": {},
   "source": [
    "> [In Python] A variable is analogous to a sticky note with a name written on it: assigning a value to a variable is like putting that sticky note on a particular value\n",
    "\n",
    "from [Software Carpentry tutorial](https://swcarpentry.github.io/python-novice-inflammation/01-numpy/)\n",
    "\n",
    "A reference is deleted via garbage collection after any names bound to it have passed out of scope.\n",
    "\n",
    "#### Multiple assignment: "
   ]
  },
  {
   "cell_type": "code",
   "execution_count": null,
   "metadata": {},
   "outputs": [],
   "source": [
    "x, y = 2, 3\n",
    "s = t = 1\n",
    "print(x,y,s,t)"
   ]
  },
  {
   "cell_type": "markdown",
   "metadata": {},
   "source": [
    "#### A closer look"
   ]
  },
  {
   "cell_type": "code",
   "execution_count": 22,
   "metadata": {},
   "outputs": [],
   "source": [
    "a = \"banana\"\n",
    "b = a"
   ]
  },
  {
   "cell_type": "markdown",
   "metadata": {},
   "source": [
    "<center> Option 1 </center> | <center> Option 2 </center>\n",
    "--- | ---\n",
    "![assignment option 1](images/refdiag1.png) | ![assignment option 2](images/refdiag2.png)\n",
    "\n",
    "*Image credit*: https://runestone.academy/runestone/books/published/fopp/TransformingSequences/ObjectsandReferences.html"
   ]
  },
  {
   "cell_type": "code",
   "execution_count": null,
   "metadata": {},
   "outputs": [],
   "source": [
    "# let's check which one is the case\n",
    "print(a is b)"
   ]
  },
  {
   "cell_type": "code",
   "execution_count": null,
   "metadata": {},
   "outputs": [],
   "source": [
    "# another way is to explicitly print the unique id that Python assigns to every object\n",
    "# you can think of this id as essentially specifying the location of the object in computer memory\n",
    "print(id(a))\n",
    "print(id(b))"
   ]
  },
  {
   "cell_type": "markdown",
   "metadata": {},
   "source": [
    "- unlike languages such as C and C++, Python does not allocate a new block of memory for the variable ```b```\n",
    "- instead ```b``` refers to the same memory location as ```a``` (Option 2)\n",
    "\n",
    "This has interesting consequences:\n",
    "\n",
    "#### Deep vs. shallow copies"
   ]
  },
  {
   "cell_type": "code",
   "execution_count": null,
   "metadata": {},
   "outputs": [],
   "source": [
    "a = 3\n",
    "b = a            # a and b both refer to 3\n",
    "print(a,b)\n",
    "print(a is b)"
   ]
  },
  {
   "cell_type": "code",
   "execution_count": null,
   "metadata": {},
   "outputs": [],
   "source": [
    "a = 5            # a now refers to 5\n",
    "print(a,b)       # a and b are not longer the same\n",
    "print(a is b)"
   ]
  },
  {
   "cell_type": "markdown",
   "metadata": {},
   "source": [
    "Can you think of why?\n",
    "\n",
    "![Python memory assignment](images/variable_memory.gif)\n",
    "*Image credit*: https://www.python-course.eu/variables.php\n",
    "\n",
    "Let's try the same with a list:"
   ]
  },
  {
   "cell_type": "code",
   "execution_count": null,
   "metadata": {},
   "outputs": [],
   "source": [
    "a = [1, 2, 3]    # a now references the list [1, 2, 3]\n",
    "b = a            # b now references what a references\n",
    "print(a,b)\n",
    "print(a is b)"
   ]
  },
  {
   "cell_type": "code",
   "execution_count": null,
   "metadata": {},
   "outputs": [],
   "source": [
    "a.append(4)      # this changes the list that a references \n",
    "print(a,b)       # what b references has also changed!\n",
    "print(a is b)"
   ]
  },
  {
   "cell_type": "markdown",
   "metadata": {},
   "source": [
    "![deep vs. shallow copy](images/deep_shallow_copy.png)\n",
    "\n",
    "*Slide credit:* [Lode Pollet](https://www.theorie.physik.uni-muenchen.de/lsschollwoeck/members/professors/pollet/index.html)\n",
    "\n",
    "Examples how to get a deep copy of a list in Python:"
   ]
  },
  {
   "cell_type": "code",
   "execution_count": null,
   "metadata": {},
   "outputs": [],
   "source": [
    "a = [1, 2, 3]\n",
    "b = a[:]\n",
    "c = list(a)\n",
    "\n",
    "a.append(4)\n",
    "print (a, b, c)"
   ]
  },
  {
   "cell_type": "markdown",
   "metadata": {},
   "source": [
    "### 1.3.6 Control flow\n",
    "\n",
    "Conditional expressions with ```if/elif/else``` statements:"
   ]
  },
  {
   "cell_type": "code",
   "execution_count": null,
   "metadata": {},
   "outputs": [],
   "source": [
    "if 2**2 == 4:\n",
    "    print('Obvious!')"
   ]
  },
  {
   "cell_type": "code",
   "execution_count": null,
   "metadata": {},
   "outputs": [],
   "source": [
    "a = -110"
   ]
  },
  {
   "cell_type": "code",
   "execution_count": null,
   "metadata": {},
   "outputs": [],
   "source": [
    "if a > 0:\n",
    "     print('Positive')\n",
    "else:\n",
    "     print('Not strictly positive')"
   ]
  },
  {
   "cell_type": "code",
   "execution_count": null,
   "metadata": {},
   "outputs": [],
   "source": [
    "if a < 0:\n",
    "    a = 0\n",
    "    print('Negative input changed to zero')\n",
    "elif a > 0:\n",
    "    print('A strictly positive input')\n",
    "elif a > 1:\n",
    "    print('This message will never be printed')\n",
    "else:\n",
    "    print('The input is zero')"
   ]
  },
  {
   "cell_type": "markdown",
   "metadata": {},
   "source": [
    "- comparison operators: ```>```,  ```<```, ```<=```, ```>=```, ```==```, ```!=```\n",
    "- only one of the ```if/elif/else``` statements is executed\n",
    "- elif and else are optional (else is the default)\n",
    "- note the syntax, especially indentation! => will be discussed more later\n",
    "\n",
    "Loops:\n",
    "- way to implement repetitive operations\n",
    "- ```while``` loop:"
   ]
  },
  {
   "cell_type": "code",
   "execution_count": null,
   "metadata": {},
   "outputs": [],
   "source": [
    "a = 0\n",
    "while a < 6:\n",
    "    print(a)\n",
    "    a += 1"
   ]
  },
  {
   "cell_type": "markdown",
   "metadata": {},
   "source": [
    "![while loop flow chart](images/whileLoopFlowchart.jpg)\n",
    "\n",
    "*Image from*: https://www.programiz.com/python-programming/while-loop\n",
    "\n",
    "- ```for``` loop:"
   ]
  },
  {
   "cell_type": "code",
   "execution_count": null,
   "metadata": {},
   "outputs": [],
   "source": [
    "for i in range(6):\n",
    "    print(i)"
   ]
  },
  {
   "cell_type": "markdown",
   "metadata": {},
   "source": [
    "![for loop flow chart](images/forLoop.jpg)\n",
    "\n",
    "*Image from*: https://www.programiz.com/python-programming/for-loop\n",
    "\n",
    "More examples of ```for``` loop syntax:"
   ]
  },
  {
   "cell_type": "code",
   "execution_count": null,
   "metadata": {},
   "outputs": [],
   "source": [
    "myList = [0,1,2,3,4,5]\n",
    "for i in myList:\n",
    "    print(i)"
   ]
  },
  {
   "cell_type": "code",
   "execution_count": null,
   "metadata": {},
   "outputs": [],
   "source": [
    "for i in range(len(myList)):\n",
    "    print(i)"
   ]
  },
  {
   "cell_type": "code",
   "execution_count": null,
   "metadata": {},
   "outputs": [],
   "source": [
    "for i in 'Python':\n",
    "    print(i)"
   ]
  },
  {
   "cell_type": "markdown",
   "metadata": {},
   "source": [
    "- ```break``` and ```continue``` statements:"
   ]
  },
  {
   "cell_type": "code",
   "execution_count": null,
   "metadata": {},
   "outputs": [],
   "source": [
    "myList = ['python','is','not','awesome','at','all']\n",
    "for i in myList:\n",
    "    print(i)"
   ]
  },
  {
   "cell_type": "code",
   "execution_count": null,
   "metadata": {},
   "outputs": [],
   "source": [
    "for i in myList:\n",
    "    if i == 'not':\n",
    "        continue\n",
    "    print(i)\n",
    "    if i == 'awesome':\n",
    "        break"
   ]
  },
  {
   "cell_type": "markdown",
   "metadata": {},
   "source": [
    "- The ```break``` statement breaks out of the **innermost enclosing** ```for``` or ```while``` loop. The loop terminates.\n",
    "- The ```continue``` statement skips the rest of the code inside a loop for the **current iteration only**. The loop does not terminate but continues with the next iteration.\n",
    "\n",
    "<center> flowchart ```break``` </center> | <center> flowchart ```continue``` </center>\n",
    "--- | ---\n",
    "![break flow chart](images/break-statement-flowchart.jpg) | ![continue flow chart](images/continue-statement-flowchart.jpg)\n",
    "\n",
    "*Images from*: https://www.programiz.com/python-programming/break-continue\n",
    "\n",
    "- ```else``` clauses can also be used on loops!"
   ]
  },
  {
   "cell_type": "code",
   "execution_count": null,
   "metadata": {},
   "outputs": [],
   "source": [
    "for n in range(2, 10):\n",
    "    for x in range(2, n):\n",
    "        if n % x == 0:\n",
    "            print(n, 'equals', x, '*', n//x)\n",
    "            break\n",
    "    else:\n",
    "        # loop fell through without finding a factor\n",
    "        print(n, 'is a prime number')"
   ]
  },
  {
   "cell_type": "markdown",
   "metadata": {},
   "source": [
    "- the ```else``` statement is executed when the loop terminates through exhaustion of the list (```for```) or when the condition becomes false (```while```), but not when the loop is terminated by ```break```\n",
    "\n",
    "Not covered: zip, pass, enumerate, list comprehension"
   ]
  },
  {
   "cell_type": "markdown",
   "metadata": {},
   "source": [
    "### 1.3.7 Functions\n",
    "\n",
    "- we have already seen some pre-defined basic functions:"
   ]
  },
  {
   "cell_type": "code",
   "execution_count": null,
   "metadata": {},
   "outputs": [],
   "source": [
    "x = -4\n",
    "print(type(x))\n",
    "print(abs(x))"
   ]
  },
  {
   "cell_type": "markdown",
   "metadata": {},
   "source": [
    "- you can also define your own functions\n",
    "- a function in programming is not the same as a mathematical function\n",
    "- it's a \"code package\" that performs a specific task and can be used in different parts of your program (or different programs)\n",
    "- a function can have zero, one, or several arguments (input values)\n",
    "- a function can return an object (optional)"
   ]
  },
  {
   "cell_type": "code",
   "execution_count": null,
   "metadata": {},
   "outputs": [],
   "source": [
    "# function with zero arguments and no return statement\n",
    "def test():\n",
    "    print('my first function')\n",
    "    \n",
    "# function with one argument and a return statement\n",
    "def square(x):\n",
    "    return x*x\n",
    "\n",
    "# multiple return statements\n",
    "def sign(x):\n",
    "    if x < 0:\n",
    "        return -1\n",
    "    elif x > 0:\n",
    "        return 1\n",
    "    else:\n",
    "        return 0\n",
    "    \n",
    "# multiple return values (understood as a tuple)\n",
    "def abs_and_sign(x):\n",
    "    return abs(x), sign(x)\n",
    "\n",
    "# a function can have default arguments (rightmost arguments)\n",
    "def power_of_number(x, power = 2):\n",
    "    return x**power    \n",
    "\n",
    "# convenient: keyword arguments\n",
    "def vertical_position(t = 1, v0 = 0):\n",
    "    g = 9.81\n",
    "    return v0*t - 0.5*g*t**2\n",
    "\n",
    "# recursive functions\n",
    "def factorial(n):\n",
    "    if n < 0:\n",
    "        print(\"The input is negative\")\n",
    "    elif n <= 1:\n",
    "        return 1\n",
    "    else:\n",
    "        return n*factorial(n-1)"
   ]
  },
  {
   "cell_type": "code",
   "execution_count": null,
   "metadata": {},
   "outputs": [],
   "source": [
    "factorial(5)"
   ]
  },
  {
   "cell_type": "markdown",
   "metadata": {},
   "source": [
    "- the function arguments are copied when the function is called\n",
    "- for types such as ```int```, ```float```, ```complex``` the **value** is copied\n",
    "- shallow copy of sequence types, such as list"
   ]
  },
  {
   "cell_type": "code",
   "execution_count": null,
   "metadata": {},
   "outputs": [],
   "source": [
    "def try_to_modify(x, y, z):\n",
    "    x = 23\n",
    "    y.append(42)\n",
    "    z = [99]      # new reference\n",
    "    print(x)\n",
    "    print(y)\n",
    "    print(z)\n",
    "\n",
    "a = 77            # immutable variable\n",
    "b = [99]          # mutable variable\n",
    "c = [28]\n",
    "try_to_modify(a, b, c)\n",
    "print(a)\n",
    "print(b)\n",
    "print(c)"
   ]
  },
  {
   "cell_type": "markdown",
   "metadata": {},
   "source": [
    "Not covered: variable number of arguments, global keyword, lambda\n",
    "\n",
    "### 1.3.8 Modules"
   ]
  },
  {
   "cell_type": "code",
   "execution_count": 1,
   "metadata": {},
   "outputs": [
    {
     "name": "stdout",
     "output_type": "stream",
     "text": [
      "pi =  3.141592653589793\n"
     ]
    }
   ],
   "source": [
    "# this illustrates the basic usage of a module in python\n",
    "# we load the math module which contains pi and print it to the screen\n",
    "import math\n",
    "print(\"pi = \", math.pi)\n",
    "# print(\"pi = \", pi) doesn't work"
   ]
  },
  {
   "cell_type": "markdown",
   "metadata": {},
   "source": [
    "- Collections of variables and functions that logically belong together can be grouped in a separate file called a *module*.\n",
    "- Modules are thus a good way to organize code in a hierarchical way.\n",
    "- They can be imported as ```import <module>``` usually at the beginning of the program.\n",
    "- After ```import math``` we can access all functions in this module, such as<br>\n",
    "  ```sqrt```, ```sin```, ```cos```, ```exp```,...<br>\n",
    "  but also constants, such as ```pi```\n",
    "- You can look up a list of all these functions and constants in the [Python documentation](https://docs.python.org/3/library/math.html)\n",
    "- To access complex number versions of many of these functions you need to ```import cmath```\n",
    "- To access the functions and constants you need to preface with ```<module>.``` e.g. ```math.cos(x)```\n",
    "- If you only need one or few specific functions you can also<br>\n",
    "  ```from math import sin, cos```<br>\n",
    "  and then you do not have to preface with ```math.```\n",
    "- You can also do this: ```from math import *``` (like using a namespace in C++), but this is not recommended due to potential clashes with other modules.\n",
    "- And you can call a module using a different name. For example if ```math``` is too long for you, you can:<br>\n",
    "  ```import math as mth```<br>\n",
    "  then you call ```mth.cos(x)``` etc.\n",
    "- You can check out the full list of [Python standard modules](https://docs.python.org/3/py-modindex.html) -- there are lots! We will discuss several of them as we advance in the course.\n",
    "- You can also easily make your own modules! => splitting your project into several files<br>\n",
    "  e.g. we can put our ```factorial``` function into the file ```myfunctions.py``` and import it via ```import myfunctions``` or ```from myfunctions import factorial``` etc."
   ]
  },
  {
   "cell_type": "markdown",
   "metadata": {},
   "source": [
    "### 1.3.9 Syntax\n",
    "\n",
    "- indentation is compulsory (not just for good style)\n",
    "- no brackets like in C++ or Java\n",
    "- indentation must be consistent\n",
    "- convention: always 4 spaces\n",
    "- Python 3 disallows mixing the use of tabs and spaces for indentation\n",
    "\n",
    "You can find the complete and very detailed [Python style guide here.](https://www.python.org/dev/peps/pep-0008/)\n",
    "\n",
    "**Names:**\n",
    "- are case sensitive\n",
    "- may contain numbers but cannot start with a number\n",
    "- may not contain any special characters except ```_``` (names can start with ```_```)\n",
    "- reserved words: ```and, assert, break, class, continue, def, del, elif, else, except, exec, finally, for, from, global, if, import, in, is, lambda, not, or, pass, print, raise, return, try, while```\n",
    "- you can overwrite anything else...\n",
    "\n",
    "**Comments:**"
   ]
  },
  {
   "cell_type": "code",
   "execution_count": null,
   "metadata": {},
   "outputs": [],
   "source": [
    "# This is a demonstration of comments in Python\n",
    "\n",
    "a = 0   # this is a comment\n",
    "\n",
    "text = \"# This is not a comment because it's inside quotes.\"\n",
    "\n",
    "# For comments that go over multiple lines\n",
    "# most editors let you comment and uncomment\n",
    "# a block of text at once\n",
    "\n",
    "def some_function():\n",
    "    \"\"\"\n",
    "    Text between triple quotes is also handled as a type of comment.\n",
    "    It is called \"docstring\" and is typically used to explain what a \n",
    "    program, function, module or class does. \n",
    "    Docstrings can be turned into documentation. \n",
    "    \"\"\"\n",
    "    print(\"some output\")"
   ]
  },
  {
   "cell_type": "markdown",
   "metadata": {},
   "source": [
    "**Line formatting:**\n",
    "- can put several commands in one line using ```;``` (usually bad style)\n",
    "- no need to mark the end of a line (e.g. with ```;``` like in C++)\n",
    "- break long lines with \\\n",
    "- often there is a ```:``` at the start of a new block"
   ]
  },
  {
   "cell_type": "code",
   "execution_count": null,
   "metadata": {},
   "outputs": [],
   "source": [
    "x = 1; y = 2; z = x + y; print(z)   # can put several commands in one line using \";\""
   ]
  },
  {
   "cell_type": "code",
   "execution_count": null,
   "metadata": {},
   "outputs": [],
   "source": [
    "# very long piece of code\n",
    "sum = x + x**2/2 + x**3/3 + x**4/4 + x**5/5 + x**6/6 + x**7/7 + x**8/8 + x**9/9\n",
    "\n",
    "# split using parentheses ...\n",
    "sum = (x + x**2/2 + x**3/3\n",
    "     + x**4/4 + x**5/5\n",
    "     + x**6/6 + x**7/7\n",
    "     + x**8/8 + x**9/9)\n",
    "\n",
    "# or the line continuation operator (more general method)\n",
    "sum = x + x**2/2 + x**3/3 \\\n",
    "    + x**4/4 + x**5/5 \\\n",
    "    + x**6/6 + x**7/7 \\\n",
    "    + x**8/8 + x**9/9\n",
    "\n",
    "# The usual convention is to limit lines to a maximum of 79 characters.\n",
    "# Make sure that there are no spaces after the \"\\\" sign!"
   ]
  },
  {
   "cell_type": "markdown",
   "metadata": {},
   "source": [
    "A few examples directly comparing Java and Python, taken from [here](https://pythonconquerstheuniverse.wordpress.com/2009/10/03/python-java-a-side-by-side-comparison/):\n",
    "\n",
    "Loops\n",
    "\n",
    "<table>\n",
    "    <tr> \n",
    "    <td style=\"vertical-align:top; text-align: center; width:30em\">\n",
    "        Java</td>\n",
    "    <td style=\"vertical-align:top; text-align: center; width:30em\">\n",
    "        Python </td>\n",
    "    </tr>  \n",
    "<tr>\n",
    "<td style=\"vertical-align:top; text-align: left; width:20em\">\n",
    "<pre>// print the integers from 1 to 9\n",
    "for (int i = 1; i &lt; 10; i++)\n",
    "    {\n",
    "     System.out.println(i);\n",
    "    }</pre>\n",
    "</td>\n",
    "<td style=\"vertical-align:top; text-align: left; width:20em\">\n",
    "<pre>\n",
    "# print the integers from 1 to 9\n",
    "for i in range(1,10):\n",
    "    print i</pre>\n",
    "</td>\n",
    "</tr>\n",
    "</table>\n",
    "\n",
    "If statement:\n",
    "<table>\n",
    "    <tr> \n",
    "    <td style=\"vertical-align:top; text-align: center; width:20em\">\n",
    "        Java </td>\n",
    "    <td style=\"vertical-align:top; text-align: center; width:20em\">\n",
    "        Python </td>\n",
    "    </tr>\n",
    "<tr>\n",
    "<td style=\"vertical-align:top; text-align: left; width:20em\">\n",
    "<pre>\n",
    "if ( a > b )\n",
    "    {\n",
    "     a = b;\n",
    "     b = c;\n",
    "    }\n",
    "</pre>\n",
    "</td>\n",
    "<td style=\"vertical-align:top; text-align: left; width:20em\">\n",
    "<pre>\n",
    "if  a > b :\n",
    "    a = b\n",
    "    b = c\n",
    "</pre>\n",
    "</td>\n",
    "</tr>\n",
    "</table>\n",
    "\n",
    "List manipulation:\n",
    "<table>\n",
    "    <tr> \n",
    "    <td style=\"vertical-align:top; text-align: center; width:62em\">\n",
    "        Java (after version 1.5) </td>\n",
    "    <td style=\"vertical-align:top; text-align: center; width:30em\">\n",
    "        Python </td>\n",
    "    </tr>    \n",
    "<tr>\n",
    "<td style=\"vertical-align:top; text-align: left; width:62em\">\n",
    "<pre>public Vector&lt;Integer&gt; aList = new Vector&lt;Integer&gt;;\n",
    "public int aNumber = 5;\n",
    "public int anotherNumber;\n",
    "\n",
    "aList.addElement(aNumber);\n",
    "anotherNumber = aList.getElement(0);</pre>\n",
    "</td>\n",
    "<td style=\"vertical-align:top; text-align: left; width:30em\">\n",
    "<pre>aList = []\n",
    "aNumber = 5\n",
    "\n",
    "aList.append(aNumber)\n",
    "anotherNumber = aList[0]</pre>\n",
    "</td>\n",
    "</tr>\n",
    "</table>"
   ]
  },
  {
   "cell_type": "markdown",
   "metadata": {},
   "source": [
    "### 1.3.10 Data input and output\n",
    "\n",
    "- the most basic output is ```print(myString)``` which we have already seen\n",
    "- you can format the output more nicely/conveniently:"
   ]
  },
  {
   "cell_type": "code",
   "execution_count": null,
   "metadata": {},
   "outputs": [],
   "source": [
    "print('{} and {}'.format('spam', 'eggs'))\n",
    "print('{0} and {1}'.format('spam', 'eggs'))\n",
    "print('{1} and {0}'.format('spam', 'eggs'))\n",
    "print('This {food} is {adjective}.'.format(\n",
    "       food='coffee', adjective='absolutely horrible'))"
   ]
  },
  {
   "cell_type": "code",
   "execution_count": null,
   "metadata": {},
   "outputs": [],
   "source": [
    "for x in range(1, 11):\n",
    "    print('{0:2d} {1:3d} {2:4d}'.format(x, x*x, x*x*x))"
   ]
  },
  {
   "cell_type": "code",
   "execution_count": null,
   "metadata": {},
   "outputs": [],
   "source": [
    "from math import pi\n",
    "print(pi)\n",
    "print('Pi showing only the first 5 digits: %.5f' % pi)"
   ]
  },
  {
   "cell_type": "markdown",
   "metadata": {},
   "source": [
    "- command line input:"
   ]
  },
  {
   "cell_type": "code",
   "execution_count": 2,
   "metadata": {},
   "outputs": [
    {
     "name": "stdin",
     "output_type": "stream",
     "text": [
      "Enter a positive number:  3\n"
     ]
    },
    {
     "data": {
      "text/plain": [
       "str"
      ]
     },
     "execution_count": 2,
     "metadata": {},
     "output_type": "execute_result"
    }
   ],
   "source": [
    "inputNumber = input(\"Enter a positive number: \")\n",
    "type(inputNumber)"
   ]
  },
  {
   "cell_type": "code",
   "execution_count": 3,
   "metadata": {},
   "outputs": [
    {
     "name": "stdin",
     "output_type": "stream",
     "text": [
      "Enter a positive number:  3\n"
     ]
    },
    {
     "data": {
      "text/plain": [
       "int"
      ]
     },
     "execution_count": 3,
     "metadata": {},
     "output_type": "execute_result"
    }
   ],
   "source": [
    "inputNumber = int(input(\"Enter a positive number: \"))\n",
    "type(inputNumber)"
   ]
  },
  {
   "cell_type": "markdown",
   "metadata": {},
   "source": [
    "- manipulating files:"
   ]
  },
  {
   "cell_type": "code",
   "execution_count": 4,
   "metadata": {},
   "outputs": [],
   "source": [
    "f = open('workfile', 'w')  # write only, creates a file if it doesn't exist or overwrites\n",
    "f.write('This is a test \\n and another test')\n",
    "f.close()"
   ]
  },
  {
   "cell_type": "code",
   "execution_count": 5,
   "metadata": {},
   "outputs": [
    {
     "name": "stdout",
     "output_type": "stream",
     "text": [
      "This is a test \n",
      " and another test\n"
     ]
    }
   ],
   "source": [
    "f = open('workfile', 'r')  # read only\n",
    "s = f.read()\n",
    "print(s)\n",
    "f.close()"
   ]
  },
  {
   "cell_type": "code",
   "execution_count": null,
   "metadata": {},
   "outputs": [],
   "source": [
    "f = open('workfile')       # default is read only (in text mode)\n",
    "for line in f:\n",
    "    print(line)\n",
    "f.close()"
   ]
  },
  {
   "cell_type": "markdown",
   "metadata": {},
   "source": [
    "- there are many additional methods for reading, examining, and manipulating files\n",
    "- the numpy library also has useful file methods => see next section\n",
    "\n",
    "### 1.3.11 Libraries\n",
    "\n",
    "[NumPy](http://numpy.org/): creating and manipulating numerical data:\n",
    "- powerful linear algebra tools\n",
    "- fast array operations\n",
    "- useful Fourier transform and random number capabilities\n",
    "- tools for integrating C/C++/Fortran code\n",
    "- also very efficient for handling generic multi-dimensional data\n",
    "- reference: https://docs.scipy.org/doc/numpy/reference/\n",
    "- tutorials: \n",
    "     - http://www.scipy-lectures.org/numpy/numpy.html\n",
    "     - https://docs.scipy.org/doc/numpy/user/quickstart.html\n",
    "\n",
    "Here are some examples:"
   ]
  },
  {
   "cell_type": "code",
   "execution_count": 3,
   "metadata": {},
   "outputs": [
    {
     "data": {
      "text/plain": [
       "array([0, 1, 2])"
      ]
     },
     "execution_count": 3,
     "metadata": {},
     "output_type": "execute_result"
    }
   ],
   "source": [
    "import numpy as np        # standard alias\n",
    "a = np.array([0, 1, 2])   # compare to a list of elements of the same type\n",
    "a"
   ]
  },
  {
   "cell_type": "code",
   "execution_count": 4,
   "metadata": {},
   "outputs": [
    {
     "name": "stdout",
     "output_type": "stream",
     "text": [
      "[0 1 2]\n"
     ]
    }
   ],
   "source": [
    "print(a)"
   ]
  },
  {
   "cell_type": "code",
   "execution_count": 5,
   "metadata": {},
   "outputs": [
    {
     "data": {
      "text/plain": [
       "array([0, 2, 4])"
      ]
     },
     "execution_count": 5,
     "metadata": {},
     "output_type": "execute_result"
    }
   ],
   "source": [
    "a + a                     # unlike for regular lists, the *elements* are now added"
   ]
  },
  {
   "cell_type": "code",
   "execution_count": 6,
   "metadata": {},
   "outputs": [
    {
     "data": {
      "text/plain": [
       "array([[0., 1.],\n",
       "       [2., 3.]])"
      ]
     },
     "execution_count": 6,
     "metadata": {},
     "output_type": "execute_result"
    }
   ],
   "source": [
    "b = np.array([[0., 1.], [2., 3.]])\n",
    "b"
   ]
  },
  {
   "cell_type": "code",
   "execution_count": 7,
   "metadata": {},
   "outputs": [
    {
     "data": {
      "text/plain": [
       "array([0, 1, 2, 3, 4, 5, 6, 7, 8, 9])"
      ]
     },
     "execution_count": 7,
     "metadata": {},
     "output_type": "execute_result"
    }
   ],
   "source": [
    "a = np.arange(10)\n",
    "a"
   ]
  },
  {
   "cell_type": "code",
   "execution_count": 8,
   "metadata": {},
   "outputs": [
    {
     "data": {
      "text/plain": [
       "array([1., 3., 5., 7.])"
      ]
     },
     "execution_count": 8,
     "metadata": {},
     "output_type": "execute_result"
    }
   ],
   "source": [
    "b = np.arange(1., 9., 2)    # syntax: start, end, step\n",
    "b"
   ]
  },
  {
   "cell_type": "code",
   "execution_count": 12,
   "metadata": {},
   "outputs": [
    {
     "data": {
      "text/plain": [
       "array([0. , 0.5])"
      ]
     },
     "execution_count": 12,
     "metadata": {},
     "output_type": "execute_result"
    }
   ],
   "source": [
    "c = np.arange(0, 1, 0.5)\n",
    "c"
   ]
  },
  {
   "cell_type": "code",
   "execution_count": 10,
   "metadata": {},
   "outputs": [
    {
     "name": "stdout",
     "output_type": "stream",
     "text": [
      "[ 0.00000000e+00  3.24699469e-01  6.14212713e-01  8.37166478e-01\n",
      "  9.69400266e-01  9.96584493e-01  9.15773327e-01  7.35723911e-01\n",
      "  4.75947393e-01  1.64594590e-01 -1.64594590e-01 -4.75947393e-01\n",
      " -7.35723911e-01 -9.15773327e-01 -9.96584493e-01 -9.69400266e-01\n",
      " -8.37166478e-01 -6.14212713e-01 -3.24699469e-01 -2.44929360e-16]\n"
     ]
    }
   ],
   "source": [
    "x = np.linspace( 0, 2*np.pi, 20 )   # numpy also has math functionalities\n",
    "f = np.sin(x)                       # useful to evaluate function at lots of points\n",
    "print(f)"
   ]
  },
  {
   "cell_type": "code",
   "execution_count": null,
   "metadata": {},
   "outputs": [],
   "source": [
    "a = np.ones((3,3))\n",
    "a"
   ]
  },
  {
   "cell_type": "code",
   "execution_count": null,
   "metadata": {},
   "outputs": [],
   "source": [
    "b = np.ones(5, dtype=np.int)\n",
    "b"
   ]
  },
  {
   "cell_type": "code",
   "execution_count": null,
   "metadata": {},
   "outputs": [],
   "source": [
    "c = np.zeros((2,2))\n",
    "c"
   ]
  },
  {
   "cell_type": "code",
   "execution_count": null,
   "metadata": {},
   "outputs": [],
   "source": [
    "d = np.eye(3)\n",
    "d"
   ]
  },
  {
   "cell_type": "code",
   "execution_count": null,
   "metadata": {},
   "outputs": [],
   "source": [
    "a = np.arange(15).reshape(3, 5)\n",
    "a"
   ]
  },
  {
   "cell_type": "code",
   "execution_count": null,
   "metadata": {},
   "outputs": [],
   "source": [
    "print(a.shape)\n",
    "print(a.ndim)\n",
    "print(a.size)\n",
    "print(a.sum())\n",
    "print(a.sum(axis = 0))\n",
    "print(a.max())"
   ]
  },
  {
   "cell_type": "markdown",
   "metadata": {},
   "source": [
    "An illustrated summary of Numpy indexing and slicing\n",
    "\n",
    "![numpy indexing and slicing](images/numpy_indexing.png)\n",
    "\n",
    "Source: http://www.scipy-lectures.org/numpy/numpy.html\n",
    "\n",
    "A slicing operation creates a view on the original array, which is just a way of accessing array data. Thus the original array is not copied in memory. When modifying the view, the original array is modified as well:"
   ]
  },
  {
   "cell_type": "code",
   "execution_count": null,
   "metadata": {},
   "outputs": [],
   "source": [
    "A = np.array( [[1,1],\n",
    "               [0,1]] )\n",
    "A.transpose()"
   ]
  },
  {
   "cell_type": "code",
   "execution_count": null,
   "metadata": {},
   "outputs": [],
   "source": [
    "B = np.array( [[2,0],\n",
    "               [3,4]] )\n",
    "A * B                       # elementwise product"
   ]
  },
  {
   "cell_type": "code",
   "execution_count": null,
   "metadata": {},
   "outputs": [],
   "source": [
    "A.dot(B)                    # matrix product"
   ]
  },
  {
   "cell_type": "code",
   "execution_count": null,
   "metadata": {},
   "outputs": [],
   "source": [
    "# the following modify the existing array\n",
    "A *= 3\n",
    "print(A,'\\n')\n",
    "A += B\n",
    "print(A)"
   ]
  },
  {
   "cell_type": "markdown",
   "metadata": {},
   "source": [
    "Writing and reading a file:\n",
    "- Writing a text file (in ASCII):"
   ]
  },
  {
   "cell_type": "code",
   "execution_count": null,
   "metadata": {},
   "outputs": [],
   "source": [
    "np.savetxt('data_A.txt', A)"
   ]
  },
  {
   "cell_type": "markdown",
   "metadata": {},
   "source": [
    "- Writing a binary file (.npy extension, recommended format)"
   ]
  },
  {
   "cell_type": "code",
   "execution_count": null,
   "metadata": {},
   "outputs": [],
   "source": [
    "np.save('data_B.npy', B)"
   ]
  },
  {
   "cell_type": "markdown",
   "metadata": {},
   "source": [
    "- Reading from a text file:"
   ]
  },
  {
   "cell_type": "code",
   "execution_count": null,
   "metadata": {},
   "outputs": [],
   "source": [
    "b = np.loadtxt('data_A.txt')\n",
    "b"
   ]
  },
  {
   "cell_type": "markdown",
   "metadata": {},
   "source": [
    "- Reading from a binary file:"
   ]
  },
  {
   "cell_type": "code",
   "execution_count": null,
   "metadata": {},
   "outputs": [],
   "source": [
    "c = np.load('data_B.npy')\n",
    "c"
   ]
  },
  {
   "cell_type": "code",
   "execution_count": null,
   "metadata": {},
   "outputs": [],
   "source": [
    "for s1 in range(2):\n",
    "    for s2 in range(2):\n",
    "        filename=\"input_files/P_%d_%d.dat\" % (s1, s2)\n",
    "        data = np.loadtxt(filename)\n",
    "        print(s1, s2, data)\n",
    "data"
   ]
  },
  {
   "cell_type": "markdown",
   "metadata": {},
   "source": [
    "There are a lot more features => documentation, references, internet search\n",
    "\n",
    "[Scipy](https://www.scipy.org/):\n",
    "- The SciPy library provides many user-friendly and efficient numerical routines e.g. for numerical integration and optimization.\n",
    "- Scipy builds on Numpy, and for all basic array handling needs you can use Numpy functions\n",
    "- Tutorials: \n",
    "     - https://docs.scipy.org/doc/scipy/reference/tutorial/index.html\n",
    "     - http://www.scipy-lectures.org/scipy.html\n",
    "\n",
    "A few examples:\n",
    "\n",
    "- special functions of mathematical physics: submodule scipy.special<br>\n",
    "  Bessel function, Gamma function, etc."
   ]
  },
  {
   "cell_type": "code",
   "execution_count": null,
   "metadata": {},
   "outputs": [],
   "source": [
    "from scipy import special\n",
    "help(special)"
   ]
  },
  {
   "cell_type": "markdown",
   "metadata": {},
   "source": [
    "- scipy.integrate\n",
    "- scipy.linalg contains all the functions in numpy.linalg plus additional ones (and might be faster depending on numpy installation)\n",
    "- scipy.interpolate\n",
    "- ...and many more"
   ]
  },
  {
   "cell_type": "markdown",
   "metadata": {},
   "source": [
    "### 1.3.12 Plotting \n",
    "\n",
    "[matplotlib](http://matplotlib.sourceforge.net):\n",
    "- high quality plotting library\n",
    "- \"makes easy things easy and hard things possible\"\n",
    "- can also be used interactively with IPython\n",
    "- many tutorials on the matplotlib website, e.g.<br>\n",
    "  https://matplotlib.org/tutorials/index.html\n",
    "  and references to additional resources:<br>\n",
    "  https://matplotlib.org/resources/index.html\n",
    "\n",
    "Example script illustrating the most important matplotlib features:"
   ]
  },
  {
   "cell_type": "code",
   "execution_count": null,
   "metadata": {},
   "outputs": [],
   "source": [
    "%matplotlib inline"
   ]
  },
  {
   "cell_type": "code",
   "execution_count": null,
   "metadata": {},
   "outputs": [],
   "source": [
    "import numpy as np\n",
    "import matplotlib.pyplot as plt\n",
    "\n",
    "# Data for plotting (you can also load from a file with numpy)\n",
    "xvalues = np.arange(0.0, 2.0, 0.01)          # this generates a fine list of numbers for plotting \n",
    "def function1(x):                            # this is a function that we want to plot\n",
    "    return 1 + np.sin(2 * np.pi * x)\n",
    "yvalues2 = 1 + np.cos(2 * np.pi * xvalues)   # this is another function, here saved explicitly into a list\n",
    "\n",
    "# custom plot range, if desired\n",
    "plt.xlim([-0.5,2.0])  \n",
    "plt.ylim([0.0,2.8])\n",
    "\n",
    "# the actual plot, specifying line styles\n",
    "plt.plot(xvalues, function1(xvalues), 'r--', linewidth=2, label='function 1')\n",
    "plt.plot(xvalues, yvalues2, 'b-', linewidth=2, label='function 2')\n",
    "\n",
    "# additional horizontal line with a few plotting options\n",
    "plt.axhline(y=1, color='black', linestyle='-', linewidth=1)\n",
    "\n",
    "# Plot title, axes labels, and legend with a few example options\n",
    "plt.title('The title of the plot')\n",
    "plt.xlabel('x-axis label')\n",
    "plt.ylabel('y-axis label', fontsize=16)\n",
    "plt.legend(loc='upper right', frameon=False, fontsize=16, labelspacing=0.3)\n",
    "\n",
    "# include this command if you want to display a grid\n",
    "plt.grid()\n",
    "\n",
    "# this saves all components of the plot into a file\n",
    "plt.savefig(\"test.png\")\n",
    "\n",
    "# this displays all components of the plot\n",
    "plt.show()"
   ]
  },
  {
   "cell_type": "markdown",
   "metadata": {},
   "source": [
    "Not covered in this lecture: errors and exceptions, object oriented programming, virtual environment"
   ]
  }
 ],
 "metadata": {
  "kernelspec": {
   "display_name": "Python 3",
   "language": "python",
   "name": "python3"
  },
  "language_info": {
   "codemirror_mode": {
    "name": "ipython",
    "version": 3
   },
   "file_extension": ".py",
   "mimetype": "text/x-python",
   "name": "python",
   "nbconvert_exporter": "python",
   "pygments_lexer": "ipython3",
   "version": "3.7.3"
  }
 },
 "nbformat": 4,
 "nbformat_minor": 2
}
