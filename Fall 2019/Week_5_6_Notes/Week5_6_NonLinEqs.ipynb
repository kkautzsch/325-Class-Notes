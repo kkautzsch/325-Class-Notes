{
 "cells": [
  {
   "cell_type": "markdown",
   "metadata": {},
   "source": [
    "# PHYS 325 Scientific Computing -- Fall 2018"
   ]
  },
  {
   "cell_type": "markdown",
   "metadata": {},
   "source": [
    "## 2.2 Non-linear equations\n",
    "\n",
    "Good references: *\"Computational Physics\"* by Mark Newman, *\"Numerical Recipes\"*\n",
    "\n",
    "So far we have covered: linear equations\n",
    "\n",
    "What about general non-linear equations?\n",
    "\n",
    "- many equations in physics are non-linear\n",
    "- solving non-linear equations is in general much harder than solving linear equations\n",
    "- systems of many non-linear equations are even harder\n",
    "- it is hard to tell whether and how many solutions exist\n",
    "\n",
    "=> will mostly focus on single-variable equations\n",
    "\n",
    "### 2.2.1 Relaxation method (fixed point iteration)\n",
    "\n",
    "**Example** (no analytic solution):\n",
    "\n",
    "$$x = 2 - e^{-x}$$\n",
    "\n",
    "**Visualization**:"
   ]
  },
  {
   "cell_type": "code",
   "execution_count": 1,
   "metadata": {},
   "outputs": [
    {
     "data": {
      "image/png": "[encoded data removed]",
      "text/plain": [
       "<matplotlib.figure.Figure at 0x7f6208c65a90>"
      ]
     },
     "metadata": {},
     "output_type": "display_data"
    }
   ],
   "source": [
    "%matplotlib inline\n",
    "import numpy as np\n",
    "import matplotlib.pyplot as plt\n",
    "\n",
    "# generate fine list of numbers for plotting\n",
    "x = np.arange(0.0, 4.0, 0.01)\n",
    "\n",
    "# plot the right hand side of the equation\n",
    "plt.plot(x, 2 - np.exp(-x), label=r'$2-e^{-x}$')\n",
    "\n",
    "# plot the left hand side of the equation\n",
    "plt.plot(x, x, label='x')\n",
    "\n",
    "# make a nice axis label and legend\n",
    "plt.xlabel(\"x\")\n",
    "plt.legend(loc='upper left', fontsize=16, labelspacing=0.3)\n",
    "\n",
    "# this displays all components of the plot\n",
    "plt.show()"
   ]
  },
  {
   "cell_type": "markdown",
   "metadata": {},
   "source": [
    "**Idea**: guess a solution and iterate\n",
    "\n",
    "$$\n",
    "\\begin{array}{lll}\n",
    "x_0 &=& 1.0 \\\\\n",
    "x_1 &=& 2 - e^{-x_0} \\approx 1.632\\\\\n",
    "x_2 &=& 2 - e^{-x_1} \\approx 1.804\\\\\n",
    "\\vdots &\\ & \n",
    "\\end{array}\n",
    "$$\n",
    "\n",
    "until the value stops changing (**fixed point**)"
   ]
  },
  {
   "cell_type": "code",
   "execution_count": 1,
   "metadata": {},
   "outputs": [
    {
     "name": "stdout",
     "output_type": "stream",
     "text": [
      "1.6321205588285577\n",
      "1.8044854658474119\n",
      "1.8354408939220457\n",
      "1.8404568553435368\n",
      "1.841255113911434\n",
      "1.8413817828128696\n",
      "1.8414018735357267\n",
      "1.8414050598547234\n",
      "1.8414055651879888\n",
      "1.8414056453310121\n"
     ]
    }
   ],
   "source": [
    "from math import exp\n",
    "\n",
    "x = 1.0\n",
    "\n",
    "for k in range(10):\n",
    "    x = 2 - exp(-x)\n",
    "    print(x)"
   ]
  },
  {
   "cell_type": "markdown",
   "metadata": {},
   "source": [
    "We have indeed found a fixed point!\n",
    "\n",
    "value stops changing => this solution is definitely correct\n",
    "\n",
    "Try a \"bad\" initial value"
   ]
  },
  {
   "cell_type": "code",
   "execution_count": 2,
   "metadata": {},
   "outputs": [
    {
     "name": "stdout",
     "output_type": "stream",
     "text": [
      "2.0\n",
      "1.8646647167633872\n",
      "1.8450518473052135\n",
      "1.8419828720850022\n",
      "1.8414971765224537\n",
      "1.8414201737059899\n",
      "1.8414079621425745\n",
      "1.8414060254740223\n",
      "1.8414057183297619\n",
      "1.8414056696184309\n"
     ]
    }
   ],
   "source": [
    "from math import exp\n",
    "\n",
    "x = 100.0\n",
    "\n",
    "for k in range(10):\n",
    "    x = 2 - exp(-x)\n",
    "    print(x)"
   ]
  },
  {
   "cell_type": "markdown",
   "metadata": {},
   "source": [
    "This worked, too!\n",
    "\n",
    "Have we found all solutions?"
   ]
  },
  {
   "cell_type": "code",
   "execution_count": 3,
   "metadata": {},
   "outputs": [
    {
     "data": {
      "image/png": "[encoded data removed]",
      "text/plain": [
       "<Figure size 432x288 with 1 Axes>"
      ]
     },
     "metadata": {
      "needs_background": "light"
     },
     "output_type": "display_data"
    }
   ],
   "source": [
    "%matplotlib inline\n",
    "import numpy as np\n",
    "import matplotlib.pyplot as plt\n",
    "\n",
    "x = np.arange(-2.0, 2.5, 0.01)\n",
    "\n",
    "plt.plot(x, 2 - np.exp(-x), label=r'$2-e^{-x}$')\n",
    "plt.plot(x, x, label='x')\n",
    "plt.xlabel(\"x\")\n",
    "plt.legend(loc='upper left', fontsize=16, labelspacing=0.3)\n",
    "\n",
    "plt.show()"
   ]
  },
  {
   "cell_type": "code",
   "execution_count": 4,
   "metadata": {},
   "outputs": [
    {
     "name": "stdout",
     "output_type": "stream",
     "text": [
      "-0.7182818284590451\n",
      "-0.0509063726925012\n",
      "0.947775628263688\n",
      "1.612397763269514\n",
      "1.800591094959094\n",
      "1.834798790246516\n",
      "1.8403543792073163\n",
      "1.8412388455153157\n",
      "1.8413792023278908\n",
      "1.8414014642751155\n"
     ]
    }
   ],
   "source": [
    "from math import exp\n",
    "\n",
    "x = -1.0\n",
    "\n",
    "for k in range(10):\n",
    "    x = 2 - exp(-x)\n",
    "    print(x)"
   ]
  },
  {
   "cell_type": "code",
   "execution_count": 5,
   "metadata": {},
   "outputs": [
    {
     "name": "stdout",
     "output_type": "stream",
     "text": [
      "-5.38905609893065\n",
      "-216.99657686275216\n",
      "-1.7394659160525732e+94\n"
     ]
    },
    {
     "ename": "OverflowError",
     "evalue": "math range error",
     "output_type": "error",
     "traceback": [
      "\u001b[1;31m---------------------------------------------------------------------------\u001b[0m",
      "\u001b[1;31mOverflowError\u001b[0m                             Traceback (most recent call last)",
      "\u001b[1;32m<ipython-input-5-b21094ed7b43>\u001b[0m in \u001b[0;36m<module>\u001b[1;34m\u001b[0m\n\u001b[0;32m      4\u001b[0m \u001b[1;33m\u001b[0m\u001b[0m\n\u001b[0;32m      5\u001b[0m \u001b[1;32mfor\u001b[0m \u001b[0mk\u001b[0m \u001b[1;32min\u001b[0m \u001b[0mrange\u001b[0m\u001b[1;33m(\u001b[0m\u001b[1;36m10\u001b[0m\u001b[1;33m)\u001b[0m\u001b[1;33m:\u001b[0m\u001b[1;33m\u001b[0m\u001b[1;33m\u001b[0m\u001b[0m\n\u001b[1;32m----> 6\u001b[1;33m     \u001b[0mx\u001b[0m \u001b[1;33m=\u001b[0m \u001b[1;36m2\u001b[0m \u001b[1;33m-\u001b[0m \u001b[0mexp\u001b[0m\u001b[1;33m(\u001b[0m\u001b[1;33m-\u001b[0m\u001b[0mx\u001b[0m\u001b[1;33m)\u001b[0m\u001b[1;33m\u001b[0m\u001b[1;33m\u001b[0m\u001b[0m\n\u001b[0m\u001b[0;32m      7\u001b[0m     \u001b[0mprint\u001b[0m\u001b[1;33m(\u001b[0m\u001b[0mx\u001b[0m\u001b[1;33m)\u001b[0m\u001b[1;33m\u001b[0m\u001b[1;33m\u001b[0m\u001b[0m\n",
      "\u001b[1;31mOverflowError\u001b[0m: math range error"
     ]
    }
   ],
   "source": [
    "from math import exp\n",
    "\n",
    "x = -2.0\n",
    "\n",
    "for k in range(10):\n",
    "    x = 2 - exp(-x)\n",
    "    print(x)"
   ]
  },
  {
   "cell_type": "markdown",
   "metadata": {},
   "source": [
    "Fixed point implies correct solution, but\n",
    "\n",
    "- solution found depends on starting value\n",
    "- might not find all solutions\n",
    "- might not find any solution\n",
    "\n",
    "Example with trivial solution $x=1$ of:\n",
    "\n",
    "$$x = e^{1-x^2}$$"
   ]
  },
  {
   "cell_type": "code",
   "execution_count": 2,
   "metadata": {},
   "outputs": [
    {
     "data": {
      "image/png": "[encoded data removed]",
      "text/plain": [
       "<matplotlib.figure.Figure at 0x7f6208c65ac8>"
      ]
     },
     "metadata": {},
     "output_type": "display_data"
    }
   ],
   "source": [
    "%matplotlib inline\n",
    "import numpy as np\n",
    "import matplotlib.pyplot as plt\n",
    "\n",
    "x = np.arange(-2.0, 2.5, 0.01)\n",
    "\n",
    "plt.plot(x, np.exp(1-x*x), label=r'$e^{1-x^2}$')\n",
    "plt.plot(x, x, label='x')\n",
    "plt.xlabel(\"x\")\n",
    "plt.legend(loc='lower right', fontsize=16, labelspacing=0.3)\n",
    "\n",
    "plt.show()"
   ]
  },
  {
   "cell_type": "code",
   "execution_count": null,
   "metadata": {},
   "outputs": [],
   "source": [
    "from math import exp\n",
    "\n",
    "x = 1.1\n",
    "\n",
    "for k in range(10):\n",
    "    x = exp(1-x*x)\n",
    "    print(x)"
   ]
  },
  {
   "cell_type": "markdown",
   "metadata": {},
   "source": [
    "=> oscillates forever between 2 values\n",
    "\n",
    "**Useful trick**: rearrange equation\n",
    "\n",
    "$$x = e^{1-x^2} \\Rightarrow \\log(x) = 1-x^2 \\Rightarrow x = \\sqrt{1-\\log(x)}$$"
   ]
  },
  {
   "cell_type": "code",
   "execution_count": null,
   "metadata": {},
   "outputs": [],
   "source": [
    "from math import sqrt, log\n",
    "\n",
    "x = 1.1\n",
    "\n",
    "for k in range(10):\n",
    "    x = sqrt(1-log(x))\n",
    "    print(x)"
   ]
  },
  {
   "cell_type": "markdown",
   "metadata": {},
   "source": [
    "A little bit of theory on fixed point **convergence**:\n",
    "\n",
    "Assume $x^*$ is the solution (fixed point) of $x = f(x)$. Then we can Taylor expand close to $x^*$:\n",
    "\n",
    "$$\n",
    "\\begin{array}{lll}\n",
    "{x}_{n+1} = f(x_n) &=& f(x^*) + (x_n-x^*)f'(x^*)+\\ldots\\\\\n",
    " &=& x^* + (x_n-x^*)f'(x^*)+\\ldots\n",
    "\\end{array}\n",
    "$$\n",
    "\n",
    "Neglecting higher order terms:\n",
    "\n",
    "$${x}_{n+1} - x^* = (x_n-x^*)f'(x^*)$$\n",
    "\n",
    "This means that the distance $x-x^*$ to the true solution gets multiplied on each iteration by a factor of $f'(x^*)$\n",
    "\n",
    "- $|f'(x^*)|<1$: distance will get smaller => convergence\n",
    "- $|f'(x^*)|>1$: distance will get larger => no convergence\n",
    "\n",
    "Consider:\n",
    "\n",
    "- $f(x)=2-e^{-x}\\Rightarrow f'(x) = e^{-x}$\n",
    "    - if $x<0$ then $f'(x)$ is always larger than 1\n",
    "    - if $x>0$ then $f'(x)$ is always smaller than 1\n",
    "- $f(x)=e^{1-x^2}\\Rightarrow |f'(x)| = |-2xe^{1-x^2}|$\n",
    "    - at $x=1$ this equals $2>1$\n",
    "\n",
    "In such cases: invert the function!\n",
    "\n",
    "=> $(f^{-1})'(x^*) = 1/f'(x^*)$\n",
    "\n",
    "But:\n",
    "- not all equations can be inverted\n",
    "- other rearrangements of the equation do not guarantee convergence\n",
    "\n",
    "Advantages of the method:\n",
    "- easy to code\n",
    "- works in many cases\n",
    "- extends easily to more than one variable"
   ]
  },
  {
   "cell_type": "markdown",
   "metadata": {},
   "source": [
    "Not all equations are in the form\n",
    "\n",
    "$$ x = f(x) $$\n",
    "\n",
    "(although usually you can rearrange them to this form)"
   ]
  },
  {
   "cell_type": "markdown",
   "metadata": {},
   "source": [
    "Can write any equation as \n",
    "\n",
    "$$f(x)=0$$\n",
    "\n",
    "=> **root finding** (1d)\n",
    "\n",
    "All (non-linear) root finding algorithms:\n",
    "\n",
    "- work with some form of iteration\n",
    "- start from some trial solution\n",
    "- improve the solution until a convergence criterion is reached\n",
    "\n",
    "Smooth functions:\n",
    "\n",
    "- \"good\" algorithms will always converge if initial guess is good enough\n",
    "- rate of convergence is usually known\n",
    "\n",
    "Common problems:\n",
    "\n",
    "- your program converges, with ten-digit accuracy, to the wrong root of a problem\n",
    "- your program fails to converge because there is actually no root\n",
    "- there is a root but your initial estimate was not sufficiently close to find it\n",
    "\n",
    "Always try to get some idea of what your function looks like before trying to find\n",
    "its roots!\n",
    "\n",
    "Always bracket a root before trying to converge to the root's value:\n",
    "\n",
    "### 2.2.2 Bracketing\n",
    "\n",
    "root is bracketed in interval $(a,b)$ if $f(a)$ and $f(b)$ have opposite signs\n",
    "\n",
    "![bracketing](images/bracketing.png)\n",
    "\n",
    "intermediate value theorem for continuous functions => at least one root must be in the interval!\n",
    "\n",
    "But there are numerical difficulties and pathological functions:\n",
    "\n",
    "![different bracketing cases](images/roots.png)\n",
    "Image from: *\"Numerical Recipes in C\"* Chapter 9\n",
    "\n",
    "(a) isolated root $x_1$ bracketed by two points $a$ and $b$\n",
    "\n",
    "(b) there is not necessarily a sign change in the function near a double root\n",
    "\n",
    "(c) pathological function with many roots\n",
    "\n",
    "(d) the function has opposite signs at points $a$ and $b$, but the points bracket a singularity, not a root\n",
    "\n",
    "Assume we know that an interval contains a root\n",
    "\n",
    "=> refine the root\n",
    "\n",
    "Many procedures available\n",
    "\n",
    "speed <=> reliability\n",
    "\n",
    "Usually cannot have both...\n",
    "\n",
    "### 2.2.3 Bisection Method\n",
    "\n",
    "After initial bracketing:\n",
    "\n",
    "![bisection](images/bisection.png)\n",
    "\n",
    "- evaluate the function in the middle of the bracket interval\n",
    "- use the midpoint to replace whichever limit has the same sign\n",
    "- interval gets **exactly halved** after each iteration (=> error is exactly halved)\n",
    "- repeat until you have narrowed the interval to desired accuracy\n",
    "\n",
    "Number of steps $N$ until desired accuracy $\\varepsilon$:\n",
    "\n",
    "$$N = \\log_2\\frac{|a-b|}{\\varepsilon}$$\n",
    "\n",
    "Example:\n",
    "- want accuracy $\\varepsilon=10^{-10}$\n",
    "- initial distance between points: $|a-b|=10^{10}$"
   ]
  },
  {
   "cell_type": "code",
   "execution_count": null,
   "metadata": {},
   "outputs": [],
   "source": [
    "import math\n",
    "\n",
    "math.log(1e10/1e-10,2)"
   ]
  },
  {
   "cell_type": "markdown",
   "metadata": {},
   "source": [
    "Bisection method:\n",
    "- simple idea\n",
    "- cannot fail (provided there is a bracketed root...)\n",
    "- does not extend to more than one variable/equation\n",
    "- slower than other methods\n",
    "\n",
    "Consider our initial example:"
   ]
  },
  {
   "cell_type": "code",
   "execution_count": null,
   "metadata": {},
   "outputs": [],
   "source": [
    "%matplotlib inline\n",
    "import numpy as np\n",
    "import matplotlib.pyplot as plt\n",
    "\n",
    "x = np.arange(-2.0, 2.5, 0.01)\n",
    "\n",
    "plt.plot(x, 2 - np.exp(-x), label=r'$2-e^{-x}$')\n",
    "plt.plot(x, x, label='x')\n",
    "plt.xlabel(\"x\")\n",
    "plt.legend(loc='upper left', fontsize=16, labelspacing=0.3)\n",
    "\n",
    "plt.show()"
   ]
  },
  {
   "cell_type": "code",
   "execution_count": null,
   "metadata": {},
   "outputs": [],
   "source": [
    "from numpy import exp, sign\n",
    "\n",
    "def f(x):\n",
    "    return 2 - exp(-x) - x\n",
    "\n",
    "a = -2\n",
    "b = 0\n",
    "counter = 0\n",
    "accuracy = 1e-10\n",
    "\n",
    "if( sign(f(a)) != sign(f(b)) ):\n",
    "    while(abs(a-b) > accuracy):\n",
    "        counter += 1\n",
    "        midpoint = (a+b)/2\n",
    "        if( sign(f(midpoint)) == sign(f(a)) ):\n",
    "            a = midpoint\n",
    "        else:\n",
    "            b = midpoint\n",
    "            \n",
    "print(\"Bisection converged to \", (a+b)/2, \" after \", counter, \" iterations\")"
   ]
  },
  {
   "cell_type": "markdown",
   "metadata": {},
   "source": [
    "### 2.2.4 Newton's method\n",
    "\n",
    "(also called Newton-Raphson method)\n",
    "\n",
    "![Newton's method](images/newton.png)\n",
    "\n",
    "**Idea**: Taylor expansion around the root\n",
    "\n",
    "$$f(x+\\delta) = 0 = f(x) + f'(x)\\delta + \\mathcal{O}(\\delta^2)$$\n",
    "\n",
    "For small $\\delta$:\n",
    "\n",
    "$$\\delta\\approx-\\frac{f(x)}{f'(x)}$$\n",
    "\n",
    "- faster than relaxation and bisection methods\n",
    "- can be generalized to many variables\n",
    "- usually finds root nearest to starting point (great method to refine roots)\n",
    "<br><br>\n",
    "- need to know the function's derivative\n",
    "- numerical derivatives possible, but reduce efficiency and may lead to roundoff errors\n",
    "<br><br>\n",
    "- problems near extrema (derivative zero)\n",
    "- might enter an infinite cycle\n",
    "- poor global convergence, but can be combined with bisection"
   ]
  },
  {
   "cell_type": "code",
   "execution_count": null,
   "metadata": {},
   "outputs": [],
   "source": [
    "from numpy import exp, sign\n",
    "\n",
    "def f(x):\n",
    "    return 2 - exp(-x) - x\n",
    "\n",
    "def deriv(x):\n",
    "    return exp(-x) - 1\n",
    "\n",
    "x = -2\n",
    "compare_x = 1000\n",
    "counter = 0\n",
    "accuracy = 1e-10\n",
    "\n",
    "while(abs(x-compare_x) > accuracy):\n",
    "    counter += 1\n",
    "    compare_x = x\n",
    "    x = x - f(x)/deriv(x)\n",
    "            \n",
    "print(\"Newton's method converged to \", x, \" after \", counter, \" iterations\")"
   ]
  },
  {
   "cell_type": "markdown",
   "metadata": {},
   "source": [
    "Newton's method converges *quadratically* rather than linearly:\n",
    "\n",
    "$$\n",
    "\\begin{array}{lll}\n",
    "f(x^*) = & 0 &= f(x_n) + (x^*-x_n)f'(x_n) +(x^*-x_n)^2 \\frac{f''(x_n)}{2} + \\ldots\\\\\n",
    "\\Rightarrow & 0 &= \\frac{f(x_n)}{f'(x_n)}+ (x^*-x_n)+\\frac{1}{2}(x^*-x_n)^2 \\frac{f''(x_n)}{f'(x_n)}\n",
    "\\end{array}\n",
    "$$\n",
    "\n",
    "With the Newton formula\n",
    "\n",
    "$$x_{n+1}=x_n-\\frac{f(x_n)}{f'(x_n)}$$\n",
    "\n",
    "we get\n",
    "\n",
    "$$\n",
    "0 = \\underbrace{(x^*-x_{n+1})}_{-\\varepsilon_{n+1}} \\ +\\frac{1}{2}\\ \\underbrace{(x^*-x_n)^2}_{\\varepsilon_n^2}\\ \\frac{f''(x_n)}{f'(x_n)}\n",
    "$$\n",
    "\n",
    "$$\n",
    "\\Rightarrow \\varepsilon_{n+1} \\propto \\varepsilon_n^2\n",
    "$$\n",
    "\n",
    "Near a root, the number of significant digits approximately **doubles**"
   ]
  },
  {
   "cell_type": "markdown",
   "metadata": {},
   "source": [
    "### 2.2.5 Choice of method\n",
    "\n",
    "More methods (explained nicely in \"Numerical Recipes\"):\n",
    "\n",
    "- [secant method](https://en.wikipedia.org/wiki/Secant_method): like Newton's method but with differences instead of derivatives\n",
    "- [Broyden's method](https://en.wikipedia.org/wiki/Broyden%27s_method): generalization of the secant method to more than one dimension\n",
    "- [false position (or regula falsi)](https://en.wikipedia.org/wiki/False_position_method): combination of bisection and secant method\n",
    "- [Ridder's method](https://en.wikipedia.org/wiki/Ridders%27_method): powerful variant of false position\n",
    "- [Brent's method](https://en.wikipedia.org/wiki/Brent%27s_method): combination of the bisection method, the secant method and inverse quadratic interpolation\n",
    "- [Laguerre's method](https://en.wikipedia.org/wiki/Laguerre%27s_method): taylored to polynomials"
   ]
  },
  {
   "cell_type": "markdown",
   "metadata": {},
   "source": [
    "Which method to choose? (according to \"Numerical Recipes\")\n",
    "\n",
    "- When you cannot easily compute the derivative:\n",
    "     - Brent's algorithm: method of choice to find a bracketed root of a general 1d function\n",
    "     - Ridder's method is a close competitor\n",
    "- When you can compute the derivative: \n",
    "     - after bracketing, combine Newton's method with bisection or similar\n",
    "- Roots of polynomials:\n",
    "     - beware that some polynomials are ill-conditioned! (small coefficient changes => large effects)\n",
    "     - Laguerre's method is recommended as a starting point\n",
    "- Multidimensional problems: \n",
    "     - the only elementary method is Newton, which works very well if you can supply a good first guess of the solution \n",
    "     - if Newton's method fails: there are more advanced and complicated, but globally more convergent, alternatives\n",
    "     - more dimensions are harder because we cannot \"trap\" the solution (it can escape via other dimensions)\n",
    "\n",
    "### 2.2.6 Higher dimensions\n",
    "\n",
    "Example in 2d: $f(x,y) = g(x,y) = 0$\n",
    "\n",
    "![Nonlinear multidimensional systems](images/nonlinear_multidim_color.png)\n",
    "\n",
    "Image adapted from *\"Numerical Recipes in C\"*\n",
    "\n",
    "If the two functions $f$ and $g$ are unrelated to each other, so are their \"contour lines\" $f=0$ and $g=0$\n",
    "\n",
    "=> we need to map out the full zero contour lines in order to find all common roots\n",
    "\n",
    "This becomes much harder the more dimensions we have!\n",
    "\n",
    "#### Newton's method for more than one variable\n",
    "\n",
    "Several equations for several variables:\n",
    "\n",
    "$$\n",
    "\\left.\\begin{array}{lll}\n",
    "f_1(x_1,\\ldots x_N) &=& 0\\\\\n",
    " & \\vdots & \\\\\n",
    "f_N(x_1,\\ldots x_N) &=& 0\n",
    "\\end{array}\\right\\}\n",
    "\\mathbf{f}(\\mathbf{x}) = 0\n",
    "$$\n",
    "\n",
    "Taylor expand around root $\\mathbf{x}^*\\equiv (x^*_1,\\ldots,x^*_N)$:\n",
    "\n",
    "$$\n",
    "0 = \\mathbf{f}(\\mathbf{x}^*) = \\mathbf{f}(\\mathbf{x}) + \\nabla\\mathbf{f}\\cdot(\\mathbf{x}^*-\\mathbf{x})+\\ldots,\n",
    "$$\n",
    "\n",
    "where\n",
    "\n",
    "$$\n",
    "\\nabla\\mathbf{f} = \\begin{pmatrix}\n",
    "\\frac{\\partial f_1}{\\partial x_1} & \\ldots & \\frac{\\partial f_1}{\\partial x_N}\\\\\n",
    "\\vdots & & \\vdots \\\\\n",
    "\\frac{\\partial f_N}{\\partial x_1} & \\ldots & \\frac{\\partial f_N}{\\partial x_N}\n",
    "\\end{pmatrix}\n",
    "$$\n",
    "\n",
    "This is also called the [Jacobian matrix](https://en.wikipedia.org/wiki/Jacobian_matrix_and_determinant) (in this case evaluated at $\\mathbf{x}^*$)\n",
    "\n",
    "This is just a set of linear equations for $\\Delta\\mathbf{x}\\equiv \\mathbf{x}-\\mathbf{x}^*$:\n",
    "\n",
    "$$\n",
    "\\nabla\\mathbf{f}\\cdot\\Delta\\mathbf{x} = \\mathbf{f}(\\mathbf{x})\n",
    "$$\n",
    "\n",
    "Algorithm:\n",
    "- choose starting point vector $\\mathbf{x}$\n",
    "- calculate $\\mathbf{f}$ and $\\nabla\\mathbf{f}$ at this vector\n",
    "- solve linear system (see previous lectures) for $\\Delta\\mathbf{x}$\n",
    "- update vector $\\mathbf{x}'=\\mathbf{x}-\\Delta\\mathbf{x}$\n",
    "- repeat until desired accuracy\n",
    "\n",
    "### 2.2.7 SciPy [optimize](https://docs.scipy.org/doc/scipy/reference/optimize.html) library"
   ]
  },
  {
   "cell_type": "code",
   "execution_count": null,
   "metadata": {},
   "outputs": [],
   "source": [
    "import scipy as sp\n",
    "import scipy.optimize as opt\n",
    "\n",
    "def f(x):\n",
    "    return 2 - sp.exp(-x) - x\n",
    "\n",
    "f0 = opt.bisect(f, -2, 0)           # starting interval [-2,0]\n",
    "f1 = opt.newton(f, -2)              # starting point -2\n",
    "\n",
    "print(f0)\n",
    "print(f1)"
   ]
  },
  {
   "cell_type": "code",
   "execution_count": null,
   "metadata": {},
   "outputs": [],
   "source": [
    "f0 = opt.bisect(f, -2, 2)           # must bracket root for bisection"
   ]
  },
  {
   "cell_type": "code",
   "execution_count": null,
   "metadata": {},
   "outputs": [],
   "source": [
    "import numpy as np\n",
    "from scipy.optimize import root\n",
    "\n",
    "def f(x):\n",
    "    fun = [ x[0] * np.cos(x[1]) -4, x[0] * x[1] - x[1] - 5]\n",
    "    return fun\n",
    "\n",
    "x0 = np.array([1.,1.])\n",
    "\n",
    "res = root(f, x0, method='broyden1')    # Broyden method in 2d\n",
    "print(res)"
   ]
  },
  {
   "cell_type": "markdown",
   "metadata": {},
   "source": [
    "### 2.2.8 Function optimization\n",
    "\n",
    "(finding the minimum/maximum of a function)\n",
    "\n",
    "In physics we often need minimization, for instance:\n",
    "\n",
    "- equilibrium problems (potential energy minimum)\n",
    "- quantum mechanical ground state (energy minimum)\n",
    "- minimization of the action, Fermat's principle\n",
    "- data fitting (linear least-squares)\n",
    "\n",
    "Minima | $\\leftrightarrow$ | Maxima\n",
    "-------|-------------------|----------\n",
    "$f(x)$ | $\\leftrightarrow$ | $-f(x)$\n",
    "\n",
    "Relation to root finding:\n",
    "\n",
    "$$\n",
    "\\frac{df}{dx} = 0\n",
    "$$\n",
    "\n",
    "But minimization problems are in general simpler:\n",
    "\n",
    "- might need the minimum of $f(x_1,\\ldots,x_N)$ with respect to several variables\n",
    "- but no analog to simultaneous equations in many variables\n",
    "\n",
    "There can be many maxima and minima:"
   ]
  },
  {
   "cell_type": "code",
   "execution_count": 5,
   "metadata": {},
   "outputs": [
    {
     "data": {
      "image/png": "[encoded data removed]",
      "text/plain": [
       "<matplotlib.figure.Figure at 0x7f61d50acf28>"
      ]
     },
     "metadata": {},
     "output_type": "display_data"
    }
   ],
   "source": [
    "%matplotlib inline\n",
    "import numpy as np\n",
    "import matplotlib.pyplot as plt\n",
    "from scipy.signal import argrelextrema\n",
    "\n",
    "def f(x):\n",
    "    return np.cos(2*np.pi*(x+0.1))*np.sin(3*np.pi*x)\n",
    "\n",
    "x = np.arange(0.0, 2.0, 0.01)\n",
    "y = f(x)\n",
    "\n",
    "localMaxima = argrelextrema(y, np.greater)[0]\n",
    "localMinima = argrelextrema(y, np.less)[0]\n",
    "\n",
    "plt.rcParams.update({'font.size': 14})\n",
    "\n",
    "plt.plot(x, y)\n",
    "plt.plot(x[localMaxima], f(x[localMaxima]), 'r.', markersize=10, label='local maxima')\n",
    "plt.plot(x[localMinima], f(x[localMinima]), 'g.', markersize=10, label='local minima')\n",
    "plt.plot(x[localMaxima[2]], f(x[localMaxima[2]]), 'k.', markersize=12)\n",
    "plt.plot(x[localMinima[4]], f(x[localMinima[4]]), 'k.', markersize=12)\n",
    "\n",
    "plt.xlabel(\"x\")\n",
    "plt.ylabel(\"f(x)\")\n",
    "plt.legend(loc='upper left', frameon=False, labelspacing=0.3)\n",
    "\n",
    "plt.annotate('global maximum', xy=(0.9, 0.9), xytext=(1.2, 0.9),\n",
    "             arrowprops=dict(arrowstyle=\"->\"),\n",
    "             )\n",
    "\n",
    "plt.annotate('global minimum', xy=(1.8, -1.0), xytext=(0.8, -1.2),\n",
    "             arrowprops=dict(arrowstyle=\"->\"),\n",
    "             )\n",
    "\n",
    "plt.xlim(0, 2)\n",
    "plt.ylim(-1.3, 1.9)\n",
    "plt.show()"
   ]
  },
  {
   "cell_type": "markdown",
   "metadata": {},
   "source": [
    "- there may be several global maxima/minima (but usually just one)\n",
    "- often interested in global minimum, e.g. ground state\n",
    "- local minima also interesting, e.g. metastable equilibrium\n",
    "- most methods are good at finding extrema, but cannot distinguish between local and global ones\n",
    "\n",
    "**Golden section search**\n",
    "\n",
    "- similar to bisection for root finding\n",
    "- minimum is bracketet by **three** points: function at center point is lower than at the two outside points\n",
    "- we then choose another point inside the interval and update one of the two outside points"
   ]
  },
  {
   "cell_type": "code",
   "execution_count": null,
   "metadata": {},
   "outputs": [],
   "source": [
    "%matplotlib inline\n",
    "import matplotlib.pyplot as plt\n",
    "import matplotlib.animation\n",
    "import numpy as np\n",
    "from scipy.constants import golden\n",
    "\n",
    "def f(x):\n",
    "    return -np.sin(x)*x\n",
    "\n",
    "x = np.linspace(0, np.pi, 1000)\n",
    "\n",
    "a, b, c = 0.0, (golden - 1.0)*np.pi, np.pi\n",
    "dummy = 1000\n",
    "\n",
    "fig = plt.figure()\n",
    "ax = plt.axes(xlim=(-0.1, np.pi + 0.1), ylim=(-2.0,0.1))\n",
    "\n",
    "line, = ax.plot(x, f(x))\n",
    "points, = ax.plot([a, b, c], [f(a), f(b), f(c)], 'g.', markersize=16)\n",
    "nextpoint, = ax.plot(dummy , dummy, 'k.', markersize=16)\n",
    "\n",
    "plt.xlabel('x')\n",
    "plt.title('f(x)')\n",
    "\n",
    "def animate(i):\n",
    "    global a, b, c, d\n",
    "    \n",
    "    line.set_data(x, f(x))\n",
    "    points.set_data([a,b,c], f([a,b,c]))\n",
    "    \n",
    "    if i%2==1:\n",
    "        if (b-a) > (c-b):\n",
    "            d = a + (golden - 1.0)*(b-a)\n",
    "            if f(d) > f(b):\n",
    "                a = d\n",
    "            else:\n",
    "                c = b\n",
    "                b = d\n",
    "        else:\n",
    "            d = c - (golden - 1.0)*(c-b)\n",
    "            if f(d) > f(b):\n",
    "                c = d\n",
    "            else:\n",
    "                a = b\n",
    "                b = d\n",
    "        nextpoint.set_data(d, f(d))\n",
    "    else:\n",
    "        nextpoint.set_data(dummy, dummy)\n",
    "\n",
    "    return line, points, nextpoint,\n",
    "\n",
    "ani = matplotlib.animation.FuncAnimation(fig, animate, frames=40)\n",
    "\n",
    "from IPython.display import HTML\n",
    "HTML(ani.to_jshtml())"
   ]
  },
  {
   "cell_type": "markdown",
   "metadata": {},
   "source": [
    "How to choose the new point?\n",
    "\n",
    "- we want the two inner points to be the same distance from their corresponding outer points \n",
    "- each new point should divide the interval according to the same ratio (scale similarity)"
   ]
  },
  {
   "cell_type": "code",
   "execution_count": null,
   "metadata": {},
   "outputs": [],
   "source": [
    "a, b, c = 0.0, (golden - 1.0)*np.pi, np.pi\n",
    "d = a + (golden - 1.0)*(b-a)\n",
    "\n",
    "fig = plt.figure()\n",
    "ax = plt.axes(xlim=(-0.1, np.pi + 0.1), ylim=(-2.3,0.1))\n",
    "ax.plot(x, f(x))\n",
    "\n",
    "plt.xlabel('x')\n",
    "plt.title('f(x)')\n",
    "\n",
    "(markerline, stemlines, baseline) = plt.stem([a, b, c], [f(a), f(b), f(c)], \n",
    "                                             'g--', markerfmt='go', bottom = -2.3)\n",
    "plt.stem([d], [f(d)], 'k--', markerfmt='ko', bottom = -2.3)\n",
    "plt.setp(baseline, visible=False)\n",
    "    \n",
    "plt.annotate('', xy=(d, -2.2), xytext=(b, -2.2), arrowprops=dict(arrowstyle=\"<->\"),)\n",
    "plt.annotate('', xy=(c, -2.2), xytext=(b, -2.2), arrowprops=dict(arrowstyle=\"<->\"),)\n",
    "plt.annotate('', xy=(a, -2.2), xytext=(d, -2.2), arrowprops=dict(arrowstyle=\"<->\"),)\n",
    "plt.annotate('', xy=(c, -1.9), xytext=(b, -1.9), arrowprops=dict(arrowstyle=\"<->\"),)\n",
    "plt.annotate('', xy=(a, -1.9), xytext=(b, -1.9), arrowprops=dict(arrowstyle=\"<->\"),)\n",
    "plt.text(1.5,-2.15,'b')\n",
    "plt.text(2.5,-2.15,'a')\n",
    "plt.text(0.7,-1.85,'a + b')\n",
    "plt.text(2.5,-1.85,'a')\n",
    "plt.text(0.6,-2.15,'a')\n",
    "    \n",
    "plt.show()"
   ]
  },
  {
   "cell_type": "markdown",
   "metadata": {},
   "source": [
    "$$\\Rightarrow \\frac{a+b}{a}=\\frac{a}{b}\\equiv\\varphi=1.6180339887\\ldots$$\n",
    "\n",
    "This is the [**Golden Ratio**](https://en.wikipedia.org/wiki/Golden_ratio)"
   ]
  },
  {
   "cell_type": "code",
   "execution_count": null,
   "metadata": {},
   "outputs": [],
   "source": [
    "import numpy as np\n",
    "from scipy.optimize import golden\n",
    "import scipy.constants as spc\n",
    "    \n",
    "a, b, c = 0.0, (spc.golden - 1.0)*np.pi, np.pi\n",
    "    \n",
    "golden(f, brack=(a,b,c))"
   ]
  },
  {
   "cell_type": "code",
   "execution_count": null,
   "metadata": {},
   "outputs": [],
   "source": [
    "from scipy.optimize import minimize_scalar\n",
    "\n",
    "minimize_scalar(f, bracket=(a,b,c), method='Golden')"
   ]
  },
  {
   "cell_type": "code",
   "execution_count": null,
   "metadata": {},
   "outputs": [],
   "source": [
    "from scipy.optimize import minimize_scalar\n",
    "\n",
    "minimize_scalar(f, bounds=(a,b,c), method='Brent')"
   ]
  },
  {
   "cell_type": "markdown",
   "metadata": {},
   "source": [
    "Finding a **global** extremum is, in general, very difficult!\n",
    "\n",
    "Strategies:\n",
    "\n",
    "(i) find many local extrema starting from widely varying starting values (perhaps chosen randomly), and then pick the most extreme of these\n",
    "\n",
    "(ii) perturb a local extremum by taking a finite step away from it, and then see if your routine returns you to a better point, or \"always\" to the same one\n",
    "\n",
    "(iii) simulated annealing methods => later in the lecture\n",
    "\n",
    "**Multidimensional optimization**    \n",
    "\n",
    "- steepest descent (gradient descent)\n",
    "\n",
    "  Idea: follow the functions steepest slope down (for minimum) or up (for maximum)\n",
    "\n",
    "  Gradient of a function\n",
    "\n",
    "  $$\n",
    "  \\nabla f = \\begin{pmatrix}\n",
    "  \\frac{\\partial f}{\\partial x_1} \\\\ \\vdots \\\\ \\frac{\\partial f}{\\partial x_N}\n",
    "  \\end{pmatrix}\n",
    "  $$\n",
    "\n",
    "  points in the direction of the steepest slope!\n",
    "\n",
    "    - take step size proportional to length of the gradient vector\n",
    "    - each new step direction is orthogonal to the previous one (conjugate directions) => must make $90^\\circ$ turn\n",
    "    - typically (slow) zig-zag approach towards extremum\n",
    "    - finds local extrema\n",
    "\n",
    "- conjugate gradient method\n",
    "    - similar to steepest descent, but faster\n",
    "    - determines set of conjugate directions beforehand to avoid zig-zag\n",
    "    - exactly one step in each direction\n",
    "\n",
    "  <img src=\"images/Conjugate_gradient.png\" alt=\"Conjugate gradient vs steepest descent\" style=\"width: 280px;\"/>\n",
    "\n",
    "  <div style=\"text-align: right\">Image from <a href=\"https://en.wikipedia.org/wiki/Conjugate_gradient_method\">Wikipedia</a></div>\n",
    "    \n",
    "- Newton's method\n",
    "\n",
    "- [Nelder-Mead Downhill Simplex Method](https://en.wikipedia.org/wiki/Nelder%E2%80%93Mead_method): geometric method, don't need to know derivatives"
   ]
  }
 ],
 "metadata": {
  "kernelspec": {
   "display_name": "Python 3",
   "language": "python",
   "name": "python3"
  },
  "language_info": {
   "codemirror_mode": {
    "name": "ipython",
    "version": 3
   },
   "file_extension": ".py",
   "mimetype": "text/x-python",
   "name": "python",
   "nbconvert_exporter": "python",
   "pygments_lexer": "ipython3",
   "version": "3.7.3"
  }
 },
 "nbformat": 4,
 "nbformat_minor": 2
}
