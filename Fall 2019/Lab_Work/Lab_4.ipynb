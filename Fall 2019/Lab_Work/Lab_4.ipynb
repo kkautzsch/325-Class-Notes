{
 "cells": [
  {
   "cell_type": "markdown",
   "metadata": {},
   "source": [
    "# Exercise 1\n",
    "\n",
    "For the non-reduced function y you have roundoff errors in the first part and then you are subtracting from the second part making the error larger"
   ]
  },
  {
   "cell_type": "code",
   "execution_count": 3,
   "metadata": {},
   "outputs": [
    {
     "name": "stdout",
     "output_type": "stream",
     "text": [
      "1.9999400013999704e-10\n"
     ]
    }
   ],
   "source": [
    "import math\n",
    "\n",
    "x = 10**-5\n",
    "num = 2*x**2\n",
    "den = 1+3*x+2*x**2\n",
    "\n",
    "y = num/den\n",
    "\n",
    "print(y)"
   ]
  },
  {
   "cell_type": "markdown",
   "metadata": {},
   "source": [
    "# Exercise 2"
   ]
  },
  {
   "cell_type": "code",
   "execution_count": 16,
   "metadata": {},
   "outputs": [
    {
     "name": "stdout",
     "output_type": "stream",
     "text": [
      "[[ 1.   0.   0. ]\n",
      " [-0.5  1.   0. ]\n",
      " [ 0.5  0.   1. ]] Lower triangle for A1\n",
      "\n",
      "[[1.         0.         0.        ]\n",
      " [0.33333333 1.         0.        ]\n",
      " [0.66666667 0.5        1.        ]] Lower triangle for A2\n",
      "\n",
      "[[2. 4. 6.]\n",
      " [0. 2. 4.]\n",
      " [0. 0. 0.]] Upper triangle for A1\n",
      "\n",
      "[[ 3.00000000e+00  4.00000000e+00  5.00000000e+00]\n",
      " [ 0.00000000e+00 -1.33333333e+00 -2.66666667e+00]\n",
      " [ 0.00000000e+00  0.00000000e+00 -7.40148683e-17]] Upper triangle for A2\n",
      "\n",
      "-6.661338147750939e-16 Determinate for A1\n",
      "\n",
      "0.0 Determinate for A2\n",
      "\n",
      "2 Rank for A1\n",
      "\n",
      "2 Rank for A2\n",
      "\n",
      "(array([1., 1., 1.]), array([], dtype=float64), 2, array([8.38408352e+00, 1.30657706e+00, 1.19439988e-16])) Solution using lstsq function for A1\n",
      "\n",
      "(array([1., 1., 1.]), array([], dtype=float64), 2, array([7.85269342e+00, 1.52813810e+00, 1.96571502e-16])) Solution using lstsq function for A2\n"
     ]
    }
   ],
   "source": [
    "#Kaleb Kautzsch\n",
    "import scipy as sp\n",
    "import scipy.linalg as la\n",
    "import numpy.linalg as nl\n",
    "\n",
    "#Recreating the array from Exercise 2\n",
    "A1 = sp.array([[2,4,6],[-1,0,1],[1,2,3]])\n",
    "A2 = sp.array([[3,4,5],[1,0,-1],[2,2,2]])\n",
    "b = sp.array([12,0,6])\n",
    "\n",
    "#Solving for the permutatiion, lower diagonal, and upper diagonal Part (a)\n",
    "P, L, U = la.lu(A1)\n",
    "p, l, u = la.lu(A2)\n",
    "\n",
    "#Solving for x using two different ways\n",
    "# x1 = la.solve(A1,b)\n",
    "# x2 = la.solve(A2,b)\n",
    "x3 = la.lstsq(A1,b)\n",
    "x4 = la.lstsq(A2,b)\n",
    "\n",
    "#Compute the inverse\n",
    "# inv1 = la.inv(A1)\n",
    "# inv2 = la.inv(A2)\n",
    "\n",
    "#Determinate and rank\n",
    "d1 = la.det(A1)\n",
    "d2 = la.det(A2)\n",
    "r1 = nl.matrix_rank(A1)\n",
    "r2 = nl.matrix_rank(A2)\n",
    "\n",
    "print(L, \"Lower triangle for A1\\n\")\n",
    "print(l, \"Lower triangle for A2\\n\")\n",
    "print(U, \"Upper triangle for A1\\n\")\n",
    "print(u, \"Upper triangle for A2\\n\")\n",
    "print(d1, \"Determinate for A1\\n\")\n",
    "print(d2, \"Determinate for A2\\n\")\n",
    "print(r1, \"Rank for A1\\n\")\n",
    "print(r2, \"Rank for A2\\n\")\n",
    "#print(inv1, \"Inverse for A1\\n\")\n",
    "#print(inv2, \"Inverse for A2\\n\")\n",
    "#print(x1, \"Solution using solve function for A1\\n\")\n",
    "#print(x2, \"Solution using solve function for A2\\n\")\n",
    "print(x3, \"Solution using lstsq function for A1\\n\")\n",
    "print(x4, \"Solution using lstsq function for A2\")"
   ]
  },
  {
   "cell_type": "code",
   "execution_count": null,
   "metadata": {},
   "outputs": [],
   "source": []
  }
 ],
 "metadata": {
  "kernelspec": {
   "display_name": "Python 3",
   "language": "python",
   "name": "python3"
  },
  "language_info": {
   "codemirror_mode": {
    "name": "ipython",
    "version": 3
   },
   "file_extension": ".py",
   "mimetype": "text/x-python",
   "name": "python",
   "nbconvert_exporter": "python",
   "pygments_lexer": "ipython3",
   "version": "3.7.3"
  }
 },
 "nbformat": 4,
 "nbformat_minor": 2
}
