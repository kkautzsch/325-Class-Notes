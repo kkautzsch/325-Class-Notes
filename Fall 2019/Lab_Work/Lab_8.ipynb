{
 "cells": [
  {
   "cell_type": "markdown",
   "metadata": {},
   "source": [
    "# Lab 8"
   ]
  },
  {
   "cell_type": "code",
   "execution_count": 2,
   "metadata": {},
   "outputs": [
    {
     "data": {
      "image/png": "[encoded data removed]",
      "text/plain": [
       "<Figure size 432x288 with 1 Axes>"
      ]
     },
     "metadata": {
      "needs_background": "light"
     },
     "output_type": "display_data"
    }
   ],
   "source": [
    "#Kaleb Kautzsch\n",
    "import numpy as np\n",
    "import matplotlib.pyplot as plt\n",
    "import math\n",
    "from scipy.optimize import curve_fit\n",
    "\n",
    "\n",
    "#function to read in data\n",
    "def pullData(dataSet = 'lab8_data3.txt'):\n",
    "    f = open(dataSet)\n",
    "    data = []\n",
    "    for line in f:\n",
    "        data_line = line.rstrip().split(' ')\n",
    "        data.append(data_line)\n",
    "    xVals = []\n",
    "    yVals = []\n",
    "    yError = []\n",
    "    for line in data:\n",
    "        xVals.append(float(line[0]))\n",
    "        yVals.append(float(line[1]))\n",
    "        yError.append(float(line[2]))\n",
    "    return [xVals, yVals, yError]\n",
    "\n",
    "def plotData(dataSet = 'lab8_data3.txt'):\n",
    "    data = pullData(dataSet)\n",
    "    x = data[0]\n",
    "    y = data[1]\n",
    "    sigmay = data[2]\n",
    "    plt.errorbar(x,y,yerr=sigmay,fmt='p')\n",
    "    plt.xlabel('x')\n",
    "    plt.ylabel('y')\n",
    "    plt.title('Plot of Original Data')\n",
    "    plt.show()\n",
    "plotData()\n"
   ]
  },
  {
   "cell_type": "code",
   "execution_count": null,
   "metadata": {},
   "outputs": [],
   "source": []
  }
 ],
 "metadata": {
  "kernelspec": {
   "display_name": "Python 3",
   "language": "python",
   "name": "python3"
  },
  "language_info": {
   "codemirror_mode": {
    "name": "ipython",
    "version": 3
   },
   "file_extension": ".py",
   "mimetype": "text/x-python",
   "name": "python",
   "nbconvert_exporter": "python",
   "pygments_lexer": "ipython3",
   "version": "3.7.3"
  }
 },
 "nbformat": 4,
 "nbformat_minor": 2
}
