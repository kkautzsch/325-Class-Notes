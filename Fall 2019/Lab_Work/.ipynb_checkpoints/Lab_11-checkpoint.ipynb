{
 "cells": [
  {
   "cell_type": "code",
   "execution_count": 47,
   "metadata": {},
   "outputs": [
    {
     "name": "stdout",
     "output_type": "stream",
     "text": [
      "Numerical integration =  0.5709\n",
      "True Value =  0.6366197723675814\n",
      "Error percent =  10.323237703279363 %\n"
     ]
    }
   ],
   "source": [
    "#Lab 11\n",
    "import matplotlib.pyplot as plt\n",
    "import numpy as np\n",
    "import math\n",
    "\n",
    "#Function for Monte Carlo integration\n",
    "def f(x):\n",
    "    return 4/(1+x*x)\n",
    "\n",
    "#Bounds\n",
    "xmin = 0\n",
    "xmax = 1\n",
    "ymin = 2\n",
    "ymax = 4\n",
    "\n",
    "#Begin Monte Carlo\n",
    "area = (xmax - xmin) * (ymax - ymin)\n",
    "points = 100000\n",
    "counter = 0\n",
    "\n",
    "for i in range(int(points)):\n",
    "    x = xmin + (xmax - xmin) * np.random.rand()\n",
    "    y = ymin + (ymax - ymin) * np.random.rand()\n",
    "    if math.fabs(y) <= math.fabs(f(x)):\n",
    "        if f(x) > 0 and y > 0 and y <= f(x):\n",
    "            counter += 1\n",
    "        if f(x) < 0 and y < 0 and y >= f(x):\n",
    "            counter -= 1\n",
    "        \n",
    "fnArea = float(counter)/points\n",
    "print(\"Numerical integration = \", str(fnArea)) \n",
    "print(\"True Value = \", float(2/np.pi))\n",
    "print(\"Error percent = \", (((2/np.pi)-fnArea)/(2/np.pi))*100,'%')"
   ]
  },
  {
   "cell_type": "code",
   "execution_count": 49,
   "metadata": {},
   "outputs": [
    {
     "name": "stdout",
     "output_type": "stream",
     "text": [
      "General Integration =  (3.1415926535897936, 3.4878684980086326e-14)\n"
     ]
    }
   ],
   "source": [
    "#Direct Integration Method using a library\n",
    "import scipy.integrate as integrate\n",
    "\n",
    "def integrand(x):\n",
    "    return 4/(1+x*x)\n",
    "\n",
    "xmin = 0\n",
    "xmax = 1\n",
    "\n",
    "print(\"General Integration: \", integrate.quad(integrand, xmin, xmax))"
   ]
  },
  {
   "cell_type": "code",
   "execution_count": 53,
   "metadata": {},
   "outputs": [
    {
     "name": "stdout",
     "output_type": "stream",
     "text": [
      "The function average is estimated as  3.142649391780956\n",
      "The integral is estimated as  3.142649391780956\n"
     ]
    }
   ],
   "source": [
    "#Direct Sampling\n",
    "N = int(1e6)\n",
    "integral = 0\n",
    "interval = 1\n",
    "\n",
    "for i in range(N):\n",
    "    point = interval*np.random.rand()\n",
    "    integral += integrand(point)\n",
    "    \n",
    "print(\"The function average is estimated as \", integral/N)\n",
    "print(\"The integral is estimated as \", integral/N*interval)"
   ]
  },
  {
   "cell_type": "code",
   "execution_count": null,
   "metadata": {},
   "outputs": [],
   "source": []
  }
 ],
 "metadata": {
  "kernelspec": {
   "display_name": "Python 3",
   "language": "python",
   "name": "python3"
  },
  "language_info": {
   "codemirror_mode": {
    "name": "ipython",
    "version": 3
   },
   "file_extension": ".py",
   "mimetype": "text/x-python",
   "name": "python",
   "nbconvert_exporter": "python",
   "pygments_lexer": "ipython3",
   "version": "3.7.3"
  }
 },
 "nbformat": 4,
 "nbformat_minor": 2
}
