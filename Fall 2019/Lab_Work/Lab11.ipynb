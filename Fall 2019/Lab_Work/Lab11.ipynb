{
 "cells": [
  {
   "cell_type": "markdown",
   "metadata": {},
   "source": [
    "## Lab 11, solutions to exercises and additional notes"
   ]
  },
  {
   "cell_type": "code",
   "execution_count": 2,
   "metadata": {},
   "outputs": [
    {
     "data": {
      "image/png": "[encoded data removed]",
      "text/plain": [
       "<matplotlib.figure.Figure at 0x7f26cc77bcf8>"
      ]
     },
     "metadata": {},
     "output_type": "display_data"
    }
   ],
   "source": [
    "# plotting the function we want to integrate\n",
    "\n",
    "%matplotlib inline\n",
    "import numpy as np\n",
    "import numpy.random as rn\n",
    "import matplotlib.pyplot as plt\n",
    "\n",
    "def f(x):\n",
    "    return 4/(1+x*x)\n",
    "\n",
    "x_plot = np.arange(0,1,0.01)\n",
    "plt.plot(x_plot, f(x_plot))\n",
    "plt.xlim(0, 1)\n",
    "plt.ylim(0, 4)\n",
    "plt.show()"
   ]
  },
  {
   "cell_type": "code",
   "execution_count": 3,
   "metadata": {},
   "outputs": [
    {
     "name": "stdout",
     "output_type": "stream",
     "text": [
      "The integral equals:  3.146\n",
      "Exact value should be:  3.141592653589793\n",
      "Relative error w.r.t. exact value:  0.0014029019342054624\n"
     ]
    }
   ],
   "source": [
    "# Monte Carlo integration by putting the function inside a box\n",
    "\n",
    "nsteps = 10000\n",
    "counter = 0\n",
    "\n",
    "for i in range(nsteps):\n",
    "    \n",
    "    # the box goes from 0 to 1 in x-direction and from 0 to 4 in y-direction\n",
    "    x = rn.rand()\n",
    "    y = 4*rn.rand()\n",
    "    \n",
    "    # check if this point is below the curve (like rejection method)\n",
    "    if y < f(x):\n",
    "        counter += 1\n",
    "    \n",
    "# the number of points under the curve compared to the total number of points\n",
    "# is the same as the area under the curve (integral) compared to the area of the box\n",
    "area_box = 4*1\n",
    "integral = counter/nsteps*area_box\n",
    "print(\"The integral equals: \", integral)\n",
    "print(\"Exact value should be: \", np.pi)\n",
    "print(\"Relative error w.r.t. exact value: \", abs(integral-np.pi)/np.pi)"
   ]
  },
  {
   "cell_type": "code",
   "execution_count": 4,
   "metadata": {},
   "outputs": [
    {
     "name": "stdout",
     "output_type": "stream",
     "text": [
      "The integral equals:  3.1526444672769576\n",
      "Exact value should be:  3.141592653589793\n",
      "Relative error w.r.t. exact value:  0.0035179015568857787\n"
     ]
    }
   ],
   "source": [
    "# direct sampling method\n",
    "\n",
    "nsteps = 10000\n",
    "counter = 0\n",
    "integral = 0\n",
    "\n",
    "for i in range(nsteps):\n",
    "    \n",
    "    # using uniform distribution for x\n",
    "    x = rn.rand()\n",
    "    integral += f(x)\n",
    "    \n",
    "# here the domain has length 1, so the function average is the same as the integral\n",
    "length_interval = 1\n",
    "integral = integral/nsteps*length_interval\n",
    "print(\"The integral equals: \", integral)\n",
    "print(\"Exact value should be: \", np.pi)\n",
    "print(\"Relative error w.r.t. exact value: \", abs(integral-np.pi)/np.pi)"
   ]
  },
  {
   "cell_type": "code",
   "execution_count": 5,
   "metadata": {},
   "outputs": [
    {
     "name": "stdout",
     "output_type": "stream",
     "text": [
      "The integral equals:  3.1690546407616376\n",
      "Exact value should be:  3.141592653589793\n",
      "Relative error w.r.t. exact value:  0.008741422011050526\n"
     ]
    }
   ],
   "source": [
    "# importance sampling\n",
    "\n",
    "# let's try the Gaussian probability distribution\n",
    "def gauss(x):\n",
    "    return np.exp(-x*x/2)/np.sqrt(2*np.pi)\n",
    "\n",
    "nsteps = 10000\n",
    "integral = 0\n",
    "\n",
    "for i in range(nsteps):\n",
    "    \n",
    "    # using gaussian distribution with sigma=1 for x\n",
    "    x = rn.normal()\n",
    "    \n",
    "    # careful, we are only integrating between 0 and 1!\n",
    "    # what happens if x falls outside of this range?\n",
    "    \n",
    "    if x >= 0 and x <= 1:\n",
    "        integral += f(x)/gauss(x)\n",
    "        \n",
    "    # this is not very efficient because we are throwing away most of our x-values\n",
    "    # we could improve this by, for example, taking the absolute value of x, so that negative x are also used\n",
    "    # if we do this, we also need to divide our final result by 2, \n",
    "    # since we have changed the normalization factor\n",
    "\n",
    "integral = integral/nsteps\n",
    "print(\"The integral equals: \", integral)\n",
    "print(\"Exact value should be: \", np.pi)\n",
    "print(\"Relative error w.r.t. exact value: \", abs(integral-np.pi)/np.pi)"
   ]
  },
  {
   "cell_type": "code",
   "execution_count": 12,
   "metadata": {},
   "outputs": [
    {
     "name": "stdout",
     "output_type": "stream",
     "text": [
      "The integral equals:  3.150252860897367\n",
      "Exact value should be:  3.141592653589793\n",
      "Relative error w.r.t. exact value:  0.0027566296024018055\n"
     ]
    }
   ],
   "source": [
    "# Markov chain method\n",
    "\n",
    "# for this example, let's also use importance sampling with exponential p(x)\n",
    "def p(x): \n",
    "    return np.exp(-x)\n",
    "\n",
    "nsteps = 10000\n",
    "x = 0.5\n",
    "integral = 0\n",
    "\n",
    "for i in range(nsteps):\n",
    "    \n",
    "    # changing the value of x by adding a random float between -0.05 and 0.05 to old x\n",
    "    # how we choose the new x is our decision, this is just one option\n",
    "    xchange = rn.rand()*0.1-0.05\n",
    "    xnew = x + xchange\n",
    "    \n",
    "    # careful about leaving the integration domain!\n",
    "    # if this happens, we will just reenter on the other side\n",
    "    if xnew < 0: xnew += 1\n",
    "    if xnew > 1: xnew -= 1\n",
    "    \n",
    "    # Metropolis algorithm\n",
    "    if p(xnew)/p(x) >= 1: \n",
    "        x = xnew\n",
    "    else: \n",
    "        chance = rn.rand()\n",
    "        if chance <= p(xnew)/p(x): \n",
    "            x = xnew\n",
    "    # sampling the integral\n",
    "    integral += f(x)/p(x)\n",
    "\n",
    "# because we are only generating values of x between 0 and 1\n",
    "# we need to recalculate the norm of p(x), namely integral of p(x) between 0 and 1\n",
    "norm = 1-np.exp(-1)\n",
    "integral = integral/nsteps*norm\n",
    "\n",
    "print(\"The integral equals: \", integral)\n",
    "print(\"Exact value should be: \", np.pi)\n",
    "print(\"Relative error w.r.t. exact value: \", abs(integral-np.pi)/np.pi)"
   ]
  },
  {
   "cell_type": "code",
   "execution_count": 13,
   "metadata": {},
   "outputs": [
    {
     "name": "stdout",
     "output_type": "stream",
     "text": [
      "The integral equals:  3.1432179643332145\n",
      "Exact value should be:  3.141592653589793\n",
      "Relative error w.r.t. exact value:  0.0005173524777517664\n"
     ]
    }
   ],
   "source": [
    "# as before, but now we are suggesting xnew uniformly over the entire domain\n",
    "\n",
    "x = 0.5\n",
    "integral = 0\n",
    "\n",
    "for i in range(nsteps):\n",
    "    \n",
    "    # how we choose the new x is our decision, this is another option\n",
    "    xnew = rn.rand()\n",
    "    \n",
    "    # Metropolis algorithm\n",
    "    if p(xnew)/p(x) >= 1: \n",
    "        x = xnew\n",
    "    else: \n",
    "        chance = rn.rand()\n",
    "        if chance <= p(xnew)/p(x): \n",
    "            x = xnew\n",
    "    # sampling the integral\n",
    "    integral += f(x)/p(x)\n",
    "\n",
    "# because we are only generating values of x between 0 and 1\n",
    "# we need to recalculate the norm of p(x), namely integral of p(x) between 0 and 1\n",
    "norm = 1-np.exp(-1)\n",
    "integral = integral/nsteps*norm\n",
    "\n",
    "print(\"The integral equals: \", integral)\n",
    "print(\"Exact value should be: \", np.pi)\n",
    "print(\"Relative error w.r.t. exact value: \", abs(integral-np.pi)/np.pi)"
   ]
  }
 ],
 "metadata": {
  "kernelspec": {
   "display_name": "Python 3",
   "language": "python",
   "name": "python3"
  },
  "language_info": {
   "codemirror_mode": {
    "name": "ipython",
    "version": 3
   },
   "file_extension": ".py",
   "mimetype": "text/x-python",
   "name": "python",
   "nbconvert_exporter": "python",
   "pygments_lexer": "ipython3",
   "version": "3.7.3"
  }
 },
 "nbformat": 4,
 "nbformat_minor": 2
}
