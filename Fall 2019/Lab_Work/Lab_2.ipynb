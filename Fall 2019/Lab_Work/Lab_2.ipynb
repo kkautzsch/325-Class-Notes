{
 "cells": [
  {
   "cell_type": "code",
   "execution_count": 6,
   "metadata": {},
   "outputs": [
    {
     "name": "stdin",
     "output_type": "stream",
     "text": [
      "What is your name?  f\n",
      "What is your age?  101\n",
      "Check your pulse and try again. 2\n"
     ]
    },
    {
     "name": "stdout",
     "output_type": "stream",
     "text": [
      "Hey, f you will be hopefully dead in the year 2117\n"
     ]
    }
   ],
   "source": [
    "#Kaleb Kautzsch\n",
    "\n",
    "userName = input(\"What is your name? \")\n",
    "userAge = int(input(\"What is your age? \"))\n",
    "completed = False\n",
    "\n",
    "while not (completed):\n",
    "    if userAge < 0:\n",
    "        userAge = int(input(\"Cannot have a negative age silly.\"))\n",
    "    elif userAge > 100:\n",
    "        userAge = int(input(\"Check your pulse and try again.\"))\n",
    "    else:\n",
    "        completed = True\n",
    "        year = 2019+100-userAge\n",
    "        print(\"Hey,\",userName, \"you will be hopefully dead in the year\",year)"
   ]
  },
  {
   "cell_type": "code",
   "execution_count": null,
   "metadata": {},
   "outputs": [],
   "source": []
  },
  {
   "cell_type": "code",
   "execution_count": null,
   "metadata": {},
   "outputs": [],
   "source": []
  }
 ],
 "metadata": {
  "kernelspec": {
   "display_name": "Python 3",
   "language": "python",
   "name": "python3"
  },
  "language_info": {
   "codemirror_mode": {
    "name": "ipython",
    "version": 3
   },
   "file_extension": ".py",
   "mimetype": "text/x-python",
   "name": "python",
   "nbconvert_exporter": "python",
   "pygments_lexer": "ipython3",
   "version": "3.7.3"
  }
 },
 "nbformat": 4,
 "nbformat_minor": 2
}
