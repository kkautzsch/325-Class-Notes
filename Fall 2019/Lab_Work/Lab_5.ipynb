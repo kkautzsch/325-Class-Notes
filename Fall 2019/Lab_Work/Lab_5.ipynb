{
 "cells": [
  {
   "cell_type": "code",
   "execution_count": 3,
   "metadata": {},
   "outputs": [
    {
     "name": "stdout",
     "output_type": "stream",
     "text": [
      "(array([1., 1., 1.]), array([], dtype=float64), 2, array([8.38408352e+00, 1.30657706e+00, 1.19439988e-16])) Solution using lstsq function for A1\n",
      "\n"
     ]
    }
   ],
   "source": [
    "#Kaleb Kautzsch\n",
    "import scipy as sp\n",
    "import scipy.linalg as la\n",
    "import numpy.linalg as nl\n",
    "\n",
    "#Recreating the array from Exercise 2\n",
    "A1 = sp.array([[2,4,6],[-1,0,1],[1,2,3]])\n",
    "A2 = sp.array([[3,4,5],[1,0,-1],[2,2,2]])\n",
    "b = sp.array([12,0,6])\n",
    "\n",
    "#Solving for the permutatiion, lower diagonal, and upper diagonal Part (a)\n",
    "P, L, U = la.lu(A1)\n",
    "p, l, u = la.lu(A2)\n",
    "\n",
    "#Solving for x using two different ways\n",
    "# x1 = la.solve(A1,b)\n",
    "# x2 = la.solve(A2,b)\n",
    "x3 = la.lstsq(A1,b)\n",
    "x4 = la.lstsq(A2,b)\n",
    "\n",
    "#Compute the inverse\n",
    "# inv1 = la.inv(A1)\n",
    "# inv2 = la.inv(A2)\n",
    "\n",
    "#Determinate and rank\n",
    "d1 = la.det(A1)\n",
    "d2 = la.det(A2)\n",
    "r1 = nl.matrix_rank(A1)\n",
    "r2 = nl.matrix_rank(A2)\n",
    "\n",
    "# print(L, \"Lower triangle for A1\\n\")\n",
    "# print(l, \"Lower triangle for A2\\n\")\n",
    "# print(U, \"Upper triangle for A1\\n\")\n",
    "# print(u, \"Upper triangle for A2\\n\")\n",
    "# print(d1, \"Determinate for A1\\n\")\n",
    "# print(d2, \"Determinate for A2\\n\")\n",
    "# print(r1, \"Rank for A1\\n\")\n",
    "# print(r2, \"Rank for A2\\n\")\n",
    "# print(inv1, \"Inverse for A1\\n\")\n",
    "# print(inv2, \"Inverse for A2\\n\")\n",
    "# print(x1, \"Solution using solve function for A1\\n\")\n",
    "# print(x2, \"Solution using solve function for A2\\n\")\n",
    "print(x3, \"Solution using lstsq function for A1\\n\")\n",
    "# print(x4, \"Solution using lstsq function for A2\")"
   ]
  },
  {
   "cell_type": "code",
   "execution_count": 3,
   "metadata": {},
   "outputs": [
    {
     "name": "stdout",
     "output_type": "stream",
     "text": [
      "[-2.22044605e-15  3.33066907e-16 -8.88178420e-16] Null Space\n",
      "\n",
      "[[12]\n",
      " [ 0]\n",
      " [ 6]] Check to make sure general solution works \n",
      "\n",
      "[ 6.00000000e+00+0.j -1.00000000e+00+0.j -1.23962303e-15+0.j] Eigen Values \n",
      "\n",
      "[[-8.78458592e-01 -7.07106781e-01  4.08248290e-01]\n",
      " [-6.75737378e-02  7.07106781e-01 -8.16496581e-01]\n",
      " [-4.73016165e-01 -4.22538650e-16  4.08248290e-01]] Eigen Vectors\n"
     ]
    }
   ],
   "source": [
    "eigValues, eigVectors = la.eig(A2)\n",
    "print(sp.dot(A2, eigVectors[:,2]),'Null Space\\n')\n",
    "print(sp.dot(A2, sp.array([[4],[-5],[4]])), 'Check to make sure general solution works \\n')\n",
    "print(eigValues,'Eigen Values \\n')\n",
    "print(eigVectors,'Eigen Vectors')"
   ]
  },
  {
   "cell_type": "code",
   "execution_count": 4,
   "metadata": {},
   "outputs": [
    {
     "name": "stdout",
     "output_type": "stream",
     "text": [
      "[[ 0.40824829]\n",
      " [-0.81649658]\n",
      " [ 0.40824829]] Null Space\n",
      "\n"
     ]
    }
   ],
   "source": [
    "print(la.null_space(A2), 'Null Space\\n')"
   ]
  },
  {
   "cell_type": "code",
   "execution_count": 5,
   "metadata": {},
   "outputs": [
    {
     "data": {
      "text/plain": [
       "((3, 3), (3,), (3, 3))"
      ]
     },
     "execution_count": 5,
     "metadata": {},
     "output_type": "execute_result"
    }
   ],
   "source": [
    "U, S, Vh, = la.svd(A2)\n",
    "U.shape, S.shape, Vh.shape"
   ]
  },
  {
   "cell_type": "code",
   "execution_count": 6,
   "metadata": {},
   "outputs": [
    {
     "name": "stdout",
     "output_type": "stream",
     "text": [
      "[[-0.89997218  0.03016761 -0.43490228]\n",
      " [ 0.15291636 -0.91237232 -0.37972798]\n",
      " [-0.40824829 -0.40824829  0.81649658]] U Transpose\n",
      "\n",
      "[1. 1. 1.] Mother flippin solution\n"
     ]
    }
   ],
   "source": [
    "print(U.transpose(), 'U Transpose\\n')\n",
    "diag = sp.array([[1/S[0],0,0],[0,1/S[1],0],[0,0,0]])\n",
    "first = sp.dot(Vh.transpose(),diag)\n",
    "second = sp.dot(U.transpose(),b)\n",
    "x = sp.dot(first,second)\n",
    "print(x, 'Mother flippin solution')"
   ]
  },
  {
   "cell_type": "markdown",
   "metadata": {},
   "source": [
    "# Hail Cthulhu\n"
   ]
  },
  {
   "cell_type": "code",
   "execution_count": 7,
   "metadata": {},
   "outputs": [],
   "source": [
    "from matplotlib.image import imread\n",
    "from matplotlib.pyplot import imshow\n",
    "import matplotlib.pyplot as plt\n",
    "\n",
    "image = imread('Cthulhu.jpg')"
   ]
  },
  {
   "cell_type": "code",
   "execution_count": 8,
   "metadata": {},
   "outputs": [
    {
     "ename": "MemoryError",
     "evalue": "",
     "output_type": "error",
     "traceback": [
      "\u001b[1;31m---------------------------------------------------------------------------\u001b[0m",
      "\u001b[1;31mMemoryError\u001b[0m                               Traceback (most recent call last)",
      "\u001b[1;32m<ipython-input-8-2493ff5c15b5>\u001b[0m in \u001b[0;36m<module>\u001b[1;34m\u001b[0m\n\u001b[1;32m----> 1\u001b[1;33m \u001b[0mu\u001b[0m\u001b[1;33m,\u001b[0m \u001b[0ms\u001b[0m\u001b[1;33m,\u001b[0m \u001b[0mvh\u001b[0m \u001b[1;33m=\u001b[0m \u001b[0mnl\u001b[0m\u001b[1;33m.\u001b[0m\u001b[0msvd\u001b[0m\u001b[1;33m(\u001b[0m\u001b[0mimage\u001b[0m\u001b[1;33m)\u001b[0m\u001b[1;33m\u001b[0m\u001b[1;33m\u001b[0m\u001b[0m\n\u001b[0m\u001b[0;32m      2\u001b[0m \u001b[0mplt\u001b[0m\u001b[1;33m.\u001b[0m\u001b[0mimshow\u001b[0m\u001b[1;33m(\u001b[0m\u001b[1;33m)\u001b[0m\u001b[1;33m\u001b[0m\u001b[1;33m\u001b[0m\u001b[0m\n",
      "\u001b[1;32m~\\Anaconda3\\lib\\site-packages\\numpy\\linalg\\linalg.py\u001b[0m in \u001b[0;36msvd\u001b[1;34m(a, full_matrices, compute_uv)\u001b[0m\n\u001b[0;32m   1610\u001b[0m \u001b[1;33m\u001b[0m\u001b[0m\n\u001b[0;32m   1611\u001b[0m         \u001b[0msignature\u001b[0m \u001b[1;33m=\u001b[0m \u001b[1;34m'D->DdD'\u001b[0m \u001b[1;32mif\u001b[0m \u001b[0misComplexType\u001b[0m\u001b[1;33m(\u001b[0m\u001b[0mt\u001b[0m\u001b[1;33m)\u001b[0m \u001b[1;32melse\u001b[0m \u001b[1;34m'd->ddd'\u001b[0m\u001b[1;33m\u001b[0m\u001b[1;33m\u001b[0m\u001b[0m\n\u001b[1;32m-> 1612\u001b[1;33m         \u001b[0mu\u001b[0m\u001b[1;33m,\u001b[0m \u001b[0ms\u001b[0m\u001b[1;33m,\u001b[0m \u001b[0mvh\u001b[0m \u001b[1;33m=\u001b[0m \u001b[0mgufunc\u001b[0m\u001b[1;33m(\u001b[0m\u001b[0ma\u001b[0m\u001b[1;33m,\u001b[0m \u001b[0msignature\u001b[0m\u001b[1;33m=\u001b[0m\u001b[0msignature\u001b[0m\u001b[1;33m,\u001b[0m \u001b[0mextobj\u001b[0m\u001b[1;33m=\u001b[0m\u001b[0mextobj\u001b[0m\u001b[1;33m)\u001b[0m\u001b[1;33m\u001b[0m\u001b[1;33m\u001b[0m\u001b[0m\n\u001b[0m\u001b[0;32m   1613\u001b[0m         \u001b[0mu\u001b[0m \u001b[1;33m=\u001b[0m \u001b[0mu\u001b[0m\u001b[1;33m.\u001b[0m\u001b[0mastype\u001b[0m\u001b[1;33m(\u001b[0m\u001b[0mresult_t\u001b[0m\u001b[1;33m,\u001b[0m \u001b[0mcopy\u001b[0m\u001b[1;33m=\u001b[0m\u001b[1;32mFalse\u001b[0m\u001b[1;33m)\u001b[0m\u001b[1;33m\u001b[0m\u001b[1;33m\u001b[0m\u001b[0m\n\u001b[0;32m   1614\u001b[0m         \u001b[0ms\u001b[0m \u001b[1;33m=\u001b[0m \u001b[0ms\u001b[0m\u001b[1;33m.\u001b[0m\u001b[0mastype\u001b[0m\u001b[1;33m(\u001b[0m\u001b[0m_realType\u001b[0m\u001b[1;33m(\u001b[0m\u001b[0mresult_t\u001b[0m\u001b[1;33m)\u001b[0m\u001b[1;33m,\u001b[0m \u001b[0mcopy\u001b[0m\u001b[1;33m=\u001b[0m\u001b[1;32mFalse\u001b[0m\u001b[1;33m)\u001b[0m\u001b[1;33m\u001b[0m\u001b[1;33m\u001b[0m\u001b[0m\n",
      "\u001b[1;31mMemoryError\u001b[0m: "
     ]
    }
   ],
   "source": [
    "u, s, vh = nl.svd(image)\n",
    "plt.imshow()"
   ]
  },
  {
   "cell_type": "code",
   "execution_count": null,
   "metadata": {},
   "outputs": [],
   "source": []
  }
 ],
 "metadata": {
  "kernelspec": {
   "display_name": "Python 3",
   "language": "python",
   "name": "python3"
  },
  "language_info": {
   "codemirror_mode": {
    "name": "ipython",
    "version": 3
   },
   "file_extension": ".py",
   "mimetype": "text/x-python",
   "name": "python",
   "nbconvert_exporter": "python",
   "pygments_lexer": "ipython3",
   "version": "3.7.3"
  }
 },
 "nbformat": 4,
 "nbformat_minor": 2
}
