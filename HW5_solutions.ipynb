{
 "cells": [
  {
   "cell_type": "code",
   "execution_count": 1,
   "metadata": {},
   "outputs": [
    {
     "name": "stdout",
     "output_type": "stream",
     "text": [
      "\n",
      "standard equations yield\n",
      "\n",
      "2 1.0\n",
      "5.0 0.4\n",
      "10.4 0.07692307692307693\n",
      "8.396923076923079 0.018321729571271525\n",
      "1.310156049097899 0.0279687745347386\n",
      "0.0759774241902131 0.7362390824073594\n",
      "0.7404890733011719 1.988521124626821\n",
      "3.0788751163466825 1.291719247766276\n",
      "13.536535665652755 0.19084931029197522\n",
      "35.161656645088655 0.010855535745562367\n",
      "13.432011374622395 0.0016163678607467738\n",
      "0.2932397270847742 0.011024207919000618\n",
      "0.011972174459708588 1.841638368385246\n",
      "1.8419023358662185 1.9997133751601999\n",
      "8.783949400259472 0.45531076832048456\n",
      "35.58607297317904 0.02558926738916367\n",
      "32.431033721243125 0.001578072879767756\n",
      "1.661350860079516 0.0018997466672298542\n",
      "0.007143212139370495 0.5319026315232105\n",
      "0.5319297721101206 1.9998979542475976\n"
     ]
    }
   ],
   "source": [
    "# Exercise 1\n",
    "\n",
    "x = 1 \n",
    "y = 1\n",
    "\n",
    "print('\\nstandard equations yield\\n')\n",
    "for k in range(20):\n",
    "    x, y = y*(1+x**2), 2/(1+x**2)\n",
    "    print(x, y)"
   ]
  },
  {
   "cell_type": "markdown",
   "metadata": {},
   "source": [
    "The relaxation method does not converge. Rearranging the equations\n",
    "\n",
    "$$\n",
    "\\begin{align}\n",
    "x = y(a+x^2) &\\Rightarrow& y = \\frac{x}{a+x^2}\\\\\n",
    "y = {b\\over a+x^2} &\\Rightarrow& a + x^2 = {b\\over y} \\Rightarrow x = \\sqrt{\\frac{b}{y}-a}\n",
    "\\end{align}\n",
    "$$"
   ]
  },
  {
   "cell_type": "code",
   "execution_count": 16,
   "metadata": {},
   "outputs": [
    {
     "name": "stdout",
     "output_type": "stream",
     "text": [
      "\n",
      "rearranged equations yield\n",
      "\n",
      "1.0 0.5\n",
      "1.7320508075688772 0.5\n",
      "1.7320508075688772 0.43301270189221935\n",
      "1.902314945932194 0.43301270189221935\n",
      "1.902314945932194 0.4118632672940252\n",
      "1.9636650714924069 0.4118632672940252\n",
      "1.9636650714924069 0.40438075610800917\n",
      "1.9864122863201303 0.40438075610800917\n",
      "1.9864122863201303 0.40163345114218674\n",
      "1.9949097477571613 0.40163345114218674\n",
      "1.9949097477571613 0.400611243354449\n",
      "1.9980918687165672 0.400611243354449\n",
      "1.9980918687165672 0.4002290339314792\n",
      "1.9992845505793713 0.4002290339314792\n",
      "1.9992845505793713 0.40008586211625663\n",
      "1.9997317204769791 0.40008586211625663\n",
      "1.9997317204769791 0.40003219469412865\n",
      "1.9998993971476058 0.40003219469412865\n",
      "1.9998993971476058 0.40001207250421084\n",
      "1.9999622742071335 0.40001207250421084\n"
     ]
    }
   ],
   "source": [
    "import numpy as np\n",
    "\n",
    "x = 1 \n",
    "y = 1\n",
    "\n",
    "print('\\nrearranged equations yield\\n')\n",
    "for k in range(20):\n",
    "    y, x = x/(1+x**2), np.sqrt(2/y - 1)\n",
    "    print(x, y)"
   ]
  },
  {
   "cell_type": "markdown",
   "metadata": {},
   "source": [
    "The relaxation method converges now. The solution is, as expected:\n",
    "\n",
    "$$x = 2 = b, y = 0.4 = \\frac{2}{1+2^2}$$\n",
    "\n",
    "## Exercise 2\n",
    "\n",
    "Differentiating \n",
    "\n",
    "$$\n",
    "I(\\lambda) = {2\\pi hc^2\\lambda^{-5}\\over e^{hc/\\lambda k_BT}-1}\n",
    "$$\n",
    "\n",
    "with respect to $\\lambda$ and setting the result to zero gives\n",
    "\n",
    "$$\n",
    "\\frac{dI(\\lambda)}{d\\lambda} = {(e^{hc/\\lambda k_BT}-1)2\\pi hc^2(-5)\\lambda^{-6} - 2\\pi hc^2\\lambda^{-5}\\frac{(-hc)}{k_BT\\lambda^2}e^{hc/\\lambda k_BT} \\over \\left(e^{hc/\\lambda k_BT}-1\\right)^2} \\equiv 0\n",
    "$$\n",
    "\n",
    "We may cancel the denominator (multiply both sides of the equation with it) and also cancel some constants and powers of $\\lambda$ in the numerator. Note that this implies $\\lambda\\neq0$ and\n",
    "\n",
    "$$e^{hc/\\lambda k_BT}-1 \\neq 0$$\n",
    "\n",
    "or in other words $\\lambda\\neq\\infty$, which makes sense in terms of physics. Altogether we get\n",
    "\n",
    "$$-5e^{hc/\\lambda k_BT} +5 + \\lambda^{-1}\\frac{hc}{k_BT}e^{hc/\\lambda k_BT}=0.$$\n",
    "\n",
    "Now we multiply both sides of the equation with $e^{-hc/\\lambda k_BT}$:\n",
    "\n",
    "$$-5 +5e^{-hc/\\lambda k_BT} + \\frac{hc}{\\lambda k_BT}=0.$$\n",
    "\n",
    "This is the expected equation. Now substitute $x=hc/\\lambda k_BT$:\n",
    "\n",
    "$$-5 +5e^{-x} + x=0.$$\n",
    "\n",
    "We need to solve this equation for $x$. Then we get $\\lambda = b/T$ with $b=hc/k_Bx$"
   ]
  },
  {
   "cell_type": "code",
   "execution_count": 17,
   "metadata": {},
   "outputs": [
    {
     "data": {
      "image/png": "[encoded data removed]",
      "text/plain": [
       "<Figure size 432x288 with 1 Axes>"
      ]
     },
     "metadata": {},
     "output_type": "display_data"
    }
   ],
   "source": [
    "# before we start solving we should always get a visual representation of the equation\n",
    "% matplotlib inline\n",
    "import matplotlib.pyplot as plt\n",
    "from numpy import exp\n",
    "\n",
    "def f(x):\n",
    "    return 5*exp(-x) + x - 5\n",
    "\n",
    "x = np.arange(-1., 6., 0.01)\n",
    "\n",
    "plt.figure()\n",
    "plt.plot(x, f(x))\n",
    "plt.plot(x, 0*x)\n",
    "plt.show()"
   ]
  },
  {
   "cell_type": "code",
   "execution_count": 18,
   "metadata": {},
   "outputs": [
    {
     "data": {
      "text/plain": [
       "4.965112686157227"
      ]
     },
     "execution_count": 18,
     "metadata": {},
     "output_type": "execute_result"
    }
   ],
   "source": [
    "# the root at x = 0 is unphysical, because it corresponds to lambda = infinity\n",
    "# the second root can be bracketet for example between 4 and 6\n",
    "\n",
    "# bisection method from scipy.optimize\n",
    "\n",
    "import scipy.optimize as opt\n",
    "    \n",
    "opt.bisect(f, 4, 6, xtol=2e-6)"
   ]
  },
  {
   "cell_type": "code",
   "execution_count": 19,
   "metadata": {},
   "outputs": [
    {
     "name": "stdout",
     "output_type": "stream",
     "text": [
      "Bisection converged to  4.965114116668701  after  21  iterations\n"
     ]
    }
   ],
   "source": [
    "# we can also implement the bisection method manually\n",
    "\n",
    "from numpy import sign\n",
    "\n",
    "a = 4\n",
    "b = 6\n",
    "counter = 0\n",
    "accuracy = 1e-6\n",
    "\n",
    "if( sign(f(a)) != sign(f(b)) ):\n",
    "    while(abs(a-b) > accuracy):\n",
    "        counter += 1\n",
    "        midpoint = (a+b)/2\n",
    "        if( sign(f(midpoint)) == sign(f(a)) ):\n",
    "            a = midpoint\n",
    "        else:\n",
    "            b = midpoint\n",
    "            \n",
    "print(\"Bisection converged to \", (a+b)/2, \" after \", counter, \" iterations\")"
   ]
  },
  {
   "cell_type": "markdown",
   "metadata": {},
   "source": [
    "The program gives a solution of $x=4.965114$ which implies a displacement constant of $b=2.8978\\cdot 10^{-3}$mK. Rearranging the Wien law gives $T=b/\\lambda$. For the sun:\n",
    "\n",
    "$$T = {b\\over \\lambda} = {2.8978\\cdot 10^{-3}{\\rm mK}\\over 502{\\rm nK}} = 5772K$$\n",
    "\n",
    "This gives the surface temperature of the sun as 5772K, which is very close to the currently most accurately determined value.\n",
    "\n",
    "## Exercise 3\n",
    "\n",
    "The two equations are\n",
    "\n",
    "$$\n",
    "\\begin{align}\n",
    "f_1(V_1,V_2)\\equiv{V_1-V_+\\over R_1} + {V_1\\over R_2}  + I_0\\bigl[e^{(V_1-V_2)/V_T} - 1\\bigr] &=& 0\\\\\n",
    "f_2(V_1,V_2)\\equiv{V_2-V_+\\over R_3} + {V_2\\over R_4}  - I_0\\bigl[e^{(V_1-V_2)/V_T} - 1\\bigr] &=& 0\n",
    "\\end{align}\n",
    "$$\n",
    "\n",
    "In fact, we could add the two equations to get rid of the nonlinear part and then solve for one of the voltages. This would reduce the problem from two equations in two variables to one equation in one variable. But instead we will practice Newton's method in two dimensions. We can use a library, or do it explicitly:"
   ]
  },
  {
   "cell_type": "code",
   "execution_count": 2,
   "metadata": {},
   "outputs": [
    {
     "name": "stdout",
     "output_type": "stream",
     "text": [
      "3.999904 \t2.000144\n",
      "3.9798949 \t2.0301348\n",
      "3.9599006 \t2.0601405\n",
      "3.939906 \t2.090146\n",
      "3.919899 \t2.120139\n",
      "3.899904 \t2.150144\n",
      "3.8799041 \t2.1801441\n",
      "3.859904 \t2.2101439\n",
      "3.839904 \t2.240144\n",
      "3.819904 \t2.270144\n",
      "3.799904 \t2.300144\n",
      "3.779904 \t2.330144\n",
      "3.759904 \t2.360144\n",
      "3.739904 \t2.390144\n",
      "3.719904 \t2.420144\n",
      "3.699904 \t2.450144\n",
      "3.6799041 \t2.4801439\n",
      "3.6599042 \t2.5101437\n",
      "3.6399045 \t2.5401433\n",
      "3.6199054 \t2.5701419\n",
      "3.5999079 \t2.6001381\n",
      "3.5799152 \t2.6301273\n",
      "3.5599358 \t2.6600963\n",
      "3.5399944 \t2.6900085\n",
      "3.52016 \t2.7197601\n",
      "3.5006245 \t2.7490632\n",
      "3.4819047 \t2.777143\n",
      "3.4652734 \t2.8020899\n",
      "3.4531861 \t2.8202209\n",
      "3.4478093 \t2.828286\n",
      "3.446972 \t2.829542\n",
      "3.4469546 \t2.8295681\n",
      "3.4469546 \t2.8295681\n",
      "3.4469546 \t2.8295681\n"
     ]
    }
   ],
   "source": [
    "import numpy as np\n",
    "\n",
    "Vplus = 5\n",
    "R1 = 1000\n",
    "R2 = 4000\n",
    "R3 = 3000\n",
    "R4 = 2000\n",
    "I0 = 3e-9\n",
    "VT = 0.05\n",
    "\n",
    "accuracy = 1e-10\n",
    "error = 1\n",
    "\n",
    "# initial guess\n",
    "V1 = 1\n",
    "V2 = 1\n",
    "\n",
    "# main loop\n",
    "while error > accuracy:\n",
    "\n",
    "    # equations\n",
    "    Idiode = I0*(np.exp((V1 - V2)/VT) - 1)\n",
    "    f1 = V1/R1 - Vplus/R1 + V1/R2 + Idiode\n",
    "    f2 = V2/R3 - Vplus/R3 + V2/R4 - Idiode\n",
    "\n",
    "    # derivatives\n",
    "    Idiode1 = I0*np.exp((V1 - V2)/VT)/VT\n",
    "    Idiode2 = -Idiode1\n",
    "    f11 = 1/R1 + 1/R2 + Idiode1\n",
    "    f12 = Idiode2\n",
    "    f21 = -Idiode1\n",
    "    f22 = 1/R3 +1/R4 - Idiode2\n",
    "    \n",
    "    # matrix notation\n",
    "    Jacobian = np.array([[f11, f12],[f21, f22]])\n",
    "    f = np.array([f1, f2])\n",
    "    \n",
    "    # Newton's method iteration\n",
    "    deltaV = np.linalg.solve(Jacobian,f)\n",
    "    \n",
    "    # update voltages\n",
    "    V1 -= deltaV[0]\n",
    "    V2 -= deltaV[1]\n",
    "    error = max(abs(deltaV))  # for example, other error estimates possible\n",
    "    \n",
    "    print('%.8g' % V1, '\\t%.8g' % V2)"
   ]
  },
  {
   "cell_type": "markdown",
   "metadata": {},
   "source": [
    "The code converged to $V_1 = 3.447$V and $V_2 = 2.830$V. The difference $V = V_1 - V_2 = 0.617$V, which is indeed close to 0.6V."
   ]
  }
 ],
 "metadata": {
  "kernelspec": {
   "display_name": "Python 3",
   "language": "python",
   "name": "python3"
  },
  "language_info": {
   "codemirror_mode": {
    "name": "ipython",
    "version": 3
   },
   "file_extension": ".py",
   "mimetype": "text/x-python",
   "name": "python",
   "nbconvert_exporter": "python",
   "pygments_lexer": "ipython3",
   "version": "3.4.3"
  }
 },
 "nbformat": 4,
 "nbformat_minor": 2
}
