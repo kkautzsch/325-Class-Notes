{
 "cells": [
  {
   "cell_type": "markdown",
   "metadata": {
    "slideshow": {
     "slide_type": "-"
    }
   },
   "source": [
    "# PHYS 325 Scientific Computing -- Fall 2018"
   ]
  },
  {
   "cell_type": "markdown",
   "metadata": {
    "slideshow": {
     "slide_type": "slide"
    }
   },
   "source": [
    "**Olga Goulko**\n",
    "\n",
    "-  Assistant Professor at Boise State since August 2018\n",
    "-  research areas: quantum many-body physics, condensed matter physics, statistical mechanics\n",
    "-  mostly computational methods: Quantum Monte Carlo simulations, particle-based simulations, simulated annealing, ...\n",
    "-  several large C++ projects, collaborative code, openly available code on [GitHub](https://github.com/olgagoulko/BHM)\n",
    "\n",
    "Office: \n",
    "&nbsp;&nbsp;&nbsp;&nbsp;&nbsp;&nbsp;&nbsp;&nbsp;&nbsp;&nbsp;&nbsp;\n",
    "MP 422\n",
    "\n",
    "Email: \n",
    "&nbsp;&nbsp;&nbsp;&nbsp;&nbsp;&nbsp;&nbsp;&nbsp;&nbsp;&nbsp;&nbsp;&nbsp; \n",
    "olgagoulko@boisestate.edu\n",
    "\n",
    "Office hours: &nbsp; Tue&Th 2-3:30pm"
   ]
  },
  {
   "cell_type": "markdown",
   "metadata": {
    "slideshow": {
     "slide_type": "fragment"
    }
   },
   "source": [
    "## Organizational details\n",
    "> -> see Syllabus on BlackBoard\n",
    "\n",
    "**Lectures**: &nbsp;\n",
    "Tue&Th 10:30-11:45am, RFH 208\n",
    "\n",
    "**Labs**: &nbsp;&nbsp;&nbsp;&nbsp;&nbsp;&nbsp;&nbsp;&nbsp;\n",
    "Wed 1:30-4:15pm & Fri 10:30am-1:15pm, MP 301\n",
    "(less formal, hands-on programming, discuss homework)\n",
    "\n",
    "**Homework**: \n",
    "- will be posted on BlackBoard by 6pm on Fridays (first assignment this week)\n",
    "- solutions due the following **Friday 6pm** via BlackBoard\n",
    "\n",
    "**Grading** (may be adjusted):\n",
    "- homework: 35%\n",
    "- three exams: 45% (15% each)\n",
    "- project 20%\n",
    "\n",
    "**Programming language**:\n",
    "- Python 3 (default): examples in lectures and labs\n",
    "- homework can also be submitted in C++\n",
    "- work on own laptop (Linux, Windows, Mac OS,...) or iMac computers in MP 301 (Mac OS X)\n",
    "\n",
    "**Book suggestions** (no required textbook):\n",
    "\n",
    "- [\"Computational Physics\"](https://boisestate.worldcat.org/title/computational-physics/oclc/60590149), 2nd edition, by Giordano and Nakanishi \n",
    "(useful overview of many topics in computational physics)\n",
    "- \"Computational Physics\" by Mark Newman \n",
    "(guide to Python in computational physics)\n",
    "- \"Numerical Recipes\" by W. H. Press *et al.* \n",
    "(covers very comprehensibly a vast range of numerical topics; [3rd edition](https://boisestate.worldcat.org/title/numerical-recipes-the-art-of-scientific-computing/oclc/226067370) is in C++; older editions, e.g. in C, are freely available [online](http://numerical.recipes/oldverswitcher.html))\n",
    "- [\"Clean Code\"](https://boisestate.worldcat.org/title/clean-code-a-handbook-of-agile-software-craftsmanship/oclc/297575371) by Robert C. Martin (excellent book on good programming practices)\n",
    "\n",
    "All these books will be available in the library on 2 hour reserve or as e-book (\"Clean Code\").\n",
    "\n",
    "There are also many good (and free!) online resources\n",
    "> -> see \"Useful Links\" section on BlackBoard (or choose yourself)"
   ]
  },
  {
   "cell_type": "markdown",
   "metadata": {
    "slideshow": {
     "slide_type": "fragment"
    }
   },
   "source": [
    "## Expected learning outcomes\n",
    "\n",
    "- being able to turn mathematical equations into code\n",
    "- being able to make use of standard algorithms for numerical modeling of physical systems\n",
    "- being able to create simulations of physical systems\n",
    "- being able to use computational methods to read, write and manipulate data\n",
    "- becoming familiar with the programming language and useful programming tools\n",
    "- acquiring good programming style for scientific problems\n",
    "- being able to create useful and informative scientific plots"
   ]
  },
  {
   "cell_type": "markdown",
   "metadata": {
    "slideshow": {
     "slide_type": "fragment"
    }
   },
   "source": [
    "## Course topics\n",
    "(may be adjusted)\n",
    "\n",
    "1. Scientific computing basics\n",
    "\t1. Role of computational physics\n",
    "\t1. Good programming practices\n",
    "\t1. Review of Python basics (data types, syntax, data i/o, plotting)\n",
    "\t1. Numerical roundoff, errors and accuracy, computational efficiency, algorithms\n",
    "2. Numerical methods\n",
    "\t2. Linear algebra (matrix operations, matrix decompositions, linear equations)\n",
    "\t2. Non-linear equations, root finding, function optimization\n",
    "\t2. Data fitting, least-squares, interpolation and extrapolation, splines\n",
    "\t2. Numerical integration\n",
    "\t2. Eigenvalue problems\n",
    "\t2. Ordinary differential equations (Euler, midpoint, Runge-Kutta)\n",
    "\t2. (Fast) Fourier transform\n",
    "3. Simulations of physical systems\n",
    "\t3. Random Systems (random walks, diffusion, entropy, cluster growth)\n",
    "\t3. Monte Carlo simulations (integration, importance sampling, Markov chains, Metropolis algorithm, Ising model)\n",
    "\t3. Simulated annealing (function optimization, spin systems, Ising model)\n",
    "\t3. Molecular dynamics simulations (basic methods, Verlet algorithm, Gear method)"
   ]
  },
  {
   "cell_type": "markdown",
   "metadata": {
    "slideshow": {
     "slide_type": "fragment"
    }
   },
   "source": [
    "## How about you?\n",
    "\n",
    "- background?\n",
    "- future plans?\n",
    "- course expectations?\n",
    "- programming experience? programming languages?\n",
    "- computer resources (laptop? which operating system?)"
   ]
  },
  {
   "cell_type": "markdown",
   "metadata": {
    "slideshow": {
     "slide_type": "slide"
    }
   },
   "source": [
    "# 1. Scientific computing basics"
   ]
  },
  {
   "cell_type": "markdown",
   "metadata": {
    "slideshow": {
     "slide_type": "slide"
    }
   },
   "source": [
    "## 1.1 Role of computational physics\n",
    "\n",
    "<br><br>\n",
    "\n",
    "![role of computational physics](images/theoryexpcomp.png)\n",
    "\n",
    "<br><br><br>\n",
    "\n",
    "- most interesting theoretical models cannot be solved without computers ...\n",
    "- ... or the solution is too tedious to obtain without computers\n",
    "- can provide realistic description of complex systems (materials, fluid dynamics, ...)\n",
    "- computational tools are important in every branch of physics (incl. experiment => data analysis, computer graphics)\n",
    "\n",
    "<br>\n",
    "\n",
    "<div style=\"text-align: right\"> <i>\"Numerics is the continuation of theory by other means\"</i><br>\n",
    "Guy Cohen, Tel Aviv University </div>"
   ]
  },
  {
   "cell_type": "markdown",
   "metadata": {
    "slideshow": {
     "slide_type": "slide"
    }
   },
   "source": [
    "### Uses of computational methods\n",
    "\n",
    "- precision calculations\n",
    "     - validation, benchmark (corrective power)\n",
    "     - predictions for applications\n",
    "     - control and design (often more cost effective; e.g. design of airplanes, ships, materials, ...)\n",
    "- discovery of new phenomena => numerical \"experiments\"\n",
    "- fundamental understanding of physical phenomena\n",
    "     - find \"correct\" theoretical model\n",
    "     - check when approximations work and why\n",
    "     - \"dissect\" fundamental models => not possible in experiments"
   ]
  },
  {
   "cell_type": "markdown",
   "metadata": {
    "slideshow": {
     "slide_type": "slide"
    }
   },
   "source": [
    "### Examples of problems solved computationally\n",
    "\n",
    "- Condensed Matter Physics\n",
    "\n",
    "  <img src=\"images/ultracoldbosons.jpg\" alt=\"Drawing\" style=\"width: 500px;\"/>\n",
    "\n",
    "  Experiment (front row) and simulation (back row) of ultracold bosons in an optical lattice<br>\n",
    "  *Image from ScienceDaily; Image credit: Max Planck Institute of Quantum Optics; Paper reference:* [Trotzky *et al.*, Nature Physics 6, 998-1004 (2010)](https://www.nature.com/articles/nphys1799)\n",
    "  <br><br>\n",
    "\n",
    "- Astrophysics\n",
    "\n",
    "  <img src=\"images/planetformation.png\" alt=\"Drawing\" style=\"width: 500px;\"/>\n",
    "  \n",
    "  Massive planet interacting with the gaseous protoplanetary disk<br>\n",
    "  *Image credit:* [Phil Armitage](http://jilawww.colorado.edu/~pja/index.html)\n",
    "  <br><br>\n",
    "    \n",
    "- Particle physics (Quantum Chromodynamics)\n",
    "    \n",
    "  <img src=\"images/FluxTubeAnim2.gif\" alt=\"Drawing\" style=\"width: 400px;\"/>\n",
    "\n",
    "  Animation of the flux tube between a quark and an antiquark<br>\n",
    "  *Image credit:* [Derek B. Leinweber, University of Adelaide](http://www.physics.adelaide.edu.au/theory/staff/leinweber/VisualQCD/Nobel/)"
   ]
  },
  {
   "cell_type": "markdown",
   "metadata": {
    "slideshow": {
     "slide_type": "slide"
    }
   },
   "source": [
    "### Computational improvements\n",
    "\n",
    "- faster CPUs\n",
    "- more memory\n",
    "- supercomputers\n",
    "- parallelization, GPUs\n",
    "- also improvements of algorithms leading to better scaling"
   ]
  },
  {
   "cell_type": "markdown",
   "metadata": {
    "slideshow": {
     "slide_type": "slide"
    }
   },
   "source": [
    "## 1.2 Good programming practices\n",
    "\t\n",
    "- essential for the rest of the course (and anything else, for that matter)\n",
    "- learn good practices right away and pay attention to stick to them\n",
    "- in particular very important for final project\n",
    "\n",
    "> Writing good code takes a lot of time and practice! But this is a great opportunity to get started!\n",
    "\n",
    "A lot of this section is adapted from the [\"Clean Code\"](https://boisestate.worldcat.org/title/clean-code-a-handbook-of-agile-software-craftsmanship/oclc/297575371&referer=brief_results) book"
   ]
  },
  {
   "cell_type": "markdown",
   "metadata": {
    "slideshow": {
     "slide_type": "slide"
    }
   },
   "source": [
    "```c++\n",
    "#include <stdio.h>\n",
    "main(t,_,a)\n",
    "char *a;\n",
    "{\n",
    "return!0<t?t<3?main(-79,-13,a+main(-87,1-_,main(-86,0,a+1)+a)):\n",
    "1,t<_?main(t+1,_,a):3,main(-94,-27+t,a)&&t==2?_<13?\n",
    "main(2,_+1,\"%s %d %d\\n\"):9:16:t<0?t<-72?main(_,t,\n",
    "\"@n'+,#'/*{}w+/w#cdnr/+,{}r/*de}+,/*{*+,/w{%+,/w#q#n+,/#{l+,/n{n+,/+#n+,/#\\\n",
    ";#q#n+,/+k#;*+,/'r :'d*'3,}{w+K w'K:'+}e#';dq#'l \\\n",
    "q#'+d'K#!/+k#;q#'r}eKK#}w'r}eKK{nl]'/#;#q#n'){)#}w'){){nl]'/+#n';d}rw' i;# \\\n",
    "){nl]!/n{n#'; r{#w'r nc{nl]'/#{l,+'K {rw' iK{;[{nl]'/w#q#n'wk nw' \\\n",
    "iwk{KK{nl]!/w{%'l##w#' i; :{nl]'/*{q#'ld;r'}{nlwb!/*de}'c \\\n",
    ";;{nl'-{}rw]'/+,}##'*}#nc,',#nw]'/+kd'+e}+;#'rdq#w! nr'/ ') }+}{rl#'{n' ')#\\\n",
    "}'+}##(!!/\")\n",
    "  :t<-50?_==*a?putchar(31[a]):main(-65,_,a+1):main((*a=='/')+t,_,a+1)\n",
    "    :0<t?main(2,2,\"%s\"):*a=='/'||main(0,main(-61,*a,\n",
    "\"!ek;dc i@bK'(q)-[w]*%n+r3#l,{}:\\nuwloca-O;m .vpbks,fxntdCeghiry\"),a+1);\n",
    "}\n",
    "```"
   ]
  },
  {
   "cell_type": "markdown",
   "metadata": {
    "slideshow": {
     "slide_type": "slide"
    }
   },
   "source": [
    "Reference to the original version of the code [here](http://www.samskivert.com/internet/deep/1997/01/08/body.html)\n",
    "\n",
    "This used to be considered skillful code => can you think of why?"
   ]
  },
  {
   "cell_type": "markdown",
   "metadata": {
    "slideshow": {
     "slide_type": "slide"
    }
   },
   "source": [
    "- complicated => good code? \n",
    "- short\n",
    "- uses many features of the language\n",
    ">\t=> these are actually bad things\n",
    "\n",
    "- complicated means that code cannot be easily used by others (this includes future self!)\n",
    "\t- cannot be easily modified\n",
    "\t- cannot be easily extended\n",
    "\t- very hard to debug!\n",
    "- don't need to use all features of a language => can write \"simple\" code in C++, for example\n",
    "- length of code is not a criterion => even efficiency can be sacrificed for readability        \n",
    "\n",
    "<br>\n",
    "\n",
    "<img src=\"https://imgs.xkcd.com/comics/is_it_worth_the_time.png\" alt=\"Drawing\" style=\"width: 500px;\"/>\n",
    "\n",
    "\n",
    "Source: [xkcd](https://xkcd.com/1205/)"
   ]
  },
  {
   "cell_type": "markdown",
   "metadata": {},
   "source": [
    "### What is clean code?\n",
    "\n",
    "<div style=\"text-align: right\"> <i>\"Clean code reads like well-written prose.\"</i><br>\n",
    "Grady Booch, quoted in \"Clean Code\"</div>\n",
    "\n",
    "Hemingway:\n",
    "\n",
    "> Manuel drank his brandy. He felt sleepy himself. It was too hot to go out into the town. Besides there was nothing to do. He wanted to see Zurito. He would go to sleep while he waited.\n",
    "\n",
    "Faulkner:\n",
    "\n",
    "> He did not feel weak, he was merely luxuriating in that supremely gutful lassitude of convalescence in which time, hurry, doing, did not exist, the accumulating seconds and minutes and hours to which in its well state the body is slave both waking and sleeping, now reversed and time now the lip-server and mendicant to the body's pleasure instead of the body thrall to time's headlong course.\n",
    "\n",
    "<div style=\"text-align: right\"> <i>... but please, Hemingway rather than Faulkner!</i></div>\n",
    "\n",
    "- logical, straightforward\n",
    "- simple and direct\n",
    "- readable\n",
    "- elegant\n",
    "- focused\n",
    "- thought through"
   ]
  },
  {
   "cell_type": "markdown",
   "metadata": {
    "slideshow": {
     "slide_type": "slide"
    }
   },
   "source": [
    "**Problem**:\n",
    "- we are physicists, not computer scientists => coding is mostly a tool for us\n",
    "- no or little formal computer science education\n",
    "- often need to write very complex code => a lot of debugging\n",
    "- code is often written by several people and passed down from generation to generation\n",
    "\n",
    "Bad code can slow you down and make your work very difficult!"
   ]
  },
  {
   "cell_type": "markdown",
   "metadata": {
    "slideshow": {
     "slide_type": "slide"
    }
   },
   "source": [
    "### Version Control\n",
    "\n",
    "Look familiar?\n",
    "\n",
    "<img src=\"images/badFolders.png\" alt=\"Drawing\" style=\"width: 550px;\"/>\n",
    "\n",
    "Use version control! You should use [Git](https://git-scm.com/) and [GitHub](https://github.com/) for storing and/or sharing code online"
   ]
  },
  {
   "cell_type": "markdown",
   "metadata": {
    "slideshow": {
     "slide_type": "slide"
    }
   },
   "source": [
    "### Variable names\n",
    "\n",
    ">    Q: What's the worst variable name ever?<br>\n",
    ">    A: data\n",
    "\n",
    ">    Q: What's the second-worst variable name?<br>\n",
    ">    A: data2\n",
    "\n",
    "(*Source*: https://hilton.org.uk/blog/meaningless-variable-names)\n",
    "\n",
    "<br>\n",
    "\n",
    "- use intention-revealing names<br>\n",
    "  => instead of ```f(a,b,c)``` use ```salaryFormula(typeOfContract,hoursWorked,yearlyBonus)```\n",
    "- avoid disinformation\n",
    "     - similar names, such as ```XYZControllerForEfficientHandlingOfStrings```, ```XYZControllerForEfficientStorageOfStrings```\n",
    "     - l, I, O\n",
    "- be consistent <br>\n",
    "  => ```hours_worked``` and ```hoursWorked``` both fine, but try not to mix\n",
    "- use pronounceable names (even if they are longer)\n",
    "- use searchable names<br>\n",
    "   - try to avoid single letter variables outside small loops\n",
    "   - fix typos in names, e.g. ```configruation```\n",
    "- don't be funny <br>\n",
    "  ```HolyHandGrenade``` => better name: ```deleteItems```\n",
    "- pick one word per concept (for example, don't interchange \"get\", \"retrieve\", \"fetch\")"
   ]
  },
  {
   "cell_type": "markdown",
   "metadata": {
    "slideshow": {
     "slide_type": "slide"
    }
   },
   "source": [
    "### Functions\n",
    "\n",
    "- functions should be small => if it's too long, break it into several functions\n",
    "- functions should do one thing only!\n",
    "- descriptive function names (like for variables!)\n",
    "- use as few arguments as possible\n",
    "\n",
    "> Object oriented programming is great for this, but beyond the scope of our lecture"
   ]
  },
  {
   "cell_type": "markdown",
   "metadata": {
    "slideshow": {
     "slide_type": "slide"
    }
   },
   "source": [
    "### Comments\n",
    "\n",
    "Comments are good, aren't they?\n",
    "\n",
    "- readable code instead of comments!\n",
    "- comments are often not up-to-date...\n",
    "- typos in comments are not easily spotted and can mislead\n",
    "- don't comment bad code => improve it\n",
    "- don't comment out obsolete code => remove it (use version control!)\n",
    "- don't use redundant comments if the code is clear anyway\n",
    "\n",
    "Good comments:\n",
    "\n",
    "- license, copyright information etc.\n",
    "- background information (for example: \"the XYZ algorithm is used here because it is more efficient for ABC systems\")\n",
    "- clarification of something that is hard to explain in code, e.g. a complicated algorithm\n",
    "- TODO comments and warnings (e.g. \"this test takes a long time to run\")"
   ]
  },
  {
   "cell_type": "markdown",
   "metadata": {
    "slideshow": {
     "slide_type": "slide"
    }
   },
   "source": [
    "### Formatting\n",
    "\n",
    "Formatting should be\n",
    "- nice\n",
    "- consistent\n",
    "- obey simple rules\n",
    "\n",
    "Python forces proper indentation!\n",
    "\n",
    "If your coding project is long:\n",
    "- break it up into several files\n",
    "- each file takes care of one particular aspect of the code\n",
    "- use Makefile or CMake to compile large C++ projects"
   ]
  },
  {
   "cell_type": "markdown",
   "metadata": {
    "slideshow": {
     "slide_type": "slide"
    }
   },
   "source": [
    "### Testing\n",
    "\n",
    "- Does the output look reasonable? <br>\n",
    "    => you should have some rough intuition what the output should be\n",
    "- Check agreement with exact results <br>\n",
    "    => usually available in certain limits or for simplifications\n",
    "- Check that answer does not depend on auxiliary numerical parameters\n",
    "\n",
    "2 types of tests for codes:\n",
    "- Integration / acceptance tests: code gives an expected non-trivial result\n",
    "- Unit tests: small tests that check that a function or a class behaves as intended\n",
    "\n",
    "**Unit tests**:\n",
    "- Unit tests test small features \n",
    "   - means being able to decouple code\n",
    "   - forces you to write modular codes with clear dependencies\n",
    "- Tests are removed from the main code\n",
    "- Unit tests are fast and easy to rerun\n",
    "\n",
    "Advantages:\n",
    "- Unit tests are the best documentation: show every single way a function can be used\n",
    "- Unit tests make you remember the special cases!\n",
    "- Bugs that break old code while extending new code are automatically detected and immediately fixed!\n",
    "- Cut down the debug time, at a small cost\n",
    "\n",
    "> Unit tests pay off whenever we spend long time debugging and little time writing code\n",
    "\n",
    "Proper tests give you confidence in your code:\n",
    "\n",
    "- Confidence that code works\n",
    "- Confidence that others won't break collaborative code\n",
    "- Confidence that your own updates won't break existing code\n",
    "- Confidence that code works on different machines, operating systems,...\n",
    "\n",
    "> => With good unit tests you will not worry about changing and improving your code!\n",
    "\n",
    "Advanced: Test Driven Development (write you tests before you write your code!)"
   ]
  },
  {
   "cell_type": "markdown",
   "metadata": {
    "slideshow": {
     "slide_type": "slide"
    }
   },
   "source": [
    "### Do not duplicate code\n",
    "I repeat, do not duplicate code!\n",
    "\n",
    "- hard to keep up to date\n",
    "- changes need to be duplicated also\n",
    "- easy to lose track\n",
    "- mistakes propagate\n",
    "\n",
    "> Try to abstract => write functions (more advanced: object oriented programming)"
   ]
  },
  {
   "cell_type": "markdown",
   "metadata": {
    "slideshow": {
     "slide_type": "slide"
    }
   },
   "source": [
    "### Libraries\n",
    "\n",
    "Use libraries => don't reinvent the wheel!\n",
    "\n",
    "<table>\n",
    "<tr>\n",
    "<td style=\"vertical-align:top; width:14em; font-size:11pt\">\n",
    "<p>additional dependencies </p>\n",
    "<p>need to learn how to use it </p>\n",
    "<p>it may be buggy </p>\n",
    "</td>\n",
    "<td style=\"vertical-align:top; width:3em; font-size:11pt\">\n",
    "<p>=> </p>\n",
    "<p>=> </p>\n",
    "<p>=> </p>\n",
    "</td>\n",
    "<td style=\"vertical-align:top; width:25em; font-size:11pt\">\n",
    "<p>but keeps your code short and clean </p>\n",
    "<p>learn it once, keep using it </p>\n",
    "<p>it's much more likely that your code will be buggy... </p>\n",
    "</td>\n",
    "</tr>\n",
    "</table>\n",
    "\n",
    "We will discuss useful libraries for the methods we will learn in the second part of the course."
   ]
  },
  {
   "cell_type": "markdown",
   "metadata": {
    "slideshow": {
     "slide_type": "slide"
    }
   },
   "source": [
    "### Phew, we just covered a lot of rules...\n",
    "(and there are a lot more)\n",
    "\n",
    "- but don't be too dogmatic\n",
    "- you don't need to make everything perfect at once\n",
    "- you can (and should) keep refactoring your code later\n",
    "\n",
    "> With time and practice you will keep improving your code!        "
   ]
  },
  {
   "cell_type": "markdown",
   "metadata": {
    "slideshow": {
     "slide_type": "slide"
    }
   },
   "source": [
    "### Different programming languages\n",
    "    \n",
    "- Compiled languages (Fortran, C++, C, ...)\n",
    "    - Requires entire program\n",
    "    - Compilation translates program to machine languages\n",
    "    - Executable object file\n",
    "    - Powerful, fast, and efficient: great for numerically intensive projects\n",
    "    - Less forgiving, can be slower in development\n",
    "- Interpreted languages (Python, R, Julia, Matlab, Mathematica, ...)\n",
    "    - Interpreter can compile one sentence\n",
    "    - Can execute and see it work immediately\n",
    "    - Efficient and powerful for small, less numerically intensive projects\n",
    "    - Generally easier development\n",
    "    - Can be used as proof-of-concept code for compiled programs"
   ]
  }
 ],
 "metadata": {
  "kernelspec": {
   "display_name": "Python 3",
   "language": "python",
   "name": "python3"
  },
  "language_info": {
   "codemirror_mode": {
    "name": "ipython",
    "version": 3
   },
   "file_extension": ".py",
   "mimetype": "text/x-python",
   "name": "python",
   "nbconvert_exporter": "python",
   "pygments_lexer": "ipython3",
   "version": "3.4.3"
  }
 },
 "nbformat": 4,
 "nbformat_minor": 2
}
